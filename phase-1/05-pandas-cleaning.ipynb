{
 "cells": [
  {
   "cell_type": "markdown",
   "metadata": {},
   "source": [
    "# Topic 05: Data Cleaning in Pandas\n",
    "\n",
    "Jupyter Notebook extensions: https://towardsdatascience.com/jupyter-notebook-extensions-517fa69d2231\n",
    "\n",
    "1. Map and Apply\n",
    "2. Groupby\n",
    "3. Joining DataFrames\n",
    "4. Missing Values"
   ]
  },
  {
   "cell_type": "markdown",
   "metadata": {
    "heading_collapsed": true
   },
   "source": [
    "## `.map()` and `.apply()`\n",
    "\n",
    "These are two methods used to run functions across multiple rows/columns of your DataFrame, and there are multiple ways to use each."
   ]
  },
  {
   "cell_type": "code",
   "execution_count": 2,
   "metadata": {
    "hidden": true
   },
   "outputs": [
    {
     "name": "stdout",
     "output_type": "stream",
     "text": [
      "Collecting jupyter_contrib_nbextensions\n",
      "  Downloading jupyter_contrib_nbextensions-0.5.1-py2.py3-none-any.whl (20.9 MB)\n",
      "Collecting jupyter-nbextensions-configurator>=0.4.0\n",
      "  Downloading jupyter_nbextensions_configurator-0.4.1.tar.gz (479 kB)\n",
      "Collecting pyyaml\n",
      "  Downloading PyYAML-5.3.1-cp36-cp36m-win_amd64.whl (215 kB)\n",
      "Requirement already satisfied: jupyter-core in c:\\users\\melod\\anaconda3\\envs\\learn-env\\lib\\site-packages (from jupyter_contrib_nbextensions) (4.6.3)\n",
      "Requirement already satisfied: notebook>=4.0 in c:\\users\\melod\\anaconda3\\envs\\learn-env\\lib\\site-packages (from jupyter_contrib_nbextensions) (5.3.1)\n",
      "Collecting jupyter-highlight-selected-word>=0.1.1\n",
      "  Downloading jupyter_highlight_selected_word-0.2.0-py2.py3-none-any.whl (11 kB)\n",
      "Requirement already satisfied: tornado in c:\\users\\melod\\anaconda3\\envs\\learn-env\\lib\\site-packages (from jupyter_contrib_nbextensions) (5.1.1)\n",
      "Collecting jupyter-contrib-core>=0.3.3\n",
      "  Downloading jupyter_contrib_core-0.3.3-py2.py3-none-any.whl (18 kB)\n",
      "Collecting lxml\n",
      "  Downloading lxml-4.5.2-cp36-cp36m-win_amd64.whl (3.5 MB)\n",
      "Requirement already satisfied: ipython-genutils in c:\\users\\melod\\anaconda3\\envs\\learn-env\\lib\\site-packages (from jupyter_contrib_nbextensions) (0.2.0)\n",
      "Requirement already satisfied: traitlets>=4.1 in c:\\users\\melod\\anaconda3\\envs\\learn-env\\lib\\site-packages (from jupyter_contrib_nbextensions) (4.3.3)\n",
      "Requirement already satisfied: nbconvert>=4.2 in c:\\users\\melod\\anaconda3\\envs\\learn-env\\lib\\site-packages (from jupyter_contrib_nbextensions) (5.6.1)\n",
      "Collecting jupyter-latex-envs>=1.3.8\n",
      "  Downloading jupyter_latex_envs-1.4.6.tar.gz (861 kB)\n",
      "Requirement already satisfied: pywin32>=1.0; sys_platform == \"win32\" in c:\\users\\melod\\anaconda3\\envs\\learn-env\\lib\\site-packages (from jupyter-core->jupyter_contrib_nbextensions) (227)\n",
      "Requirement already satisfied: Send2Trash in c:\\users\\melod\\anaconda3\\envs\\learn-env\\lib\\site-packages (from notebook>=4.0->jupyter_contrib_nbextensions) (1.5.0)\n",
      "Requirement already satisfied: ipykernel in c:\\users\\melod\\anaconda3\\envs\\learn-env\\lib\\site-packages (from notebook>=4.0->jupyter_contrib_nbextensions) (5.3.4)\n",
      "Requirement already satisfied: terminado>=0.8.1 in c:\\users\\melod\\anaconda3\\envs\\learn-env\\lib\\site-packages (from notebook>=4.0->jupyter_contrib_nbextensions) (0.9.1)\n",
      "Requirement already satisfied: nbformat in c:\\users\\melod\\anaconda3\\envs\\learn-env\\lib\\site-packages (from notebook>=4.0->jupyter_contrib_nbextensions) (5.0.7)\n",
      "Requirement already satisfied: jupyter-client>=5.2.0 in c:\\users\\melod\\anaconda3\\envs\\learn-env\\lib\\site-packages (from notebook>=4.0->jupyter_contrib_nbextensions) (6.1.6)\n",
      "Requirement already satisfied: jinja2 in c:\\users\\melod\\anaconda3\\envs\\learn-env\\lib\\site-packages (from notebook>=4.0->jupyter_contrib_nbextensions) (2.11.2)\n",
      "Requirement already satisfied: setuptools in c:\\users\\melod\\anaconda3\\envs\\learn-env\\lib\\site-packages (from jupyter-contrib-core>=0.3.3->jupyter_contrib_nbextensions) (49.6.0.post20200814)\n",
      "Requirement already satisfied: decorator in c:\\users\\melod\\anaconda3\\envs\\learn-env\\lib\\site-packages (from traitlets>=4.1->jupyter_contrib_nbextensions) (4.4.2)\n",
      "Requirement already satisfied: six in c:\\users\\melod\\anaconda3\\envs\\learn-env\\lib\\site-packages (from traitlets>=4.1->jupyter_contrib_nbextensions) (1.15.0)\n",
      "Requirement already satisfied: mistune<2,>=0.8.1 in c:\\users\\melod\\anaconda3\\envs\\learn-env\\lib\\site-packages (from nbconvert>=4.2->jupyter_contrib_nbextensions) (0.8.4)\n",
      "Requirement already satisfied: pygments in c:\\users\\melod\\anaconda3\\envs\\learn-env\\lib\\site-packages (from nbconvert>=4.2->jupyter_contrib_nbextensions) (2.6.1)\n",
      "Requirement already satisfied: defusedxml in c:\\users\\melod\\anaconda3\\envs\\learn-env\\lib\\site-packages (from nbconvert>=4.2->jupyter_contrib_nbextensions) (0.6.0)\n",
      "Requirement already satisfied: pandocfilters>=1.4.1 in c:\\users\\melod\\anaconda3\\envs\\learn-env\\lib\\site-packages (from nbconvert>=4.2->jupyter_contrib_nbextensions) (1.4.2)\n",
      "Requirement already satisfied: bleach in c:\\users\\melod\\anaconda3\\envs\\learn-env\\lib\\site-packages (from nbconvert>=4.2->jupyter_contrib_nbextensions) (3.1.5)\n",
      "Requirement already satisfied: entrypoints>=0.2.2 in c:\\users\\melod\\anaconda3\\envs\\learn-env\\lib\\site-packages (from nbconvert>=4.2->jupyter_contrib_nbextensions) (0.3)\n",
      "Requirement already satisfied: testpath in c:\\users\\melod\\anaconda3\\envs\\learn-env\\lib\\site-packages (from nbconvert>=4.2->jupyter_contrib_nbextensions) (0.4.4)\n",
      "Requirement already satisfied: ipython in c:\\users\\melod\\anaconda3\\envs\\learn-env\\lib\\site-packages (from jupyter-latex-envs>=1.3.8->jupyter_contrib_nbextensions) (7.16.1)\n",
      "Requirement already satisfied: pywinpty>=0.5; os_name == \"nt\" in c:\\users\\melod\\anaconda3\\envs\\learn-env\\lib\\site-packages (from terminado>=0.8.1->notebook>=4.0->jupyter_contrib_nbextensions) (0.5.7)\n",
      "Requirement already satisfied: jsonschema!=2.5.0,>=2.4 in c:\\users\\melod\\anaconda3\\envs\\learn-env\\lib\\site-packages (from nbformat->notebook>=4.0->jupyter_contrib_nbextensions) (3.2.0)\n",
      "Requirement already satisfied: python-dateutil>=2.1 in c:\\users\\melod\\anaconda3\\envs\\learn-env\\lib\\site-packages (from jupyter-client>=5.2.0->notebook>=4.0->jupyter_contrib_nbextensions) (2.8.1)\n",
      "Requirement already satisfied: pyzmq>=13 in c:\\users\\melod\\anaconda3\\envs\\learn-env\\lib\\site-packages (from jupyter-client>=5.2.0->notebook>=4.0->jupyter_contrib_nbextensions) (19.0.1)\n",
      "Requirement already satisfied: MarkupSafe>=0.23 in c:\\users\\melod\\anaconda3\\envs\\learn-env\\lib\\site-packages (from jinja2->notebook>=4.0->jupyter_contrib_nbextensions) (1.1.1)\n",
      "Requirement already satisfied: packaging in c:\\users\\melod\\anaconda3\\envs\\learn-env\\lib\\site-packages (from bleach->nbconvert>=4.2->jupyter_contrib_nbextensions) (20.4)\n",
      "Requirement already satisfied: webencodings in c:\\users\\melod\\anaconda3\\envs\\learn-env\\lib\\site-packages (from bleach->nbconvert>=4.2->jupyter_contrib_nbextensions) (0.5.1)\n",
      "Requirement already satisfied: prompt-toolkit!=3.0.0,!=3.0.1,<3.1.0,>=2.0.0 in c:\\users\\melod\\anaconda3\\envs\\learn-env\\lib\\site-packages (from ipython->jupyter-latex-envs>=1.3.8->jupyter_contrib_nbextensions) (3.0.6)\n",
      "Requirement already satisfied: pickleshare in c:\\users\\melod\\anaconda3\\envs\\learn-env\\lib\\site-packages (from ipython->jupyter-latex-envs>=1.3.8->jupyter_contrib_nbextensions) (0.7.5)\n",
      "Requirement already satisfied: jedi>=0.10 in c:\\users\\melod\\anaconda3\\envs\\learn-env\\lib\\site-packages (from ipython->jupyter-latex-envs>=1.3.8->jupyter_contrib_nbextensions) (0.17.0)\n",
      "Requirement already satisfied: colorama; sys_platform == \"win32\" in c:\\users\\melod\\anaconda3\\envs\\learn-env\\lib\\site-packages (from ipython->jupyter-latex-envs>=1.3.8->jupyter_contrib_nbextensions) (0.4.3)\n",
      "Requirement already satisfied: backcall in c:\\users\\melod\\anaconda3\\envs\\learn-env\\lib\\site-packages (from ipython->jupyter-latex-envs>=1.3.8->jupyter_contrib_nbextensions) (0.2.0)\n",
      "Requirement already satisfied: pyrsistent>=0.14.0 in c:\\users\\melod\\anaconda3\\envs\\learn-env\\lib\\site-packages (from jsonschema!=2.5.0,>=2.4->nbformat->notebook>=4.0->jupyter_contrib_nbextensions) (0.16.0)\n",
      "Requirement already satisfied: attrs>=17.4.0 in c:\\users\\melod\\anaconda3\\envs\\learn-env\\lib\\site-packages (from jsonschema!=2.5.0,>=2.4->nbformat->notebook>=4.0->jupyter_contrib_nbextensions) (19.3.0)\n",
      "Requirement already satisfied: importlib-metadata; python_version < \"3.8\" in c:\\users\\melod\\anaconda3\\envs\\learn-env\\lib\\site-packages (from jsonschema!=2.5.0,>=2.4->nbformat->notebook>=4.0->jupyter_contrib_nbextensions) (1.7.0)\n",
      "Requirement already satisfied: pyparsing>=2.0.2 in c:\\users\\melod\\anaconda3\\envs\\learn-env\\lib\\site-packages (from packaging->bleach->nbconvert>=4.2->jupyter_contrib_nbextensions) (2.4.7)\n",
      "Requirement already satisfied: wcwidth in c:\\users\\melod\\anaconda3\\envs\\learn-env\\lib\\site-packages (from prompt-toolkit!=3.0.0,!=3.0.1,<3.1.0,>=2.0.0->ipython->jupyter-latex-envs>=1.3.8->jupyter_contrib_nbextensions) (0.2.5)\n",
      "Requirement already satisfied: parso>=0.7.0 in c:\\users\\melod\\anaconda3\\envs\\learn-env\\lib\\site-packages (from jedi>=0.10->ipython->jupyter-latex-envs>=1.3.8->jupyter_contrib_nbextensions) (0.8.0)\n",
      "Requirement already satisfied: zipp>=0.5 in c:\\users\\melod\\anaconda3\\envs\\learn-env\\lib\\site-packages (from importlib-metadata; python_version < \"3.8\"->jsonschema!=2.5.0,>=2.4->nbformat->notebook>=4.0->jupyter_contrib_nbextensions) (3.1.0)\n",
      "Building wheels for collected packages: jupyter-nbextensions-configurator, jupyter-latex-envs\n",
      "  Building wheel for jupyter-nbextensions-configurator (setup.py): started\n",
      "  Building wheel for jupyter-nbextensions-configurator (setup.py): finished with status 'done'\n",
      "  Created wheel for jupyter-nbextensions-configurator: filename=jupyter_nbextensions_configurator-0.4.1-py2.py3-none-any.whl size=465829 sha256=dff70684f551032863c86252201f6e6185b749c1bc3ac2ac6ac0c111d711d977\n",
      "  Stored in directory: c:\\users\\melod\\appdata\\local\\pip\\cache\\wheels\\ca\\a9\\d7\\a25604ecdf245a237594b33911a4af1aff9ec3c8e517f55401\n",
      "  Building wheel for jupyter-latex-envs (setup.py): started\n",
      "  Building wheel for jupyter-latex-envs (setup.py): finished with status 'done'\n",
      "  Created wheel for jupyter-latex-envs: filename=jupyter_latex_envs-1.4.6-py2.py3-none-any.whl size=963399 sha256=f7ced166a5a673eda0960bea59a98ddc52fa1220309058cee9d27bd850740e21\n",
      "  Stored in directory: c:\\users\\melod\\appdata\\local\\pip\\cache\\wheels\\cd\\51\\ee\\c0fe3c4463ebd357f6b135fcb58667d84079b3e0e8287ec9ea\n",
      "Successfully built jupyter-nbextensions-configurator jupyter-latex-envs\n",
      "Installing collected packages: jupyter-contrib-core, pyyaml, jupyter-nbextensions-configurator, jupyter-highlight-selected-word, lxml, jupyter-latex-envs, jupyter-contrib-nbextensions\n",
      "Successfully installed jupyter-contrib-core-0.3.3 jupyter-contrib-nbextensions-0.5.1 jupyter-highlight-selected-word-0.2.0 jupyter-latex-envs-1.4.6 jupyter-nbextensions-configurator-0.4.1 lxml-4.5.2 pyyaml-5.3.1\n"
     ]
    },
    {
     "name": "stderr",
     "output_type": "stream",
     "text": [
      "[I 15:26:44 InstallContribNbextensionsApp] jupyter contrib nbextension install \n",
      "[I 15:26:44 InstallContribNbextensionsApp] Installing jupyter_contrib_nbextensions nbextension files to jupyter data directory\n",
      "[I 15:26:44 InstallContribNbextensionsApp] Installing c:\\users\\melod\\anaconda3\\envs\\learn-env\\lib\\site-packages\\jupyter_contrib_nbextensions\\nbextensions\\addbefore -> addbefore\n",
      "[I 15:26:44 InstallContribNbextensionsApp] Making directory: C:\\ProgramData\\jupyter\\nbextensions\\addbefore\\\n",
      "[I 15:26:44 InstallContribNbextensionsApp] Copying: c:\\users\\melod\\anaconda3\\envs\\learn-env\\lib\\site-packages\\jupyter_contrib_nbextensions\\nbextensions\\addbefore\\addbefore.yaml -> C:\\ProgramData\\jupyter\\nbextensions\\addbefore\\addbefore.yaml\n",
      "[I 15:26:44 InstallContribNbextensionsApp] Copying: c:\\users\\melod\\anaconda3\\envs\\learn-env\\lib\\site-packages\\jupyter_contrib_nbextensions\\nbextensions\\addbefore\\icon.png -> C:\\ProgramData\\jupyter\\nbextensions\\addbefore\\icon.png\n",
      "[I 15:26:44 InstallContribNbextensionsApp] Copying: c:\\users\\melod\\anaconda3\\envs\\learn-env\\lib\\site-packages\\jupyter_contrib_nbextensions\\nbextensions\\addbefore\\main.js -> C:\\ProgramData\\jupyter\\nbextensions\\addbefore\\main.js\n",
      "[I 15:26:44 InstallContribNbextensionsApp] Copying: c:\\users\\melod\\anaconda3\\envs\\learn-env\\lib\\site-packages\\jupyter_contrib_nbextensions\\nbextensions\\addbefore\\readme.md -> C:\\ProgramData\\jupyter\\nbextensions\\addbefore\\readme.md\n",
      "[I 15:26:44 InstallContribNbextensionsApp] - Validating: ok\n",
      "[I 15:26:44 InstallContribNbextensionsApp] Installing c:\\users\\melod\\anaconda3\\envs\\learn-env\\lib\\site-packages\\jupyter_contrib_nbextensions\\nbextensions\\autosavetime -> autosavetime\n",
      "[I 15:26:44 InstallContribNbextensionsApp] Making directory: C:\\ProgramData\\jupyter\\nbextensions\\autosavetime\\\n",
      "[I 15:26:44 InstallContribNbextensionsApp] Copying: c:\\users\\melod\\anaconda3\\envs\\learn-env\\lib\\site-packages\\jupyter_contrib_nbextensions\\nbextensions\\autosavetime\\autosavetime.yaml -> C:\\ProgramData\\jupyter\\nbextensions\\autosavetime\\autosavetime.yaml\n",
      "[I 15:26:44 InstallContribNbextensionsApp] Copying: c:\\users\\melod\\anaconda3\\envs\\learn-env\\lib\\site-packages\\jupyter_contrib_nbextensions\\nbextensions\\autosavetime\\icon.png -> C:\\ProgramData\\jupyter\\nbextensions\\autosavetime\\icon.png\n",
      "[I 15:26:44 InstallContribNbextensionsApp] Copying: c:\\users\\melod\\anaconda3\\envs\\learn-env\\lib\\site-packages\\jupyter_contrib_nbextensions\\nbextensions\\autosavetime\\main.js -> C:\\ProgramData\\jupyter\\nbextensions\\autosavetime\\main.js\n",
      "[I 15:26:44 InstallContribNbextensionsApp] Copying: c:\\users\\melod\\anaconda3\\envs\\learn-env\\lib\\site-packages\\jupyter_contrib_nbextensions\\nbextensions\\autosavetime\\README.md -> C:\\ProgramData\\jupyter\\nbextensions\\autosavetime\\README.md\n",
      "[I 15:26:44 InstallContribNbextensionsApp] - Validating: ok\n",
      "[I 15:26:44 InstallContribNbextensionsApp] Installing c:\\users\\melod\\anaconda3\\envs\\learn-env\\lib\\site-packages\\jupyter_contrib_nbextensions\\nbextensions\\autoscroll -> autoscroll\n",
      "[I 15:26:44 InstallContribNbextensionsApp] Making directory: C:\\ProgramData\\jupyter\\nbextensions\\autoscroll\\\n",
      "[I 15:26:44 InstallContribNbextensionsApp] Copying: c:\\users\\melod\\anaconda3\\envs\\learn-env\\lib\\site-packages\\jupyter_contrib_nbextensions\\nbextensions\\autoscroll\\autoscroll.yaml -> C:\\ProgramData\\jupyter\\nbextensions\\autoscroll\\autoscroll.yaml\n",
      "[I 15:26:44 InstallContribNbextensionsApp] Copying: c:\\users\\melod\\anaconda3\\envs\\learn-env\\lib\\site-packages\\jupyter_contrib_nbextensions\\nbextensions\\autoscroll\\icon.png -> C:\\ProgramData\\jupyter\\nbextensions\\autoscroll\\icon.png\n",
      "[I 15:26:44 InstallContribNbextensionsApp] Copying: c:\\users\\melod\\anaconda3\\envs\\learn-env\\lib\\site-packages\\jupyter_contrib_nbextensions\\nbextensions\\autoscroll\\main.js -> C:\\ProgramData\\jupyter\\nbextensions\\autoscroll\\main.js\n",
      "[I 15:26:44 InstallContribNbextensionsApp] Copying: c:\\users\\melod\\anaconda3\\envs\\learn-env\\lib\\site-packages\\jupyter_contrib_nbextensions\\nbextensions\\autoscroll\\README.md -> C:\\ProgramData\\jupyter\\nbextensions\\autoscroll\\README.md\n",
      "[I 15:26:44 InstallContribNbextensionsApp] - Validating: ok\n",
      "[I 15:26:44 InstallContribNbextensionsApp] Installing c:\\users\\melod\\anaconda3\\envs\\learn-env\\lib\\site-packages\\jupyter_contrib_nbextensions\\nbextensions\\cell_filter -> cell_filter\n",
      "[I 15:26:44 InstallContribNbextensionsApp] Making directory: C:\\ProgramData\\jupyter\\nbextensions\\cell_filter\\\n",
      "[I 15:26:44 InstallContribNbextensionsApp] Copying: c:\\users\\melod\\anaconda3\\envs\\learn-env\\lib\\site-packages\\jupyter_contrib_nbextensions\\nbextensions\\cell_filter\\cell_filter.js -> C:\\ProgramData\\jupyter\\nbextensions\\cell_filter\\cell_filter.js\n",
      "[I 15:26:44 InstallContribNbextensionsApp] Copying: c:\\users\\melod\\anaconda3\\envs\\learn-env\\lib\\site-packages\\jupyter_contrib_nbextensions\\nbextensions\\cell_filter\\cell_filter.yml -> C:\\ProgramData\\jupyter\\nbextensions\\cell_filter\\cell_filter.yml\n",
      "[I 15:26:44 InstallContribNbextensionsApp] Copying: c:\\users\\melod\\anaconda3\\envs\\learn-env\\lib\\site-packages\\jupyter_contrib_nbextensions\\nbextensions\\cell_filter\\README.md -> C:\\ProgramData\\jupyter\\nbextensions\\cell_filter\\README.md\n",
      "[I 15:26:44 InstallContribNbextensionsApp] - Validating: ok\n",
      "[I 15:26:44 InstallContribNbextensionsApp] Installing c:\\users\\melod\\anaconda3\\envs\\learn-env\\lib\\site-packages\\jupyter_contrib_nbextensions\\nbextensions\\codefolding -> codefolding\n",
      "[I 15:26:44 InstallContribNbextensionsApp] Making directory: C:\\ProgramData\\jupyter\\nbextensions\\codefolding\\\n",
      "[I 15:26:44 InstallContribNbextensionsApp] Copying: c:\\users\\melod\\anaconda3\\envs\\learn-env\\lib\\site-packages\\jupyter_contrib_nbextensions\\nbextensions\\codefolding\\codefolding.yaml -> C:\\ProgramData\\jupyter\\nbextensions\\codefolding\\codefolding.yaml\n",
      "[I 15:26:44 InstallContribNbextensionsApp] Copying: c:\\users\\melod\\anaconda3\\envs\\learn-env\\lib\\site-packages\\jupyter_contrib_nbextensions\\nbextensions\\codefolding\\codefolding_editor.png -> C:\\ProgramData\\jupyter\\nbextensions\\codefolding\\codefolding_editor.png\n",
      "[I 15:26:44 InstallContribNbextensionsApp] Copying: c:\\users\\melod\\anaconda3\\envs\\learn-env\\lib\\site-packages\\jupyter_contrib_nbextensions\\nbextensions\\codefolding\\codefolding_editor.yaml -> C:\\ProgramData\\jupyter\\nbextensions\\codefolding\\codefolding_editor.yaml\n",
      "[I 15:26:44 InstallContribNbextensionsApp] Copying: c:\\users\\melod\\anaconda3\\envs\\learn-env\\lib\\site-packages\\jupyter_contrib_nbextensions\\nbextensions\\codefolding\\codefolding_firstline_folded.png -> C:\\ProgramData\\jupyter\\nbextensions\\codefolding\\codefolding_firstline_folded.png\n",
      "[I 15:26:44 InstallContribNbextensionsApp] Copying: c:\\users\\melod\\anaconda3\\envs\\learn-env\\lib\\site-packages\\jupyter_contrib_nbextensions\\nbextensions\\codefolding\\codefolding_firstline_unfolded.png -> C:\\ProgramData\\jupyter\\nbextensions\\codefolding\\codefolding_firstline_unfolded.png\n",
      "[I 15:26:44 InstallContribNbextensionsApp] Copying: c:\\users\\melod\\anaconda3\\envs\\learn-env\\lib\\site-packages\\jupyter_contrib_nbextensions\\nbextensions\\codefolding\\codefolding_indent_folded_1.png -> C:\\ProgramData\\jupyter\\nbextensions\\codefolding\\codefolding_indent_folded_1.png\n",
      "[I 15:26:44 InstallContribNbextensionsApp] Copying: c:\\users\\melod\\anaconda3\\envs\\learn-env\\lib\\site-packages\\jupyter_contrib_nbextensions\\nbextensions\\codefolding\\codefolding_indent_folded_2.png -> C:\\ProgramData\\jupyter\\nbextensions\\codefolding\\codefolding_indent_folded_2.png\n",
      "[I 15:26:44 InstallContribNbextensionsApp] Copying: c:\\users\\melod\\anaconda3\\envs\\learn-env\\lib\\site-packages\\jupyter_contrib_nbextensions\\nbextensions\\codefolding\\codefolding_indent_unfolded.png -> C:\\ProgramData\\jupyter\\nbextensions\\codefolding\\codefolding_indent_unfolded.png\n",
      "[I 15:26:44 InstallContribNbextensionsApp] Copying: c:\\users\\melod\\anaconda3\\envs\\learn-env\\lib\\site-packages\\jupyter_contrib_nbextensions\\nbextensions\\codefolding\\edit.js -> C:\\ProgramData\\jupyter\\nbextensions\\codefolding\\edit.js\n",
      "[I 15:26:44 InstallContribNbextensionsApp] Copying: c:\\users\\melod\\anaconda3\\envs\\learn-env\\lib\\site-packages\\jupyter_contrib_nbextensions\\nbextensions\\codefolding\\firstline-fold.js -> C:\\ProgramData\\jupyter\\nbextensions\\codefolding\\firstline-fold.js\n",
      "[I 15:26:44 InstallContribNbextensionsApp] Copying: c:\\users\\melod\\anaconda3\\envs\\learn-env\\lib\\site-packages\\jupyter_contrib_nbextensions\\nbextensions\\codefolding\\foldgutter.css -> C:\\ProgramData\\jupyter\\nbextensions\\codefolding\\foldgutter.css\n",
      "[I 15:26:44 InstallContribNbextensionsApp] Copying: c:\\users\\melod\\anaconda3\\envs\\learn-env\\lib\\site-packages\\jupyter_contrib_nbextensions\\nbextensions\\codefolding\\icon.png -> C:\\ProgramData\\jupyter\\nbextensions\\codefolding\\icon.png\n",
      "[I 15:26:44 InstallContribNbextensionsApp] Copying: c:\\users\\melod\\anaconda3\\envs\\learn-env\\lib\\site-packages\\jupyter_contrib_nbextensions\\nbextensions\\codefolding\\magic-fold.js -> C:\\ProgramData\\jupyter\\nbextensions\\codefolding\\magic-fold.js\n",
      "[I 15:26:44 InstallContribNbextensionsApp] Copying: c:\\users\\melod\\anaconda3\\envs\\learn-env\\lib\\site-packages\\jupyter_contrib_nbextensions\\nbextensions\\codefolding\\magic-folded.png -> C:\\ProgramData\\jupyter\\nbextensions\\codefolding\\magic-folded.png\n",
      "[I 15:26:44 InstallContribNbextensionsApp] Copying: c:\\users\\melod\\anaconda3\\envs\\learn-env\\lib\\site-packages\\jupyter_contrib_nbextensions\\nbextensions\\codefolding\\magic-unfolded.png -> C:\\ProgramData\\jupyter\\nbextensions\\codefolding\\magic-unfolded.png\n",
      "[I 15:26:44 InstallContribNbextensionsApp] Copying: c:\\users\\melod\\anaconda3\\envs\\learn-env\\lib\\site-packages\\jupyter_contrib_nbextensions\\nbextensions\\codefolding\\main.js -> C:\\ProgramData\\jupyter\\nbextensions\\codefolding\\main.js\n",
      "[I 15:26:44 InstallContribNbextensionsApp] Copying: c:\\users\\melod\\anaconda3\\envs\\learn-env\\lib\\site-packages\\jupyter_contrib_nbextensions\\nbextensions\\codefolding\\readme.md -> C:\\ProgramData\\jupyter\\nbextensions\\codefolding\\readme.md\n",
      "[I 15:26:44 InstallContribNbextensionsApp] - Validating: ok\n",
      "[I 15:26:44 InstallContribNbextensionsApp] Installing c:\\users\\melod\\anaconda3\\envs\\learn-env\\lib\\site-packages\\jupyter_contrib_nbextensions\\nbextensions\\codefolding -> codefolding\n",
      "[I 15:26:44 InstallContribNbextensionsApp] Up to date: C:\\ProgramData\\jupyter\\nbextensions\\codefolding\\codefolding.yaml\n",
      "[I 15:26:44 InstallContribNbextensionsApp] Up to date: C:\\ProgramData\\jupyter\\nbextensions\\codefolding\\codefolding_editor.png\n",
      "[I 15:26:44 InstallContribNbextensionsApp] Up to date: C:\\ProgramData\\jupyter\\nbextensions\\codefolding\\codefolding_editor.yaml\n",
      "[I 15:26:44 InstallContribNbextensionsApp] Up to date: C:\\ProgramData\\jupyter\\nbextensions\\codefolding\\codefolding_firstline_folded.png\n",
      "[I 15:26:44 InstallContribNbextensionsApp] Up to date: C:\\ProgramData\\jupyter\\nbextensions\\codefolding\\codefolding_firstline_unfolded.png\n",
      "[I 15:26:44 InstallContribNbextensionsApp] Up to date: C:\\ProgramData\\jupyter\\nbextensions\\codefolding\\codefolding_indent_folded_1.png\n",
      "[I 15:26:44 InstallContribNbextensionsApp] Up to date: C:\\ProgramData\\jupyter\\nbextensions\\codefolding\\codefolding_indent_folded_2.png\n",
      "[I 15:26:44 InstallContribNbextensionsApp] Up to date: C:\\ProgramData\\jupyter\\nbextensions\\codefolding\\codefolding_indent_unfolded.png\n",
      "[I 15:26:44 InstallContribNbextensionsApp] Up to date: C:\\ProgramData\\jupyter\\nbextensions\\codefolding\\edit.js\n",
      "[I 15:26:44 InstallContribNbextensionsApp] Up to date: C:\\ProgramData\\jupyter\\nbextensions\\codefolding\\firstline-fold.js\n",
      "[I 15:26:44 InstallContribNbextensionsApp] Up to date: C:\\ProgramData\\jupyter\\nbextensions\\codefolding\\foldgutter.css\n",
      "[I 15:26:44 InstallContribNbextensionsApp] Up to date: C:\\ProgramData\\jupyter\\nbextensions\\codefolding\\icon.png\n",
      "[I 15:26:44 InstallContribNbextensionsApp] Up to date: C:\\ProgramData\\jupyter\\nbextensions\\codefolding\\magic-fold.js\n",
      "[I 15:26:44 InstallContribNbextensionsApp] Up to date: C:\\ProgramData\\jupyter\\nbextensions\\codefolding\\magic-folded.png\n",
      "[I 15:26:44 InstallContribNbextensionsApp] Up to date: C:\\ProgramData\\jupyter\\nbextensions\\codefolding\\magic-unfolded.png\n",
      "[I 15:26:44 InstallContribNbextensionsApp] Up to date: C:\\ProgramData\\jupyter\\nbextensions\\codefolding\\main.js\n",
      "[I 15:26:44 InstallContribNbextensionsApp] Up to date: C:\\ProgramData\\jupyter\\nbextensions\\codefolding\\readme.md\n",
      "[I 15:26:44 InstallContribNbextensionsApp] - Validating: ok\n",
      "[I 15:26:44 InstallContribNbextensionsApp] Installing c:\\users\\melod\\anaconda3\\envs\\learn-env\\lib\\site-packages\\jupyter_contrib_nbextensions\\nbextensions\\codemirror_mode_extensions -> codemirror_mode_extensions\n",
      "[I 15:26:44 InstallContribNbextensionsApp] Making directory: C:\\ProgramData\\jupyter\\nbextensions\\codemirror_mode_extensions\\\n",
      "[I 15:26:44 InstallContribNbextensionsApp] Copying: c:\\users\\melod\\anaconda3\\envs\\learn-env\\lib\\site-packages\\jupyter_contrib_nbextensions\\nbextensions\\codemirror_mode_extensions\\codemirror_mode_extensions.yaml -> C:\\ProgramData\\jupyter\\nbextensions\\codemirror_mode_extensions\\codemirror_mode_extensions.yaml\n",
      "[I 15:26:44 InstallContribNbextensionsApp] Copying: c:\\users\\melod\\anaconda3\\envs\\learn-env\\lib\\site-packages\\jupyter_contrib_nbextensions\\nbextensions\\codemirror_mode_extensions\\main.js -> C:\\ProgramData\\jupyter\\nbextensions\\codemirror_mode_extensions\\main.js\n",
      "[I 15:26:44 InstallContribNbextensionsApp] - Validating: ok\n",
      "[I 15:26:44 InstallContribNbextensionsApp] Installing c:\\users\\melod\\anaconda3\\envs\\learn-env\\lib\\site-packages\\jupyter_contrib_nbextensions\\nbextensions\\code_font_size -> code_font_size\n",
      "[I 15:26:44 InstallContribNbextensionsApp] Making directory: C:\\ProgramData\\jupyter\\nbextensions\\code_font_size\\\n",
      "[I 15:26:44 InstallContribNbextensionsApp] Copying: c:\\users\\melod\\anaconda3\\envs\\learn-env\\lib\\site-packages\\jupyter_contrib_nbextensions\\nbextensions\\code_font_size\\code_font_size.js -> C:\\ProgramData\\jupyter\\nbextensions\\code_font_size\\code_font_size.js\n",
      "[I 15:26:44 InstallContribNbextensionsApp] Copying: c:\\users\\melod\\anaconda3\\envs\\learn-env\\lib\\site-packages\\jupyter_contrib_nbextensions\\nbextensions\\code_font_size\\code_font_size.yaml -> C:\\ProgramData\\jupyter\\nbextensions\\code_font_size\\code_font_size.yaml\n",
      "[I 15:26:44 InstallContribNbextensionsApp] Copying: c:\\users\\melod\\anaconda3\\envs\\learn-env\\lib\\site-packages\\jupyter_contrib_nbextensions\\nbextensions\\code_font_size\\README.md -> C:\\ProgramData\\jupyter\\nbextensions\\code_font_size\\README.md\n",
      "[I 15:26:44 InstallContribNbextensionsApp] - Validating: ok\n",
      "[I 15:26:44 InstallContribNbextensionsApp] Installing c:\\users\\melod\\anaconda3\\envs\\learn-env\\lib\\site-packages\\jupyter_contrib_nbextensions\\nbextensions\\code_prettify -> code_prettify\n",
      "[I 15:26:44 InstallContribNbextensionsApp] Making directory: C:\\ProgramData\\jupyter\\nbextensions\\code_prettify\\\n",
      "[I 15:26:44 InstallContribNbextensionsApp] Copying: c:\\users\\melod\\anaconda3\\envs\\learn-env\\lib\\site-packages\\jupyter_contrib_nbextensions\\nbextensions\\code_prettify\\2to3.js -> C:\\ProgramData\\jupyter\\nbextensions\\code_prettify\\2to3.js\n",
      "[I 15:26:44 InstallContribNbextensionsApp] Copying: c:\\users\\melod\\anaconda3\\envs\\learn-env\\lib\\site-packages\\jupyter_contrib_nbextensions\\nbextensions\\code_prettify\\2to3.yaml -> C:\\ProgramData\\jupyter\\nbextensions\\code_prettify\\2to3.yaml\n",
      "[I 15:26:44 InstallContribNbextensionsApp] Copying: c:\\users\\melod\\anaconda3\\envs\\learn-env\\lib\\site-packages\\jupyter_contrib_nbextensions\\nbextensions\\code_prettify\\autopep8.js -> C:\\ProgramData\\jupyter\\nbextensions\\code_prettify\\autopep8.js\n",
      "[I 15:26:44 InstallContribNbextensionsApp] Copying: c:\\users\\melod\\anaconda3\\envs\\learn-env\\lib\\site-packages\\jupyter_contrib_nbextensions\\nbextensions\\code_prettify\\autopep8.yaml -> C:\\ProgramData\\jupyter\\nbextensions\\code_prettify\\autopep8.yaml\n",
      "[I 15:26:44 InstallContribNbextensionsApp] Copying: c:\\users\\melod\\anaconda3\\envs\\learn-env\\lib\\site-packages\\jupyter_contrib_nbextensions\\nbextensions\\code_prettify\\code_prettify.js -> C:\\ProgramData\\jupyter\\nbextensions\\code_prettify\\code_prettify.js\n",
      "[I 15:26:44 InstallContribNbextensionsApp] Copying: c:\\users\\melod\\anaconda3\\envs\\learn-env\\lib\\site-packages\\jupyter_contrib_nbextensions\\nbextensions\\code_prettify\\code_prettify.yaml -> C:\\ProgramData\\jupyter\\nbextensions\\code_prettify\\code_prettify.yaml\n",
      "[I 15:26:44 InstallContribNbextensionsApp] Copying: c:\\users\\melod\\anaconda3\\envs\\learn-env\\lib\\site-packages\\jupyter_contrib_nbextensions\\nbextensions\\code_prettify\\demo-jv.gif -> C:\\ProgramData\\jupyter\\nbextensions\\code_prettify\\demo-jv.gif\n",
      "[I 15:26:44 InstallContribNbextensionsApp] Copying: c:\\users\\melod\\anaconda3\\envs\\learn-env\\lib\\site-packages\\jupyter_contrib_nbextensions\\nbextensions\\code_prettify\\demo-py.gif -> C:\\ProgramData\\jupyter\\nbextensions\\code_prettify\\demo-py.gif\n",
      "[I 15:26:44 InstallContribNbextensionsApp] Copying: c:\\users\\melod\\anaconda3\\envs\\learn-env\\lib\\site-packages\\jupyter_contrib_nbextensions\\nbextensions\\code_prettify\\demo-R.gif -> C:\\ProgramData\\jupyter\\nbextensions\\code_prettify\\demo-R.gif\n",
      "[I 15:26:44 InstallContribNbextensionsApp] Copying: c:\\users\\melod\\anaconda3\\envs\\learn-env\\lib\\site-packages\\jupyter_contrib_nbextensions\\nbextensions\\code_prettify\\demo_2to3.gif -> C:\\ProgramData\\jupyter\\nbextensions\\code_prettify\\demo_2to3.gif\n",
      "[I 15:26:44 InstallContribNbextensionsApp] Copying: c:\\users\\melod\\anaconda3\\envs\\learn-env\\lib\\site-packages\\jupyter_contrib_nbextensions\\nbextensions\\code_prettify\\isort.js -> C:\\ProgramData\\jupyter\\nbextensions\\code_prettify\\isort.js\n",
      "[I 15:26:44 InstallContribNbextensionsApp] Copying: c:\\users\\melod\\anaconda3\\envs\\learn-env\\lib\\site-packages\\jupyter_contrib_nbextensions\\nbextensions\\code_prettify\\isort.yaml -> C:\\ProgramData\\jupyter\\nbextensions\\code_prettify\\isort.yaml\n",
      "[I 15:26:44 InstallContribNbextensionsApp] Copying: c:\\users\\melod\\anaconda3\\envs\\learn-env\\lib\\site-packages\\jupyter_contrib_nbextensions\\nbextensions\\code_prettify\\kernel_exec_on_cell.js -> C:\\ProgramData\\jupyter\\nbextensions\\code_prettify\\kernel_exec_on_cell.js\n",
      "[I 15:26:44 InstallContribNbextensionsApp] Copying: c:\\users\\melod\\anaconda3\\envs\\learn-env\\lib\\site-packages\\jupyter_contrib_nbextensions\\nbextensions\\code_prettify\\README.md -> C:\\ProgramData\\jupyter\\nbextensions\\code_prettify\\README.md\n",
      "[I 15:26:44 InstallContribNbextensionsApp] Copying: c:\\users\\melod\\anaconda3\\envs\\learn-env\\lib\\site-packages\\jupyter_contrib_nbextensions\\nbextensions\\code_prettify\\README_2to3.md -> C:\\ProgramData\\jupyter\\nbextensions\\code_prettify\\README_2to3.md\n",
      "[I 15:26:44 InstallContribNbextensionsApp] Copying: c:\\users\\melod\\anaconda3\\envs\\learn-env\\lib\\site-packages\\jupyter_contrib_nbextensions\\nbextensions\\code_prettify\\README_autopep8.md -> C:\\ProgramData\\jupyter\\nbextensions\\code_prettify\\README_autopep8.md\n",
      "[I 15:26:44 InstallContribNbextensionsApp] Copying: c:\\users\\melod\\anaconda3\\envs\\learn-env\\lib\\site-packages\\jupyter_contrib_nbextensions\\nbextensions\\code_prettify\\README_code_prettify.md -> C:\\ProgramData\\jupyter\\nbextensions\\code_prettify\\README_code_prettify.md\n",
      "[I 15:26:44 InstallContribNbextensionsApp] Copying: c:\\users\\melod\\anaconda3\\envs\\learn-env\\lib\\site-packages\\jupyter_contrib_nbextensions\\nbextensions\\code_prettify\\README_isort.md -> C:\\ProgramData\\jupyter\\nbextensions\\code_prettify\\README_isort.md\n",
      "[I 15:26:44 InstallContribNbextensionsApp] - Validating: ok\n",
      "[I 15:26:44 InstallContribNbextensionsApp] Installing c:\\users\\melod\\anaconda3\\envs\\learn-env\\lib\\site-packages\\jupyter_contrib_nbextensions\\nbextensions\\code_prettify -> code_prettify\n",
      "[I 15:26:44 InstallContribNbextensionsApp] Up to date: C:\\ProgramData\\jupyter\\nbextensions\\code_prettify\\2to3.js\n",
      "[I 15:26:44 InstallContribNbextensionsApp] Up to date: C:\\ProgramData\\jupyter\\nbextensions\\code_prettify\\2to3.yaml\n",
      "[I 15:26:44 InstallContribNbextensionsApp] Up to date: C:\\ProgramData\\jupyter\\nbextensions\\code_prettify\\autopep8.js\n",
      "[I 15:26:44 InstallContribNbextensionsApp] Up to date: C:\\ProgramData\\jupyter\\nbextensions\\code_prettify\\autopep8.yaml\n",
      "[I 15:26:44 InstallContribNbextensionsApp] Up to date: C:\\ProgramData\\jupyter\\nbextensions\\code_prettify\\code_prettify.js\n",
      "[I 15:26:44 InstallContribNbextensionsApp] Up to date: C:\\ProgramData\\jupyter\\nbextensions\\code_prettify\\code_prettify.yaml\n",
      "[I 15:26:44 InstallContribNbextensionsApp] Up to date: C:\\ProgramData\\jupyter\\nbextensions\\code_prettify\\demo-jv.gif\n",
      "[I 15:26:44 InstallContribNbextensionsApp] Up to date: C:\\ProgramData\\jupyter\\nbextensions\\code_prettify\\demo-py.gif\n",
      "[I 15:26:44 InstallContribNbextensionsApp] Up to date: C:\\ProgramData\\jupyter\\nbextensions\\code_prettify\\demo-R.gif\n",
      "[I 15:26:44 InstallContribNbextensionsApp] Up to date: C:\\ProgramData\\jupyter\\nbextensions\\code_prettify\\demo_2to3.gif\n",
      "[I 15:26:44 InstallContribNbextensionsApp] Up to date: C:\\ProgramData\\jupyter\\nbextensions\\code_prettify\\isort.js\n",
      "[I 15:26:44 InstallContribNbextensionsApp] Up to date: C:\\ProgramData\\jupyter\\nbextensions\\code_prettify\\isort.yaml\n",
      "[I 15:26:44 InstallContribNbextensionsApp] Up to date: C:\\ProgramData\\jupyter\\nbextensions\\code_prettify\\kernel_exec_on_cell.js\n",
      "[I 15:26:44 InstallContribNbextensionsApp] Up to date: C:\\ProgramData\\jupyter\\nbextensions\\code_prettify\\README.md\n",
      "[I 15:26:44 InstallContribNbextensionsApp] Up to date: C:\\ProgramData\\jupyter\\nbextensions\\code_prettify\\README_2to3.md\n",
      "[I 15:26:44 InstallContribNbextensionsApp] Up to date: C:\\ProgramData\\jupyter\\nbextensions\\code_prettify\\README_autopep8.md\n",
      "[I 15:26:44 InstallContribNbextensionsApp] Up to date: C:\\ProgramData\\jupyter\\nbextensions\\code_prettify\\README_code_prettify.md\n",
      "[I 15:26:44 InstallContribNbextensionsApp] Up to date: C:\\ProgramData\\jupyter\\nbextensions\\code_prettify\\README_isort.md\n",
      "[I 15:26:44 InstallContribNbextensionsApp] - Validating: ok\n",
      "[I 15:26:44 InstallContribNbextensionsApp] Installing c:\\users\\melod\\anaconda3\\envs\\learn-env\\lib\\site-packages\\jupyter_contrib_nbextensions\\nbextensions\\code_prettify -> code_prettify\n",
      "[I 15:26:44 InstallContribNbextensionsApp] Up to date: C:\\ProgramData\\jupyter\\nbextensions\\code_prettify\\2to3.js\n",
      "[I 15:26:44 InstallContribNbextensionsApp] Up to date: C:\\ProgramData\\jupyter\\nbextensions\\code_prettify\\2to3.yaml\n",
      "[I 15:26:44 InstallContribNbextensionsApp] Up to date: C:\\ProgramData\\jupyter\\nbextensions\\code_prettify\\autopep8.js\n",
      "[I 15:26:44 InstallContribNbextensionsApp] Up to date: C:\\ProgramData\\jupyter\\nbextensions\\code_prettify\\autopep8.yaml\n",
      "[I 15:26:44 InstallContribNbextensionsApp] Up to date: C:\\ProgramData\\jupyter\\nbextensions\\code_prettify\\code_prettify.js\n",
      "[I 15:26:44 InstallContribNbextensionsApp] Up to date: C:\\ProgramData\\jupyter\\nbextensions\\code_prettify\\code_prettify.yaml\n",
      "[I 15:26:44 InstallContribNbextensionsApp] Up to date: C:\\ProgramData\\jupyter\\nbextensions\\code_prettify\\demo-jv.gif\n",
      "[I 15:26:44 InstallContribNbextensionsApp] Up to date: C:\\ProgramData\\jupyter\\nbextensions\\code_prettify\\demo-py.gif\n",
      "[I 15:26:44 InstallContribNbextensionsApp] Up to date: C:\\ProgramData\\jupyter\\nbextensions\\code_prettify\\demo-R.gif\n",
      "[I 15:26:44 InstallContribNbextensionsApp] Up to date: C:\\ProgramData\\jupyter\\nbextensions\\code_prettify\\demo_2to3.gif\n",
      "[I 15:26:44 InstallContribNbextensionsApp] Up to date: C:\\ProgramData\\jupyter\\nbextensions\\code_prettify\\isort.js\n",
      "[I 15:26:44 InstallContribNbextensionsApp] Up to date: C:\\ProgramData\\jupyter\\nbextensions\\code_prettify\\isort.yaml\n",
      "[I 15:26:44 InstallContribNbextensionsApp] Up to date: C:\\ProgramData\\jupyter\\nbextensions\\code_prettify\\kernel_exec_on_cell.js\n",
      "[I 15:26:44 InstallContribNbextensionsApp] Up to date: C:\\ProgramData\\jupyter\\nbextensions\\code_prettify\\README.md\n",
      "[I 15:26:44 InstallContribNbextensionsApp] Up to date: C:\\ProgramData\\jupyter\\nbextensions\\code_prettify\\README_2to3.md\n",
      "[I 15:26:44 InstallContribNbextensionsApp] Up to date: C:\\ProgramData\\jupyter\\nbextensions\\code_prettify\\README_autopep8.md\n",
      "[I 15:26:44 InstallContribNbextensionsApp] Up to date: C:\\ProgramData\\jupyter\\nbextensions\\code_prettify\\README_code_prettify.md\n",
      "[I 15:26:44 InstallContribNbextensionsApp] Up to date: C:\\ProgramData\\jupyter\\nbextensions\\code_prettify\\README_isort.md\n",
      "[I 15:26:44 InstallContribNbextensionsApp] - Validating: ok\n",
      "[I 15:26:44 InstallContribNbextensionsApp] Installing c:\\users\\melod\\anaconda3\\envs\\learn-env\\lib\\site-packages\\jupyter_contrib_nbextensions\\nbextensions\\code_prettify -> code_prettify\n",
      "[I 15:26:44 InstallContribNbextensionsApp] Up to date: C:\\ProgramData\\jupyter\\nbextensions\\code_prettify\\2to3.js\n",
      "[I 15:26:44 InstallContribNbextensionsApp] Up to date: C:\\ProgramData\\jupyter\\nbextensions\\code_prettify\\2to3.yaml\n",
      "[I 15:26:44 InstallContribNbextensionsApp] Up to date: C:\\ProgramData\\jupyter\\nbextensions\\code_prettify\\autopep8.js\n",
      "[I 15:26:44 InstallContribNbextensionsApp] Up to date: C:\\ProgramData\\jupyter\\nbextensions\\code_prettify\\autopep8.yaml\n",
      "[I 15:26:44 InstallContribNbextensionsApp] Up to date: C:\\ProgramData\\jupyter\\nbextensions\\code_prettify\\code_prettify.js\n",
      "[I 15:26:44 InstallContribNbextensionsApp] Up to date: C:\\ProgramData\\jupyter\\nbextensions\\code_prettify\\code_prettify.yaml\n",
      "[I 15:26:44 InstallContribNbextensionsApp] Up to date: C:\\ProgramData\\jupyter\\nbextensions\\code_prettify\\demo-jv.gif\n",
      "[I 15:26:44 InstallContribNbextensionsApp] Up to date: C:\\ProgramData\\jupyter\\nbextensions\\code_prettify\\demo-py.gif\n",
      "[I 15:26:44 InstallContribNbextensionsApp] Up to date: C:\\ProgramData\\jupyter\\nbextensions\\code_prettify\\demo-R.gif\n",
      "[I 15:26:44 InstallContribNbextensionsApp] Up to date: C:\\ProgramData\\jupyter\\nbextensions\\code_prettify\\demo_2to3.gif\n",
      "[I 15:26:44 InstallContribNbextensionsApp] Up to date: C:\\ProgramData\\jupyter\\nbextensions\\code_prettify\\isort.js\n",
      "[I 15:26:44 InstallContribNbextensionsApp] Up to date: C:\\ProgramData\\jupyter\\nbextensions\\code_prettify\\isort.yaml\n",
      "[I 15:26:44 InstallContribNbextensionsApp] Up to date: C:\\ProgramData\\jupyter\\nbextensions\\code_prettify\\kernel_exec_on_cell.js\n",
      "[I 15:26:44 InstallContribNbextensionsApp] Up to date: C:\\ProgramData\\jupyter\\nbextensions\\code_prettify\\README.md\n",
      "[I 15:26:44 InstallContribNbextensionsApp] Up to date: C:\\ProgramData\\jupyter\\nbextensions\\code_prettify\\README_2to3.md\n",
      "[I 15:26:44 InstallContribNbextensionsApp] Up to date: C:\\ProgramData\\jupyter\\nbextensions\\code_prettify\\README_autopep8.md\n",
      "[I 15:26:44 InstallContribNbextensionsApp] Up to date: C:\\ProgramData\\jupyter\\nbextensions\\code_prettify\\README_code_prettify.md\n",
      "[I 15:26:44 InstallContribNbextensionsApp] Up to date: C:\\ProgramData\\jupyter\\nbextensions\\code_prettify\\README_isort.md\n",
      "[I 15:26:44 InstallContribNbextensionsApp] - Validating: ok\n",
      "[I 15:26:44 InstallContribNbextensionsApp] Installing c:\\users\\melod\\anaconda3\\envs\\learn-env\\lib\\site-packages\\jupyter_contrib_nbextensions\\nbextensions\\collapsible_headings -> collapsible_headings\n",
      "[I 15:26:44 InstallContribNbextensionsApp] Making directory: C:\\ProgramData\\jupyter\\nbextensions\\collapsible_headings\\\n",
      "[I 15:26:44 InstallContribNbextensionsApp] Copying: c:\\users\\melod\\anaconda3\\envs\\learn-env\\lib\\site-packages\\jupyter_contrib_nbextensions\\nbextensions\\collapsible_headings\\collapsible_headings.yaml -> C:\\ProgramData\\jupyter\\nbextensions\\collapsible_headings\\collapsible_headings.yaml\n",
      "[I 15:26:44 InstallContribNbextensionsApp] Copying: c:\\users\\melod\\anaconda3\\envs\\learn-env\\lib\\site-packages\\jupyter_contrib_nbextensions\\nbextensions\\collapsible_headings\\icon.png -> C:\\ProgramData\\jupyter\\nbextensions\\collapsible_headings\\icon.png\n",
      "[I 15:26:44 InstallContribNbextensionsApp] Copying: c:\\users\\melod\\anaconda3\\envs\\learn-env\\lib\\site-packages\\jupyter_contrib_nbextensions\\nbextensions\\collapsible_headings\\main.css -> C:\\ProgramData\\jupyter\\nbextensions\\collapsible_headings\\main.css\n",
      "[I 15:26:44 InstallContribNbextensionsApp] Copying: c:\\users\\melod\\anaconda3\\envs\\learn-env\\lib\\site-packages\\jupyter_contrib_nbextensions\\nbextensions\\collapsible_headings\\main.js -> C:\\ProgramData\\jupyter\\nbextensions\\collapsible_headings\\main.js\n",
      "[I 15:26:44 InstallContribNbextensionsApp] Copying: c:\\users\\melod\\anaconda3\\envs\\learn-env\\lib\\site-packages\\jupyter_contrib_nbextensions\\nbextensions\\collapsible_headings\\readme.md -> C:\\ProgramData\\jupyter\\nbextensions\\collapsible_headings\\readme.md\n",
      "[I 15:26:44 InstallContribNbextensionsApp] Copying: c:\\users\\melod\\anaconda3\\envs\\learn-env\\lib\\site-packages\\jupyter_contrib_nbextensions\\nbextensions\\collapsible_headings\\screenshot.png -> C:\\ProgramData\\jupyter\\nbextensions\\collapsible_headings\\screenshot.png\n",
      "[I 15:26:44 InstallContribNbextensionsApp] - Validating: ok\n",
      "[I 15:26:44 InstallContribNbextensionsApp] Installing c:\\users\\melod\\anaconda3\\envs\\learn-env\\lib\\site-packages\\jupyter_contrib_nbextensions\\nbextensions\\comment-uncomment -> comment-uncomment\n",
      "[I 15:26:44 InstallContribNbextensionsApp] Making directory: C:\\ProgramData\\jupyter\\nbextensions\\comment-uncomment\\\n",
      "[I 15:26:44 InstallContribNbextensionsApp] Copying: c:\\users\\melod\\anaconda3\\envs\\learn-env\\lib\\site-packages\\jupyter_contrib_nbextensions\\nbextensions\\comment-uncomment\\comment-uncomment.yaml -> C:\\ProgramData\\jupyter\\nbextensions\\comment-uncomment\\comment-uncomment.yaml\n",
      "[I 15:26:44 InstallContribNbextensionsApp] Copying: c:\\users\\melod\\anaconda3\\envs\\learn-env\\lib\\site-packages\\jupyter_contrib_nbextensions\\nbextensions\\comment-uncomment\\icon.png -> C:\\ProgramData\\jupyter\\nbextensions\\comment-uncomment\\icon.png\n",
      "[I 15:26:44 InstallContribNbextensionsApp] Copying: c:\\users\\melod\\anaconda3\\envs\\learn-env\\lib\\site-packages\\jupyter_contrib_nbextensions\\nbextensions\\comment-uncomment\\main.js -> C:\\ProgramData\\jupyter\\nbextensions\\comment-uncomment\\main.js\n",
      "[I 15:26:44 InstallContribNbextensionsApp] Copying: c:\\users\\melod\\anaconda3\\envs\\learn-env\\lib\\site-packages\\jupyter_contrib_nbextensions\\nbextensions\\comment-uncomment\\readme.md -> C:\\ProgramData\\jupyter\\nbextensions\\comment-uncomment\\readme.md\n",
      "[I 15:26:44 InstallContribNbextensionsApp] - Validating: ok\n",
      "[I 15:26:44 InstallContribNbextensionsApp] Installing c:\\users\\melod\\anaconda3\\envs\\learn-env\\lib\\site-packages\\jupyter_contrib_nbextensions\\nbextensions\\contrib_nbextensions_help_item -> contrib_nbextensions_help_item\n",
      "[I 15:26:44 InstallContribNbextensionsApp] Making directory: C:\\ProgramData\\jupyter\\nbextensions\\contrib_nbextensions_help_item\\\n",
      "[I 15:26:44 InstallContribNbextensionsApp] Copying: c:\\users\\melod\\anaconda3\\envs\\learn-env\\lib\\site-packages\\jupyter_contrib_nbextensions\\nbextensions\\contrib_nbextensions_help_item\\contrib_nbextensions_help_item.yaml -> C:\\ProgramData\\jupyter\\nbextensions\\contrib_nbextensions_help_item\\contrib_nbextensions_help_item.yaml\n",
      "[I 15:26:44 InstallContribNbextensionsApp] Copying: c:\\users\\melod\\anaconda3\\envs\\learn-env\\lib\\site-packages\\jupyter_contrib_nbextensions\\nbextensions\\contrib_nbextensions_help_item\\main.js -> C:\\ProgramData\\jupyter\\nbextensions\\contrib_nbextensions_help_item\\main.js\n",
      "[I 15:26:44 InstallContribNbextensionsApp] Copying: c:\\users\\melod\\anaconda3\\envs\\learn-env\\lib\\site-packages\\jupyter_contrib_nbextensions\\nbextensions\\contrib_nbextensions_help_item\\README.md -> C:\\ProgramData\\jupyter\\nbextensions\\contrib_nbextensions_help_item\\README.md\n",
      "[I 15:26:44 InstallContribNbextensionsApp] - Validating: ok\n",
      "[I 15:26:44 InstallContribNbextensionsApp] Installing c:\\users\\melod\\anaconda3\\envs\\learn-env\\lib\\site-packages\\jupyter_contrib_nbextensions\\nbextensions\\datestamper -> datestamper\n",
      "[I 15:26:44 InstallContribNbextensionsApp] Making directory: C:\\ProgramData\\jupyter\\nbextensions\\datestamper\\\n",
      "[I 15:26:44 InstallContribNbextensionsApp] Copying: c:\\users\\melod\\anaconda3\\envs\\learn-env\\lib\\site-packages\\jupyter_contrib_nbextensions\\nbextensions\\datestamper\\icon.png -> C:\\ProgramData\\jupyter\\nbextensions\\datestamper\\icon.png\n",
      "[I 15:26:44 InstallContribNbextensionsApp] Copying: c:\\users\\melod\\anaconda3\\envs\\learn-env\\lib\\site-packages\\jupyter_contrib_nbextensions\\nbextensions\\datestamper\\main.js -> C:\\ProgramData\\jupyter\\nbextensions\\datestamper\\main.js\n",
      "[I 15:26:44 InstallContribNbextensionsApp] Copying: c:\\users\\melod\\anaconda3\\envs\\learn-env\\lib\\site-packages\\jupyter_contrib_nbextensions\\nbextensions\\datestamper\\main.yaml -> C:\\ProgramData\\jupyter\\nbextensions\\datestamper\\main.yaml\n",
      "[I 15:26:44 InstallContribNbextensionsApp] Copying: c:\\users\\melod\\anaconda3\\envs\\learn-env\\lib\\site-packages\\jupyter_contrib_nbextensions\\nbextensions\\datestamper\\readme.md -> C:\\ProgramData\\jupyter\\nbextensions\\datestamper\\readme.md\n",
      "[I 15:26:44 InstallContribNbextensionsApp] - Validating: ok\n",
      "[I 15:26:44 InstallContribNbextensionsApp] Installing c:\\users\\melod\\anaconda3\\envs\\learn-env\\lib\\site-packages\\jupyter_contrib_nbextensions\\nbextensions\\equation-numbering -> equation-numbering\n",
      "[I 15:26:44 InstallContribNbextensionsApp] Making directory: C:\\ProgramData\\jupyter\\nbextensions\\equation-numbering\\\n",
      "[I 15:26:44 InstallContribNbextensionsApp] Copying: c:\\users\\melod\\anaconda3\\envs\\learn-env\\lib\\site-packages\\jupyter_contrib_nbextensions\\nbextensions\\equation-numbering\\button.png -> C:\\ProgramData\\jupyter\\nbextensions\\equation-numbering\\button.png\n",
      "[I 15:26:44 InstallContribNbextensionsApp] Copying: c:\\users\\melod\\anaconda3\\envs\\learn-env\\lib\\site-packages\\jupyter_contrib_nbextensions\\nbextensions\\equation-numbering\\icon.png -> C:\\ProgramData\\jupyter\\nbextensions\\equation-numbering\\icon.png\n",
      "[I 15:26:44 InstallContribNbextensionsApp] Copying: c:\\users\\melod\\anaconda3\\envs\\learn-env\\lib\\site-packages\\jupyter_contrib_nbextensions\\nbextensions\\equation-numbering\\info.yaml -> C:\\ProgramData\\jupyter\\nbextensions\\equation-numbering\\info.yaml\n",
      "[I 15:26:44 InstallContribNbextensionsApp] Copying: c:\\users\\melod\\anaconda3\\envs\\learn-env\\lib\\site-packages\\jupyter_contrib_nbextensions\\nbextensions\\equation-numbering\\main.js -> C:\\ProgramData\\jupyter\\nbextensions\\equation-numbering\\main.js\n",
      "[I 15:26:44 InstallContribNbextensionsApp] Copying: c:\\users\\melod\\anaconda3\\envs\\learn-env\\lib\\site-packages\\jupyter_contrib_nbextensions\\nbextensions\\equation-numbering\\readme.md -> C:\\ProgramData\\jupyter\\nbextensions\\equation-numbering\\readme.md\n",
      "[I 15:26:44 InstallContribNbextensionsApp] - Validating: ok\n",
      "[I 15:26:44 InstallContribNbextensionsApp] Installing c:\\users\\melod\\anaconda3\\envs\\learn-env\\lib\\site-packages\\jupyter_contrib_nbextensions\\nbextensions\\execute_time -> execute_time\n",
      "[I 15:26:44 InstallContribNbextensionsApp] Making directory: C:\\ProgramData\\jupyter\\nbextensions\\execute_time\\\n",
      "[I 15:26:44 InstallContribNbextensionsApp] Copying: c:\\users\\melod\\anaconda3\\envs\\learn-env\\lib\\site-packages\\jupyter_contrib_nbextensions\\nbextensions\\execute_time\\ExecuteTime.css -> C:\\ProgramData\\jupyter\\nbextensions\\execute_time\\ExecuteTime.css\n",
      "[I 15:26:44 InstallContribNbextensionsApp] Copying: c:\\users\\melod\\anaconda3\\envs\\learn-env\\lib\\site-packages\\jupyter_contrib_nbextensions\\nbextensions\\execute_time\\ExecuteTime.js -> C:\\ProgramData\\jupyter\\nbextensions\\execute_time\\ExecuteTime.js\n",
      "[I 15:26:44 InstallContribNbextensionsApp] Copying: c:\\users\\melod\\anaconda3\\envs\\learn-env\\lib\\site-packages\\jupyter_contrib_nbextensions\\nbextensions\\execute_time\\ExecuteTime.yaml -> C:\\ProgramData\\jupyter\\nbextensions\\execute_time\\ExecuteTime.yaml\n",
      "[I 15:26:44 InstallContribNbextensionsApp] Copying: c:\\users\\melod\\anaconda3\\envs\\learn-env\\lib\\site-packages\\jupyter_contrib_nbextensions\\nbextensions\\execute_time\\execution-timings-box.png -> C:\\ProgramData\\jupyter\\nbextensions\\execute_time\\execution-timings-box.png\n",
      "[I 15:26:44 InstallContribNbextensionsApp] Copying: c:\\users\\melod\\anaconda3\\envs\\learn-env\\lib\\site-packages\\jupyter_contrib_nbextensions\\nbextensions\\execute_time\\execution-timings-menu.png -> C:\\ProgramData\\jupyter\\nbextensions\\execute_time\\execution-timings-menu.png\n",
      "[I 15:26:44 InstallContribNbextensionsApp] Copying: c:\\users\\melod\\anaconda3\\envs\\learn-env\\lib\\site-packages\\jupyter_contrib_nbextensions\\nbextensions\\execute_time\\icon.png -> C:\\ProgramData\\jupyter\\nbextensions\\execute_time\\icon.png\n",
      "[I 15:26:44 InstallContribNbextensionsApp] Copying: c:\\users\\melod\\anaconda3\\envs\\learn-env\\lib\\site-packages\\jupyter_contrib_nbextensions\\nbextensions\\execute_time\\readme.md -> C:\\ProgramData\\jupyter\\nbextensions\\execute_time\\readme.md\n",
      "[I 15:26:44 InstallContribNbextensionsApp] - Validating: ok\n",
      "[I 15:26:44 InstallContribNbextensionsApp] Installing c:\\users\\melod\\anaconda3\\envs\\learn-env\\lib\\site-packages\\jupyter_contrib_nbextensions\\nbextensions\\execution_dependencies -> execution_dependencies\n",
      "[I 15:26:44 InstallContribNbextensionsApp] Making directory: C:\\ProgramData\\jupyter\\nbextensions\\execution_dependencies\\\n",
      "[I 15:26:44 InstallContribNbextensionsApp] Copying: c:\\users\\melod\\anaconda3\\envs\\learn-env\\lib\\site-packages\\jupyter_contrib_nbextensions\\nbextensions\\execution_dependencies\\execution_dependencies.js -> C:\\ProgramData\\jupyter\\nbextensions\\execution_dependencies\\execution_dependencies.js\n",
      "[I 15:26:44 InstallContribNbextensionsApp] Copying: c:\\users\\melod\\anaconda3\\envs\\learn-env\\lib\\site-packages\\jupyter_contrib_nbextensions\\nbextensions\\execution_dependencies\\execution_dependencies.yml -> C:\\ProgramData\\jupyter\\nbextensions\\execution_dependencies\\execution_dependencies.yml\n",
      "[I 15:26:44 InstallContribNbextensionsApp] Copying: c:\\users\\melod\\anaconda3\\envs\\learn-env\\lib\\site-packages\\jupyter_contrib_nbextensions\\nbextensions\\execution_dependencies\\README.md -> C:\\ProgramData\\jupyter\\nbextensions\\execution_dependencies\\README.md\n",
      "[I 15:26:44 InstallContribNbextensionsApp] - Validating: ok\n",
      "[I 15:26:44 InstallContribNbextensionsApp] Installing c:\\users\\melod\\anaconda3\\envs\\learn-env\\lib\\site-packages\\jupyter_contrib_nbextensions\\nbextensions\\exercise -> exercise\n",
      "[I 15:26:44 InstallContribNbextensionsApp] Making directory: C:\\ProgramData\\jupyter\\nbextensions\\exercise\\\n",
      "[I 15:26:44 InstallContribNbextensionsApp] Copying: c:\\users\\melod\\anaconda3\\envs\\learn-env\\lib\\site-packages\\jupyter_contrib_nbextensions\\nbextensions\\exercise\\exercise.yaml -> C:\\ProgramData\\jupyter\\nbextensions\\exercise\\exercise.yaml\n",
      "[I 15:26:44 InstallContribNbextensionsApp] Copying: c:\\users\\melod\\anaconda3\\envs\\learn-env\\lib\\site-packages\\jupyter_contrib_nbextensions\\nbextensions\\exercise\\history.md -> C:\\ProgramData\\jupyter\\nbextensions\\exercise\\history.md\n",
      "[I 15:26:44 InstallContribNbextensionsApp] Copying: c:\\users\\melod\\anaconda3\\envs\\learn-env\\lib\\site-packages\\jupyter_contrib_nbextensions\\nbextensions\\exercise\\icon.png -> C:\\ProgramData\\jupyter\\nbextensions\\exercise\\icon.png\n",
      "[I 15:26:44 InstallContribNbextensionsApp] Copying: c:\\users\\melod\\anaconda3\\envs\\learn-env\\lib\\site-packages\\jupyter_contrib_nbextensions\\nbextensions\\exercise\\image.gif -> C:\\ProgramData\\jupyter\\nbextensions\\exercise\\image.gif\n",
      "[I 15:26:44 InstallContribNbextensionsApp] Copying: c:\\users\\melod\\anaconda3\\envs\\learn-env\\lib\\site-packages\\jupyter_contrib_nbextensions\\nbextensions\\exercise\\main.css -> C:\\ProgramData\\jupyter\\nbextensions\\exercise\\main.css\n",
      "[I 15:26:44 InstallContribNbextensionsApp] Copying: c:\\users\\melod\\anaconda3\\envs\\learn-env\\lib\\site-packages\\jupyter_contrib_nbextensions\\nbextensions\\exercise\\main.js -> C:\\ProgramData\\jupyter\\nbextensions\\exercise\\main.js\n",
      "[I 15:26:44 InstallContribNbextensionsApp] Copying: c:\\users\\melod\\anaconda3\\envs\\learn-env\\lib\\site-packages\\jupyter_contrib_nbextensions\\nbextensions\\exercise\\readme.md -> C:\\ProgramData\\jupyter\\nbextensions\\exercise\\readme.md\n",
      "[I 15:26:44 InstallContribNbextensionsApp] - Validating: ok\n",
      "[I 15:26:44 InstallContribNbextensionsApp] Installing c:\\users\\melod\\anaconda3\\envs\\learn-env\\lib\\site-packages\\jupyter_contrib_nbextensions\\nbextensions\\exercise2 -> exercise2\n",
      "[I 15:26:44 InstallContribNbextensionsApp] Making directory: C:\\ProgramData\\jupyter\\nbextensions\\exercise2\\\n",
      "[I 15:26:44 InstallContribNbextensionsApp] Copying: c:\\users\\melod\\anaconda3\\envs\\learn-env\\lib\\site-packages\\jupyter_contrib_nbextensions\\nbextensions\\exercise2\\exercise2.yaml -> C:\\ProgramData\\jupyter\\nbextensions\\exercise2\\exercise2.yaml\n",
      "[I 15:26:44 InstallContribNbextensionsApp] Copying: c:\\users\\melod\\anaconda3\\envs\\learn-env\\lib\\site-packages\\jupyter_contrib_nbextensions\\nbextensions\\exercise2\\icon.png -> C:\\ProgramData\\jupyter\\nbextensions\\exercise2\\icon.png\n",
      "[I 15:26:44 InstallContribNbextensionsApp] Copying: c:\\users\\melod\\anaconda3\\envs\\learn-env\\lib\\site-packages\\jupyter_contrib_nbextensions\\nbextensions\\exercise2\\image.gif -> C:\\ProgramData\\jupyter\\nbextensions\\exercise2\\image.gif\n",
      "[I 15:26:44 InstallContribNbextensionsApp] Copying: c:\\users\\melod\\anaconda3\\envs\\learn-env\\lib\\site-packages\\jupyter_contrib_nbextensions\\nbextensions\\exercise2\\main.css -> C:\\ProgramData\\jupyter\\nbextensions\\exercise2\\main.css\n",
      "[I 15:26:44 InstallContribNbextensionsApp] Copying: c:\\users\\melod\\anaconda3\\envs\\learn-env\\lib\\site-packages\\jupyter_contrib_nbextensions\\nbextensions\\exercise2\\main.js -> C:\\ProgramData\\jupyter\\nbextensions\\exercise2\\main.js\n",
      "[I 15:26:44 InstallContribNbextensionsApp] Copying: c:\\users\\melod\\anaconda3\\envs\\learn-env\\lib\\site-packages\\jupyter_contrib_nbextensions\\nbextensions\\exercise2\\readme.md -> C:\\ProgramData\\jupyter\\nbextensions\\exercise2\\readme.md\n",
      "[I 15:26:44 InstallContribNbextensionsApp] - Validating: ok\n",
      "[I 15:26:44 InstallContribNbextensionsApp] Installing c:\\users\\melod\\anaconda3\\envs\\learn-env\\lib\\site-packages\\jupyter_contrib_nbextensions\\nbextensions\\export_embedded -> export_embedded\n",
      "[I 15:26:44 InstallContribNbextensionsApp] Making directory: C:\\ProgramData\\jupyter\\nbextensions\\export_embedded\\\n",
      "[I 15:26:44 InstallContribNbextensionsApp] Copying: c:\\users\\melod\\anaconda3\\envs\\learn-env\\lib\\site-packages\\jupyter_contrib_nbextensions\\nbextensions\\export_embedded\\export_embedded.yaml -> C:\\ProgramData\\jupyter\\nbextensions\\export_embedded\\export_embedded.yaml\n",
      "[I 15:26:44 InstallContribNbextensionsApp] Copying: c:\\users\\melod\\anaconda3\\envs\\learn-env\\lib\\site-packages\\jupyter_contrib_nbextensions\\nbextensions\\export_embedded\\icon.png -> C:\\ProgramData\\jupyter\\nbextensions\\export_embedded\\icon.png\n",
      "[I 15:26:44 InstallContribNbextensionsApp] Copying: c:\\users\\melod\\anaconda3\\envs\\learn-env\\lib\\site-packages\\jupyter_contrib_nbextensions\\nbextensions\\export_embedded\\main.js -> C:\\ProgramData\\jupyter\\nbextensions\\export_embedded\\main.js\n",
      "[I 15:26:44 InstallContribNbextensionsApp] Copying: c:\\users\\melod\\anaconda3\\envs\\learn-env\\lib\\site-packages\\jupyter_contrib_nbextensions\\nbextensions\\export_embedded\\readme.md -> C:\\ProgramData\\jupyter\\nbextensions\\export_embedded\\readme.md\n",
      "[I 15:26:44 InstallContribNbextensionsApp] - Validating: ok\n",
      "[I 15:26:44 InstallContribNbextensionsApp] Installing c:\\users\\melod\\anaconda3\\envs\\learn-env\\lib\\site-packages\\jupyter_contrib_nbextensions\\nbextensions\\freeze -> freeze\n",
      "[I 15:26:44 InstallContribNbextensionsApp] Making directory: C:\\ProgramData\\jupyter\\nbextensions\\freeze\\\n",
      "[I 15:26:44 InstallContribNbextensionsApp] Copying: c:\\users\\melod\\anaconda3\\envs\\learn-env\\lib\\site-packages\\jupyter_contrib_nbextensions\\nbextensions\\freeze\\config.yaml -> C:\\ProgramData\\jupyter\\nbextensions\\freeze\\config.yaml\n",
      "[I 15:26:44 InstallContribNbextensionsApp] Copying: c:\\users\\melod\\anaconda3\\envs\\learn-env\\lib\\site-packages\\jupyter_contrib_nbextensions\\nbextensions\\freeze\\icon.png -> C:\\ProgramData\\jupyter\\nbextensions\\freeze\\icon.png\n",
      "[I 15:26:44 InstallContribNbextensionsApp] Copying: c:\\users\\melod\\anaconda3\\envs\\learn-env\\lib\\site-packages\\jupyter_contrib_nbextensions\\nbextensions\\freeze\\main.js -> C:\\ProgramData\\jupyter\\nbextensions\\freeze\\main.js\n",
      "[I 15:26:44 InstallContribNbextensionsApp] Copying: c:\\users\\melod\\anaconda3\\envs\\learn-env\\lib\\site-packages\\jupyter_contrib_nbextensions\\nbextensions\\freeze\\readme.md -> C:\\ProgramData\\jupyter\\nbextensions\\freeze\\readme.md\n",
      "[I 15:26:44 InstallContribNbextensionsApp] - Validating: ok\n",
      "[I 15:26:44 InstallContribNbextensionsApp] Installing c:\\users\\melod\\anaconda3\\envs\\learn-env\\lib\\site-packages\\jupyter_contrib_nbextensions\\nbextensions\\gist_it -> gist_it\n",
      "[I 15:26:44 InstallContribNbextensionsApp] Making directory: C:\\ProgramData\\jupyter\\nbextensions\\gist_it\\\n",
      "[I 15:26:44 InstallContribNbextensionsApp] Copying: c:\\users\\melod\\anaconda3\\envs\\learn-env\\lib\\site-packages\\jupyter_contrib_nbextensions\\nbextensions\\gist_it\\gist_it.yaml -> C:\\ProgramData\\jupyter\\nbextensions\\gist_it\\gist_it.yaml\n",
      "[I 15:26:44 InstallContribNbextensionsApp] Copying: c:\\users\\melod\\anaconda3\\envs\\learn-env\\lib\\site-packages\\jupyter_contrib_nbextensions\\nbextensions\\gist_it\\icon.png -> C:\\ProgramData\\jupyter\\nbextensions\\gist_it\\icon.png\n",
      "[I 15:26:44 InstallContribNbextensionsApp] Copying: c:\\users\\melod\\anaconda3\\envs\\learn-env\\lib\\site-packages\\jupyter_contrib_nbextensions\\nbextensions\\gist_it\\main.js -> C:\\ProgramData\\jupyter\\nbextensions\\gist_it\\main.js\n",
      "[I 15:26:44 InstallContribNbextensionsApp] Copying: c:\\users\\melod\\anaconda3\\envs\\learn-env\\lib\\site-packages\\jupyter_contrib_nbextensions\\nbextensions\\gist_it\\readme.md -> C:\\ProgramData\\jupyter\\nbextensions\\gist_it\\readme.md\n",
      "[I 15:26:44 InstallContribNbextensionsApp] - Validating: ok\n",
      "[I 15:26:44 InstallContribNbextensionsApp] Installing c:\\users\\melod\\anaconda3\\envs\\learn-env\\lib\\site-packages\\jupyter_contrib_nbextensions\\nbextensions\\help_panel -> help_panel\n",
      "[I 15:26:44 InstallContribNbextensionsApp] Making directory: C:\\ProgramData\\jupyter\\nbextensions\\help_panel\\\n",
      "[I 15:26:44 InstallContribNbextensionsApp] Copying: c:\\users\\melod\\anaconda3\\envs\\learn-env\\lib\\site-packages\\jupyter_contrib_nbextensions\\nbextensions\\help_panel\\help_panel.css -> C:\\ProgramData\\jupyter\\nbextensions\\help_panel\\help_panel.css\n",
      "[I 15:26:44 InstallContribNbextensionsApp] Copying: c:\\users\\melod\\anaconda3\\envs\\learn-env\\lib\\site-packages\\jupyter_contrib_nbextensions\\nbextensions\\help_panel\\help_panel.js -> C:\\ProgramData\\jupyter\\nbextensions\\help_panel\\help_panel.js\n",
      "[I 15:26:44 InstallContribNbextensionsApp] Copying: c:\\users\\melod\\anaconda3\\envs\\learn-env\\lib\\site-packages\\jupyter_contrib_nbextensions\\nbextensions\\help_panel\\help_panel.yaml -> C:\\ProgramData\\jupyter\\nbextensions\\help_panel\\help_panel.yaml\n",
      "[I 15:26:44 InstallContribNbextensionsApp] Copying: c:\\users\\melod\\anaconda3\\envs\\learn-env\\lib\\site-packages\\jupyter_contrib_nbextensions\\nbextensions\\help_panel\\help_panel_ext.png -> C:\\ProgramData\\jupyter\\nbextensions\\help_panel\\help_panel_ext.png\n",
      "[I 15:26:44 InstallContribNbextensionsApp] Copying: c:\\users\\melod\\anaconda3\\envs\\learn-env\\lib\\site-packages\\jupyter_contrib_nbextensions\\nbextensions\\help_panel\\help_panel_ext_fullscreen.png -> C:\\ProgramData\\jupyter\\nbextensions\\help_panel\\help_panel_ext_fullscreen.png\n",
      "[I 15:26:44 InstallContribNbextensionsApp] Copying: c:\\users\\melod\\anaconda3\\envs\\learn-env\\lib\\site-packages\\jupyter_contrib_nbextensions\\nbextensions\\help_panel\\icon.png -> C:\\ProgramData\\jupyter\\nbextensions\\help_panel\\icon.png\n",
      "[I 15:26:44 InstallContribNbextensionsApp] Copying: c:\\users\\melod\\anaconda3\\envs\\learn-env\\lib\\site-packages\\jupyter_contrib_nbextensions\\nbextensions\\help_panel\\readme.md -> C:\\ProgramData\\jupyter\\nbextensions\\help_panel\\readme.md\n",
      "[I 15:26:44 InstallContribNbextensionsApp] Making directory: C:\\ProgramData\\jupyter\\nbextensions\\help_panel\\img\n",
      "[I 15:26:44 InstallContribNbextensionsApp] Copying: c:\\users\\melod\\anaconda3\\envs\\learn-env\\lib\\site-packages\\jupyter_contrib_nbextensions\\nbextensions\\help_panel\\img\\handle-v.png -> C:\\ProgramData\\jupyter\\nbextensions\\help_panel\\img\\handle-v.png\n",
      "[I 15:26:44 InstallContribNbextensionsApp] - Validating: ok\n",
      "[I 15:26:44 InstallContribNbextensionsApp] Installing c:\\users\\melod\\anaconda3\\envs\\learn-env\\lib\\site-packages\\jupyter_contrib_nbextensions\\nbextensions\\hide_header -> hide_header\n",
      "[I 15:26:44 InstallContribNbextensionsApp] Making directory: C:\\ProgramData\\jupyter\\nbextensions\\hide_header\\\n",
      "[I 15:26:44 InstallContribNbextensionsApp] Copying: c:\\users\\melod\\anaconda3\\envs\\learn-env\\lib\\site-packages\\jupyter_contrib_nbextensions\\nbextensions\\hide_header\\hide_header.yaml -> C:\\ProgramData\\jupyter\\nbextensions\\hide_header\\hide_header.yaml\n",
      "[I 15:26:44 InstallContribNbextensionsApp] Copying: c:\\users\\melod\\anaconda3\\envs\\learn-env\\lib\\site-packages\\jupyter_contrib_nbextensions\\nbextensions\\hide_header\\main.js -> C:\\ProgramData\\jupyter\\nbextensions\\hide_header\\main.js\n",
      "[I 15:26:44 InstallContribNbextensionsApp] Copying: c:\\users\\melod\\anaconda3\\envs\\learn-env\\lib\\site-packages\\jupyter_contrib_nbextensions\\nbextensions\\hide_header\\README.md -> C:\\ProgramData\\jupyter\\nbextensions\\hide_header\\README.md\n",
      "[I 15:26:44 InstallContribNbextensionsApp] - Validating: ok\n",
      "[I 15:26:44 InstallContribNbextensionsApp] Installing c:\\users\\melod\\anaconda3\\envs\\learn-env\\lib\\site-packages\\jupyter_contrib_nbextensions\\nbextensions\\hide_input -> hide_input\n",
      "[I 15:26:44 InstallContribNbextensionsApp] Making directory: C:\\ProgramData\\jupyter\\nbextensions\\hide_input\\\n",
      "[I 15:26:44 InstallContribNbextensionsApp] Copying: c:\\users\\melod\\anaconda3\\envs\\learn-env\\lib\\site-packages\\jupyter_contrib_nbextensions\\nbextensions\\hide_input\\hide-input.yaml -> C:\\ProgramData\\jupyter\\nbextensions\\hide_input\\hide-input.yaml\n",
      "[I 15:26:44 InstallContribNbextensionsApp] Copying: c:\\users\\melod\\anaconda3\\envs\\learn-env\\lib\\site-packages\\jupyter_contrib_nbextensions\\nbextensions\\hide_input\\icon.png -> C:\\ProgramData\\jupyter\\nbextensions\\hide_input\\icon.png\n",
      "[I 15:26:44 InstallContribNbextensionsApp] Copying: c:\\users\\melod\\anaconda3\\envs\\learn-env\\lib\\site-packages\\jupyter_contrib_nbextensions\\nbextensions\\hide_input\\main.js -> C:\\ProgramData\\jupyter\\nbextensions\\hide_input\\main.js\n",
      "[I 15:26:44 InstallContribNbextensionsApp] Copying: c:\\users\\melod\\anaconda3\\envs\\learn-env\\lib\\site-packages\\jupyter_contrib_nbextensions\\nbextensions\\hide_input\\readme.md -> C:\\ProgramData\\jupyter\\nbextensions\\hide_input\\readme.md\n",
      "[I 15:26:44 InstallContribNbextensionsApp] - Validating: ok\n",
      "[I 15:26:44 InstallContribNbextensionsApp] Installing c:\\users\\melod\\anaconda3\\envs\\learn-env\\lib\\site-packages\\jupyter_contrib_nbextensions\\nbextensions\\hide_input_all -> hide_input_all\n",
      "[I 15:26:44 InstallContribNbextensionsApp] Making directory: C:\\ProgramData\\jupyter\\nbextensions\\hide_input_all\\\n",
      "[I 15:26:44 InstallContribNbextensionsApp] Copying: c:\\users\\melod\\anaconda3\\envs\\learn-env\\lib\\site-packages\\jupyter_contrib_nbextensions\\nbextensions\\hide_input_all\\hide_input_all.yaml -> C:\\ProgramData\\jupyter\\nbextensions\\hide_input_all\\hide_input_all.yaml\n",
      "[I 15:26:44 InstallContribNbextensionsApp] Copying: c:\\users\\melod\\anaconda3\\envs\\learn-env\\lib\\site-packages\\jupyter_contrib_nbextensions\\nbextensions\\hide_input_all\\hide_input_all_hide.png -> C:\\ProgramData\\jupyter\\nbextensions\\hide_input_all\\hide_input_all_hide.png\n",
      "[I 15:26:44 InstallContribNbextensionsApp] Copying: c:\\users\\melod\\anaconda3\\envs\\learn-env\\lib\\site-packages\\jupyter_contrib_nbextensions\\nbextensions\\hide_input_all\\hide_input_all_show.png -> C:\\ProgramData\\jupyter\\nbextensions\\hide_input_all\\hide_input_all_show.png\n",
      "[I 15:26:44 InstallContribNbextensionsApp] Copying: c:\\users\\melod\\anaconda3\\envs\\learn-env\\lib\\site-packages\\jupyter_contrib_nbextensions\\nbextensions\\hide_input_all\\icon.png -> C:\\ProgramData\\jupyter\\nbextensions\\hide_input_all\\icon.png\n",
      "[I 15:26:44 InstallContribNbextensionsApp] Copying: c:\\users\\melod\\anaconda3\\envs\\learn-env\\lib\\site-packages\\jupyter_contrib_nbextensions\\nbextensions\\hide_input_all\\main.js -> C:\\ProgramData\\jupyter\\nbextensions\\hide_input_all\\main.js\n",
      "[I 15:26:44 InstallContribNbextensionsApp] Copying: c:\\users\\melod\\anaconda3\\envs\\learn-env\\lib\\site-packages\\jupyter_contrib_nbextensions\\nbextensions\\hide_input_all\\readme.md -> C:\\ProgramData\\jupyter\\nbextensions\\hide_input_all\\readme.md\n",
      "[I 15:26:44 InstallContribNbextensionsApp] - Validating: ok\n",
      "[I 15:26:44 InstallContribNbextensionsApp] Installing c:\\users\\melod\\anaconda3\\envs\\learn-env\\lib\\site-packages\\jupyter_contrib_nbextensions\\nbextensions\\highlighter -> highlighter\n",
      "[I 15:26:44 InstallContribNbextensionsApp] Making directory: C:\\ProgramData\\jupyter\\nbextensions\\highlighter\\\n",
      "[I 15:26:44 InstallContribNbextensionsApp] Copying: c:\\users\\melod\\anaconda3\\envs\\learn-env\\lib\\site-packages\\jupyter_contrib_nbextensions\\nbextensions\\highlighter\\demo_highlighter.html -> C:\\ProgramData\\jupyter\\nbextensions\\highlighter\\demo_highlighter.html\n",
      "[I 15:26:44 InstallContribNbextensionsApp] Copying: c:\\users\\melod\\anaconda3\\envs\\learn-env\\lib\\site-packages\\jupyter_contrib_nbextensions\\nbextensions\\highlighter\\demo_highlighter.ipynb -> C:\\ProgramData\\jupyter\\nbextensions\\highlighter\\demo_highlighter.ipynb\n",
      "[I 15:26:44 InstallContribNbextensionsApp] Copying: c:\\users\\melod\\anaconda3\\envs\\learn-env\\lib\\site-packages\\jupyter_contrib_nbextensions\\nbextensions\\highlighter\\export_highlights.html -> C:\\ProgramData\\jupyter\\nbextensions\\highlighter\\export_highlights.html\n",
      "[I 15:26:44 InstallContribNbextensionsApp] Copying: c:\\users\\melod\\anaconda3\\envs\\learn-env\\lib\\site-packages\\jupyter_contrib_nbextensions\\nbextensions\\highlighter\\export_highlights.ipynb -> C:\\ProgramData\\jupyter\\nbextensions\\highlighter\\export_highlights.ipynb\n",
      "[I 15:26:44 InstallContribNbextensionsApp] Copying: c:\\users\\melod\\anaconda3\\envs\\learn-env\\lib\\site-packages\\jupyter_contrib_nbextensions\\nbextensions\\highlighter\\export_highlights.pdf -> C:\\ProgramData\\jupyter\\nbextensions\\highlighter\\export_highlights.pdf\n",
      "[I 15:26:44 InstallContribNbextensionsApp] Copying: c:\\users\\melod\\anaconda3\\envs\\learn-env\\lib\\site-packages\\jupyter_contrib_nbextensions\\nbextensions\\highlighter\\export_highlights.tex -> C:\\ProgramData\\jupyter\\nbextensions\\highlighter\\export_highlights.tex\n",
      "[I 15:26:44 InstallContribNbextensionsApp] Copying: c:\\users\\melod\\anaconda3\\envs\\learn-env\\lib\\site-packages\\jupyter_contrib_nbextensions\\nbextensions\\highlighter\\highlighter.css -> C:\\ProgramData\\jupyter\\nbextensions\\highlighter\\highlighter.css\n",
      "[I 15:26:44 InstallContribNbextensionsApp] Copying: c:\\users\\melod\\anaconda3\\envs\\learn-env\\lib\\site-packages\\jupyter_contrib_nbextensions\\nbextensions\\highlighter\\highlighter.js -> C:\\ProgramData\\jupyter\\nbextensions\\highlighter\\highlighter.js\n",
      "[I 15:26:44 InstallContribNbextensionsApp] Copying: c:\\users\\melod\\anaconda3\\envs\\learn-env\\lib\\site-packages\\jupyter_contrib_nbextensions\\nbextensions\\highlighter\\highlighter.yaml -> C:\\ProgramData\\jupyter\\nbextensions\\highlighter\\highlighter.yaml\n",
      "[I 15:26:44 InstallContribNbextensionsApp] Copying: c:\\users\\melod\\anaconda3\\envs\\learn-env\\lib\\site-packages\\jupyter_contrib_nbextensions\\nbextensions\\highlighter\\icon.png -> C:\\ProgramData\\jupyter\\nbextensions\\highlighter\\icon.png\n",
      "[I 15:26:44 InstallContribNbextensionsApp] Copying: c:\\users\\melod\\anaconda3\\envs\\learn-env\\lib\\site-packages\\jupyter_contrib_nbextensions\\nbextensions\\highlighter\\image.gif -> C:\\ProgramData\\jupyter\\nbextensions\\highlighter\\image.gif\n",
      "[I 15:26:44 InstallContribNbextensionsApp] Copying: c:\\users\\melod\\anaconda3\\envs\\learn-env\\lib\\site-packages\\jupyter_contrib_nbextensions\\nbextensions\\highlighter\\readme.md -> C:\\ProgramData\\jupyter\\nbextensions\\highlighter\\readme.md\n",
      "[I 15:26:44 InstallContribNbextensionsApp] Copying: c:\\users\\melod\\anaconda3\\envs\\learn-env\\lib\\site-packages\\jupyter_contrib_nbextensions\\nbextensions\\highlighter\\tst_highlights.html -> C:\\ProgramData\\jupyter\\nbextensions\\highlighter\\tst_highlights.html\n",
      "[I 15:26:44 InstallContribNbextensionsApp] Copying: c:\\users\\melod\\anaconda3\\envs\\learn-env\\lib\\site-packages\\jupyter_contrib_nbextensions\\nbextensions\\highlighter\\tst_highlights.ipynb -> C:\\ProgramData\\jupyter\\nbextensions\\highlighter\\tst_highlights.ipynb\n",
      "[I 15:26:44 InstallContribNbextensionsApp] Copying: c:\\users\\melod\\anaconda3\\envs\\learn-env\\lib\\site-packages\\jupyter_contrib_nbextensions\\nbextensions\\highlighter\\tst_highlights.pdf -> C:\\ProgramData\\jupyter\\nbextensions\\highlighter\\tst_highlights.pdf\n",
      "[I 15:26:44 InstallContribNbextensionsApp] Copying: c:\\users\\melod\\anaconda3\\envs\\learn-env\\lib\\site-packages\\jupyter_contrib_nbextensions\\nbextensions\\highlighter\\tst_highlights.tex -> C:\\ProgramData\\jupyter\\nbextensions\\highlighter\\tst_highlights.tex\n",
      "[I 15:26:44 InstallContribNbextensionsApp] - Validating: ok\n",
      "[I 15:26:44 InstallContribNbextensionsApp] Installing c:\\users\\melod\\anaconda3\\envs\\learn-env\\lib\\site-packages\\jupyter_contrib_nbextensions\\nbextensions\\hinterland -> hinterland\n",
      "[I 15:26:44 InstallContribNbextensionsApp] Making directory: C:\\ProgramData\\jupyter\\nbextensions\\hinterland\\\n",
      "[I 15:26:44 InstallContribNbextensionsApp] Copying: c:\\users\\melod\\anaconda3\\envs\\learn-env\\lib\\site-packages\\jupyter_contrib_nbextensions\\nbextensions\\hinterland\\hinterland.js -> C:\\ProgramData\\jupyter\\nbextensions\\hinterland\\hinterland.js\n",
      "[I 15:26:44 InstallContribNbextensionsApp] Copying: c:\\users\\melod\\anaconda3\\envs\\learn-env\\lib\\site-packages\\jupyter_contrib_nbextensions\\nbextensions\\hinterland\\hinterland.yaml -> C:\\ProgramData\\jupyter\\nbextensions\\hinterland\\hinterland.yaml\n",
      "[I 15:26:44 InstallContribNbextensionsApp] Copying: c:\\users\\melod\\anaconda3\\envs\\learn-env\\lib\\site-packages\\jupyter_contrib_nbextensions\\nbextensions\\hinterland\\README.md -> C:\\ProgramData\\jupyter\\nbextensions\\hinterland\\README.md\n",
      "[I 15:26:44 InstallContribNbextensionsApp] - Validating: ok\n",
      "[I 15:26:44 InstallContribNbextensionsApp] Installing c:\\users\\melod\\anaconda3\\envs\\learn-env\\lib\\site-packages\\jupyter_contrib_nbextensions\\nbextensions\\init_cell -> init_cell\n",
      "[I 15:26:44 InstallContribNbextensionsApp] Making directory: C:\\ProgramData\\jupyter\\nbextensions\\init_cell\\\n",
      "[I 15:26:44 InstallContribNbextensionsApp] Copying: c:\\users\\melod\\anaconda3\\envs\\learn-env\\lib\\site-packages\\jupyter_contrib_nbextensions\\nbextensions\\init_cell\\cell_toolbar_menu.png -> C:\\ProgramData\\jupyter\\nbextensions\\init_cell\\cell_toolbar_menu.png\n",
      "[I 15:26:44 InstallContribNbextensionsApp] Copying: c:\\users\\melod\\anaconda3\\envs\\learn-env\\lib\\site-packages\\jupyter_contrib_nbextensions\\nbextensions\\init_cell\\icon.png -> C:\\ProgramData\\jupyter\\nbextensions\\init_cell\\icon.png\n",
      "[I 15:26:44 InstallContribNbextensionsApp] Copying: c:\\users\\melod\\anaconda3\\envs\\learn-env\\lib\\site-packages\\jupyter_contrib_nbextensions\\nbextensions\\init_cell\\init_cell.yaml -> C:\\ProgramData\\jupyter\\nbextensions\\init_cell\\init_cell.yaml\n",
      "[I 15:26:44 InstallContribNbextensionsApp] Copying: c:\\users\\melod\\anaconda3\\envs\\learn-env\\lib\\site-packages\\jupyter_contrib_nbextensions\\nbextensions\\init_cell\\main.js -> C:\\ProgramData\\jupyter\\nbextensions\\init_cell\\main.js\n",
      "[I 15:26:44 InstallContribNbextensionsApp] Copying: c:\\users\\melod\\anaconda3\\envs\\learn-env\\lib\\site-packages\\jupyter_contrib_nbextensions\\nbextensions\\init_cell\\README.md -> C:\\ProgramData\\jupyter\\nbextensions\\init_cell\\README.md\n",
      "[I 15:26:44 InstallContribNbextensionsApp] - Validating: ok\n",
      "[I 15:26:44 InstallContribNbextensionsApp] Installing c:\\users\\melod\\anaconda3\\envs\\learn-env\\lib\\site-packages\\jupyter_contrib_nbextensions\\nbextensions\\keyboard_shortcut_editor -> keyboard_shortcut_editor\n",
      "[I 15:26:44 InstallContribNbextensionsApp] Making directory: C:\\ProgramData\\jupyter\\nbextensions\\keyboard_shortcut_editor\\\n",
      "[I 15:26:44 InstallContribNbextensionsApp] Copying: c:\\users\\melod\\anaconda3\\envs\\learn-env\\lib\\site-packages\\jupyter_contrib_nbextensions\\nbextensions\\keyboard_shortcut_editor\\icon.png -> C:\\ProgramData\\jupyter\\nbextensions\\keyboard_shortcut_editor\\icon.png\n",
      "[I 15:26:44 InstallContribNbextensionsApp] Copying: c:\\users\\melod\\anaconda3\\envs\\learn-env\\lib\\site-packages\\jupyter_contrib_nbextensions\\nbextensions\\keyboard_shortcut_editor\\keyboard_shortcut_editor.yaml -> C:\\ProgramData\\jupyter\\nbextensions\\keyboard_shortcut_editor\\keyboard_shortcut_editor.yaml\n",
      "[I 15:26:44 InstallContribNbextensionsApp] Copying: c:\\users\\melod\\anaconda3\\envs\\learn-env\\lib\\site-packages\\jupyter_contrib_nbextensions\\nbextensions\\keyboard_shortcut_editor\\kse_components.js -> C:\\ProgramData\\jupyter\\nbextensions\\keyboard_shortcut_editor\\kse_components.js\n",
      "[I 15:26:44 InstallContribNbextensionsApp] Copying: c:\\users\\melod\\anaconda3\\envs\\learn-env\\lib\\site-packages\\jupyter_contrib_nbextensions\\nbextensions\\keyboard_shortcut_editor\\main.css -> C:\\ProgramData\\jupyter\\nbextensions\\keyboard_shortcut_editor\\main.css\n",
      "[I 15:26:44 InstallContribNbextensionsApp] Copying: c:\\users\\melod\\anaconda3\\envs\\learn-env\\lib\\site-packages\\jupyter_contrib_nbextensions\\nbextensions\\keyboard_shortcut_editor\\main.js -> C:\\ProgramData\\jupyter\\nbextensions\\keyboard_shortcut_editor\\main.js\n",
      "[I 15:26:44 InstallContribNbextensionsApp] Copying: c:\\users\\melod\\anaconda3\\envs\\learn-env\\lib\\site-packages\\jupyter_contrib_nbextensions\\nbextensions\\keyboard_shortcut_editor\\quickhelp_shim.js -> C:\\ProgramData\\jupyter\\nbextensions\\keyboard_shortcut_editor\\quickhelp_shim.js\n",
      "[I 15:26:44 InstallContribNbextensionsApp] Copying: c:\\users\\melod\\anaconda3\\envs\\learn-env\\lib\\site-packages\\jupyter_contrib_nbextensions\\nbextensions\\keyboard_shortcut_editor\\README.md -> C:\\ProgramData\\jupyter\\nbextensions\\keyboard_shortcut_editor\\README.md\n",
      "[I 15:26:44 InstallContribNbextensionsApp] Copying: c:\\users\\melod\\anaconda3\\envs\\learn-env\\lib\\site-packages\\jupyter_contrib_nbextensions\\nbextensions\\keyboard_shortcut_editor\\readme_add_new_link.png -> C:\\ProgramData\\jupyter\\nbextensions\\keyboard_shortcut_editor\\readme_add_new_link.png\n",
      "[I 15:26:44 InstallContribNbextensionsApp] Copying: c:\\users\\melod\\anaconda3\\envs\\learn-env\\lib\\site-packages\\jupyter_contrib_nbextensions\\nbextensions\\keyboard_shortcut_editor\\readme_add_new_select_action.png -> C:\\ProgramData\\jupyter\\nbextensions\\keyboard_shortcut_editor\\readme_add_new_select_action.png\n",
      "[I 15:26:44 InstallContribNbextensionsApp] Copying: c:\\users\\melod\\anaconda3\\envs\\learn-env\\lib\\site-packages\\jupyter_contrib_nbextensions\\nbextensions\\keyboard_shortcut_editor\\readme_comma.png -> C:\\ProgramData\\jupyter\\nbextensions\\keyboard_shortcut_editor\\readme_comma.png\n",
      "[I 15:26:44 InstallContribNbextensionsApp] Copying: c:\\users\\melod\\anaconda3\\envs\\learn-env\\lib\\site-packages\\jupyter_contrib_nbextensions\\nbextensions\\keyboard_shortcut_editor\\readme_conflict.png -> C:\\ProgramData\\jupyter\\nbextensions\\keyboard_shortcut_editor\\readme_conflict.png\n",
      "[I 15:26:44 InstallContribNbextensionsApp] Copying: c:\\users\\melod\\anaconda3\\envs\\learn-env\\lib\\site-packages\\jupyter_contrib_nbextensions\\nbextensions\\keyboard_shortcut_editor\\readme_dropdown.png -> C:\\ProgramData\\jupyter\\nbextensions\\keyboard_shortcut_editor\\readme_dropdown.png\n",
      "[I 15:26:44 InstallContribNbextensionsApp] Copying: c:\\users\\melod\\anaconda3\\envs\\learn-env\\lib\\site-packages\\jupyter_contrib_nbextensions\\nbextensions\\keyboard_shortcut_editor\\readme_menu_item.png -> C:\\ProgramData\\jupyter\\nbextensions\\keyboard_shortcut_editor\\readme_menu_item.png\n",
      "[I 15:26:44 InstallContribNbextensionsApp] Copying: c:\\users\\melod\\anaconda3\\envs\\learn-env\\lib\\site-packages\\jupyter_contrib_nbextensions\\nbextensions\\keyboard_shortcut_editor\\readme_reset_disabled.png -> C:\\ProgramData\\jupyter\\nbextensions\\keyboard_shortcut_editor\\readme_reset_disabled.png\n",
      "[I 15:26:44 InstallContribNbextensionsApp] Copying: c:\\users\\melod\\anaconda3\\envs\\learn-env\\lib\\site-packages\\jupyter_contrib_nbextensions\\nbextensions\\keyboard_shortcut_editor\\readme_shortcut_editor_blank.png -> C:\\ProgramData\\jupyter\\nbextensions\\keyboard_shortcut_editor\\readme_shortcut_editor_blank.png\n",
      "[I 15:26:44 InstallContribNbextensionsApp] Copying: c:\\users\\melod\\anaconda3\\envs\\learn-env\\lib\\site-packages\\jupyter_contrib_nbextensions\\nbextensions\\keyboard_shortcut_editor\\readme_shortcut_editor_success.png -> C:\\ProgramData\\jupyter\\nbextensions\\keyboard_shortcut_editor\\readme_shortcut_editor_success.png\n",
      "[I 15:26:44 InstallContribNbextensionsApp] Copying: c:\\users\\melod\\anaconda3\\envs\\learn-env\\lib\\site-packages\\jupyter_contrib_nbextensions\\nbextensions\\keyboard_shortcut_editor\\readme_undefined_key.png -> C:\\ProgramData\\jupyter\\nbextensions\\keyboard_shortcut_editor\\readme_undefined_key.png\n",
      "[I 15:26:44 InstallContribNbextensionsApp] - Validating: ok\n",
      "[I 15:26:44 InstallContribNbextensionsApp] Installing c:\\users\\melod\\anaconda3\\envs\\learn-env\\lib\\site-packages\\jupyter_contrib_nbextensions\\nbextensions\\limit_output -> limit_output\n",
      "[I 15:26:44 InstallContribNbextensionsApp] Making directory: C:\\ProgramData\\jupyter\\nbextensions\\limit_output\\\n",
      "[I 15:26:44 InstallContribNbextensionsApp] Copying: c:\\users\\melod\\anaconda3\\envs\\learn-env\\lib\\site-packages\\jupyter_contrib_nbextensions\\nbextensions\\limit_output\\icon.png -> C:\\ProgramData\\jupyter\\nbextensions\\limit_output\\icon.png\n",
      "[I 15:26:44 InstallContribNbextensionsApp] Copying: c:\\users\\melod\\anaconda3\\envs\\learn-env\\lib\\site-packages\\jupyter_contrib_nbextensions\\nbextensions\\limit_output\\limit-output.yaml -> C:\\ProgramData\\jupyter\\nbextensions\\limit_output\\limit-output.yaml\n",
      "[I 15:26:44 InstallContribNbextensionsApp] Copying: c:\\users\\melod\\anaconda3\\envs\\learn-env\\lib\\site-packages\\jupyter_contrib_nbextensions\\nbextensions\\limit_output\\main.js -> C:\\ProgramData\\jupyter\\nbextensions\\limit_output\\main.js\n",
      "[I 15:26:44 InstallContribNbextensionsApp] Copying: c:\\users\\melod\\anaconda3\\envs\\learn-env\\lib\\site-packages\\jupyter_contrib_nbextensions\\nbextensions\\limit_output\\readme.md -> C:\\ProgramData\\jupyter\\nbextensions\\limit_output\\readme.md\n",
      "[I 15:26:44 InstallContribNbextensionsApp] - Validating: ok\n",
      "[I 15:26:44 InstallContribNbextensionsApp] Installing c:\\users\\melod\\anaconda3\\envs\\learn-env\\lib\\site-packages\\jupyter_contrib_nbextensions\\nbextensions\\livemdpreview -> livemdpreview\n",
      "[I 15:26:44 InstallContribNbextensionsApp] Making directory: C:\\ProgramData\\jupyter\\nbextensions\\livemdpreview\\\n",
      "[I 15:26:44 InstallContribNbextensionsApp] Copying: c:\\users\\melod\\anaconda3\\envs\\learn-env\\lib\\site-packages\\jupyter_contrib_nbextensions\\nbextensions\\livemdpreview\\livemdpreview.js -> C:\\ProgramData\\jupyter\\nbextensions\\livemdpreview\\livemdpreview.js\n",
      "[I 15:26:44 InstallContribNbextensionsApp] Copying: c:\\users\\melod\\anaconda3\\envs\\learn-env\\lib\\site-packages\\jupyter_contrib_nbextensions\\nbextensions\\livemdpreview\\livemdpreview.yml -> C:\\ProgramData\\jupyter\\nbextensions\\livemdpreview\\livemdpreview.yml\n",
      "[I 15:26:44 InstallContribNbextensionsApp] - Validating: ok\n",
      "[I 15:26:44 InstallContribNbextensionsApp] Installing c:\\users\\melod\\anaconda3\\envs\\learn-env\\lib\\site-packages\\jupyter_contrib_nbextensions\\nbextensions\\load_tex_macros -> load_tex_macros\n",
      "[I 15:26:44 InstallContribNbextensionsApp] Making directory: C:\\ProgramData\\jupyter\\nbextensions\\load_tex_macros\\\n",
      "[I 15:26:44 InstallContribNbextensionsApp] Copying: c:\\users\\melod\\anaconda3\\envs\\learn-env\\lib\\site-packages\\jupyter_contrib_nbextensions\\nbextensions\\load_tex_macros\\icon.png -> C:\\ProgramData\\jupyter\\nbextensions\\load_tex_macros\\icon.png\n",
      "[I 15:26:44 InstallContribNbextensionsApp] Copying: c:\\users\\melod\\anaconda3\\envs\\learn-env\\lib\\site-packages\\jupyter_contrib_nbextensions\\nbextensions\\load_tex_macros\\load_tex_macros.yaml -> C:\\ProgramData\\jupyter\\nbextensions\\load_tex_macros\\load_tex_macros.yaml\n",
      "[I 15:26:44 InstallContribNbextensionsApp] Copying: c:\\users\\melod\\anaconda3\\envs\\learn-env\\lib\\site-packages\\jupyter_contrib_nbextensions\\nbextensions\\load_tex_macros\\main.js -> C:\\ProgramData\\jupyter\\nbextensions\\load_tex_macros\\main.js\n",
      "[I 15:26:44 InstallContribNbextensionsApp] Copying: c:\\users\\melod\\anaconda3\\envs\\learn-env\\lib\\site-packages\\jupyter_contrib_nbextensions\\nbextensions\\load_tex_macros\\readme.md -> C:\\ProgramData\\jupyter\\nbextensions\\load_tex_macros\\readme.md\n",
      "[I 15:26:44 InstallContribNbextensionsApp] - Validating: ok\n",
      "[I 15:26:44 InstallContribNbextensionsApp] Installing c:\\users\\melod\\anaconda3\\envs\\learn-env\\lib\\site-packages\\jupyter_contrib_nbextensions\\nbextensions\\move_selected_cells -> move_selected_cells\n",
      "[I 15:26:44 InstallContribNbextensionsApp] Making directory: C:\\ProgramData\\jupyter\\nbextensions\\move_selected_cells\\\n",
      "[I 15:26:44 InstallContribNbextensionsApp] Copying: c:\\users\\melod\\anaconda3\\envs\\learn-env\\lib\\site-packages\\jupyter_contrib_nbextensions\\nbextensions\\move_selected_cells\\main.js -> C:\\ProgramData\\jupyter\\nbextensions\\move_selected_cells\\main.js\n",
      "[I 15:26:44 InstallContribNbextensionsApp] Copying: c:\\users\\melod\\anaconda3\\envs\\learn-env\\lib\\site-packages\\jupyter_contrib_nbextensions\\nbextensions\\move_selected_cells\\move_selected_cells.yaml -> C:\\ProgramData\\jupyter\\nbextensions\\move_selected_cells\\move_selected_cells.yaml\n",
      "[I 15:26:44 InstallContribNbextensionsApp] Copying: c:\\users\\melod\\anaconda3\\envs\\learn-env\\lib\\site-packages\\jupyter_contrib_nbextensions\\nbextensions\\move_selected_cells\\README.md -> C:\\ProgramData\\jupyter\\nbextensions\\move_selected_cells\\README.md\n",
      "[I 15:26:44 InstallContribNbextensionsApp] - Validating: ok\n",
      "[I 15:26:44 InstallContribNbextensionsApp] Installing c:\\users\\melod\\anaconda3\\envs\\learn-env\\lib\\site-packages\\jupyter_contrib_nbextensions\\nbextensions\\navigation-hotkeys -> navigation-hotkeys\n",
      "[I 15:26:44 InstallContribNbextensionsApp] Making directory: C:\\ProgramData\\jupyter\\nbextensions\\navigation-hotkeys\\\n",
      "[I 15:26:44 InstallContribNbextensionsApp] Copying: c:\\users\\melod\\anaconda3\\envs\\learn-env\\lib\\site-packages\\jupyter_contrib_nbextensions\\nbextensions\\navigation-hotkeys\\hotkeys.yaml -> C:\\ProgramData\\jupyter\\nbextensions\\navigation-hotkeys\\hotkeys.yaml\n",
      "[I 15:26:44 InstallContribNbextensionsApp] Copying: c:\\users\\melod\\anaconda3\\envs\\learn-env\\lib\\site-packages\\jupyter_contrib_nbextensions\\nbextensions\\navigation-hotkeys\\icon.png -> C:\\ProgramData\\jupyter\\nbextensions\\navigation-hotkeys\\icon.png\n",
      "[I 15:26:44 InstallContribNbextensionsApp] Copying: c:\\users\\melod\\anaconda3\\envs\\learn-env\\lib\\site-packages\\jupyter_contrib_nbextensions\\nbextensions\\navigation-hotkeys\\main.js -> C:\\ProgramData\\jupyter\\nbextensions\\navigation-hotkeys\\main.js\n",
      "[I 15:26:44 InstallContribNbextensionsApp] Copying: c:\\users\\melod\\anaconda3\\envs\\learn-env\\lib\\site-packages\\jupyter_contrib_nbextensions\\nbextensions\\navigation-hotkeys\\readme.md -> C:\\ProgramData\\jupyter\\nbextensions\\navigation-hotkeys\\readme.md\n",
      "[I 15:26:44 InstallContribNbextensionsApp] - Validating: ok\n",
      "[I 15:26:44 InstallContribNbextensionsApp] Installing c:\\users\\melod\\anaconda3\\envs\\learn-env\\lib\\site-packages\\jupyter_contrib_nbextensions\\nbextensions\\nbTranslate -> nbTranslate\n",
      "[I 15:26:44 InstallContribNbextensionsApp] Making directory: C:\\ProgramData\\jupyter\\nbextensions\\nbTranslate\\\n",
      "[I 15:26:44 InstallContribNbextensionsApp] Copying: c:\\users\\melod\\anaconda3\\envs\\learn-env\\lib\\site-packages\\jupyter_contrib_nbextensions\\nbextensions\\nbTranslate\\demo1.gif -> C:\\ProgramData\\jupyter\\nbextensions\\nbTranslate\\demo1.gif\n",
      "[I 15:26:44 InstallContribNbextensionsApp] Copying: c:\\users\\melod\\anaconda3\\envs\\learn-env\\lib\\site-packages\\jupyter_contrib_nbextensions\\nbextensions\\nbTranslate\\demo2.gif -> C:\\ProgramData\\jupyter\\nbextensions\\nbTranslate\\demo2.gif\n",
      "[I 15:26:44 InstallContribNbextensionsApp] Copying: c:\\users\\melod\\anaconda3\\envs\\learn-env\\lib\\site-packages\\jupyter_contrib_nbextensions\\nbextensions\\nbTranslate\\languages.js -> C:\\ProgramData\\jupyter\\nbextensions\\nbTranslate\\languages.js\n",
      "[I 15:26:44 InstallContribNbextensionsApp] Copying: c:\\users\\melod\\anaconda3\\envs\\learn-env\\lib\\site-packages\\jupyter_contrib_nbextensions\\nbextensions\\nbTranslate\\main.js -> C:\\ProgramData\\jupyter\\nbextensions\\nbTranslate\\main.js\n",
      "[I 15:26:44 InstallContribNbextensionsApp] Copying: c:\\users\\melod\\anaconda3\\envs\\learn-env\\lib\\site-packages\\jupyter_contrib_nbextensions\\nbextensions\\nbTranslate\\mutils.js -> C:\\ProgramData\\jupyter\\nbextensions\\nbTranslate\\mutils.js\n",
      "[I 15:26:44 InstallContribNbextensionsApp] Copying: c:\\users\\melod\\anaconda3\\envs\\learn-env\\lib\\site-packages\\jupyter_contrib_nbextensions\\nbextensions\\nbTranslate\\nbTranslate.js -> C:\\ProgramData\\jupyter\\nbextensions\\nbTranslate\\nbTranslate.js\n",
      "[I 15:26:44 InstallContribNbextensionsApp] Copying: c:\\users\\melod\\anaconda3\\envs\\learn-env\\lib\\site-packages\\jupyter_contrib_nbextensions\\nbextensions\\nbTranslate\\nbTranslate.yaml -> C:\\ProgramData\\jupyter\\nbextensions\\nbTranslate\\nbTranslate.yaml\n",
      "[I 15:26:44 InstallContribNbextensionsApp] Copying: c:\\users\\melod\\anaconda3\\envs\\learn-env\\lib\\site-packages\\jupyter_contrib_nbextensions\\nbextensions\\nbTranslate\\README.md -> C:\\ProgramData\\jupyter\\nbextensions\\nbTranslate\\README.md\n",
      "[I 15:26:44 InstallContribNbextensionsApp] - Validating: ok\n",
      "[I 15:26:44 InstallContribNbextensionsApp] Installing c:\\users\\melod\\anaconda3\\envs\\learn-env\\lib\\site-packages\\jupyter_contrib_nbextensions\\nbextensions\\notify -> notify\n",
      "[I 15:26:44 InstallContribNbextensionsApp] Making directory: C:\\ProgramData\\jupyter\\nbextensions\\notify\\\n",
      "[I 15:26:44 InstallContribNbextensionsApp] Copying: c:\\users\\melod\\anaconda3\\envs\\learn-env\\lib\\site-packages\\jupyter_contrib_nbextensions\\nbextensions\\notify\\notification.png -> C:\\ProgramData\\jupyter\\nbextensions\\notify\\notification.png\n",
      "[I 15:26:44 InstallContribNbextensionsApp] Copying: c:\\users\\melod\\anaconda3\\envs\\learn-env\\lib\\site-packages\\jupyter_contrib_nbextensions\\nbextensions\\notify\\notify.js -> C:\\ProgramData\\jupyter\\nbextensions\\notify\\notify.js\n",
      "[I 15:26:44 InstallContribNbextensionsApp] Copying: c:\\users\\melod\\anaconda3\\envs\\learn-env\\lib\\site-packages\\jupyter_contrib_nbextensions\\nbextensions\\notify\\notify.mp3 -> C:\\ProgramData\\jupyter\\nbextensions\\notify\\notify.mp3\n",
      "[I 15:26:44 InstallContribNbextensionsApp] Copying: c:\\users\\melod\\anaconda3\\envs\\learn-env\\lib\\site-packages\\jupyter_contrib_nbextensions\\nbextensions\\notify\\notify.yaml -> C:\\ProgramData\\jupyter\\nbextensions\\notify\\notify.yaml\n",
      "[I 15:26:44 InstallContribNbextensionsApp] Copying: c:\\users\\melod\\anaconda3\\envs\\learn-env\\lib\\site-packages\\jupyter_contrib_nbextensions\\nbextensions\\notify\\readme.md -> C:\\ProgramData\\jupyter\\nbextensions\\notify\\readme.md\n",
      "[I 15:26:44 InstallContribNbextensionsApp] - Validating: ok\n",
      "[I 15:26:44 InstallContribNbextensionsApp] Installing c:\\users\\melod\\anaconda3\\envs\\learn-env\\lib\\site-packages\\jupyter_contrib_nbextensions\\nbextensions\\printview -> printview\n",
      "[I 15:26:44 InstallContribNbextensionsApp] Making directory: C:\\ProgramData\\jupyter\\nbextensions\\printview\\\n",
      "[I 15:26:44 InstallContribNbextensionsApp] Copying: c:\\users\\melod\\anaconda3\\envs\\learn-env\\lib\\site-packages\\jupyter_contrib_nbextensions\\nbextensions\\printview\\icon.png -> C:\\ProgramData\\jupyter\\nbextensions\\printview\\icon.png\n",
      "[I 15:26:44 InstallContribNbextensionsApp] Copying: c:\\users\\melod\\anaconda3\\envs\\learn-env\\lib\\site-packages\\jupyter_contrib_nbextensions\\nbextensions\\printview\\main.js -> C:\\ProgramData\\jupyter\\nbextensions\\printview\\main.js\n",
      "[I 15:26:44 InstallContribNbextensionsApp] Copying: c:\\users\\melod\\anaconda3\\envs\\learn-env\\lib\\site-packages\\jupyter_contrib_nbextensions\\nbextensions\\printview\\printview-button.png -> C:\\ProgramData\\jupyter\\nbextensions\\printview\\printview-button.png\n",
      "[I 15:26:44 InstallContribNbextensionsApp] Copying: c:\\users\\melod\\anaconda3\\envs\\learn-env\\lib\\site-packages\\jupyter_contrib_nbextensions\\nbextensions\\printview\\printview.yaml -> C:\\ProgramData\\jupyter\\nbextensions\\printview\\printview.yaml\n",
      "[I 15:26:44 InstallContribNbextensionsApp] Copying: c:\\users\\melod\\anaconda3\\envs\\learn-env\\lib\\site-packages\\jupyter_contrib_nbextensions\\nbextensions\\printview\\readme.md -> C:\\ProgramData\\jupyter\\nbextensions\\printview\\readme.md\n",
      "[I 15:26:44 InstallContribNbextensionsApp] - Validating: ok\n",
      "[I 15:26:44 InstallContribNbextensionsApp] Installing c:\\users\\melod\\anaconda3\\envs\\learn-env\\lib\\site-packages\\jupyter_contrib_nbextensions\\nbextensions\\python-markdown -> python-markdown\n",
      "[I 15:26:44 InstallContribNbextensionsApp] Making directory: C:\\ProgramData\\jupyter\\nbextensions\\python-markdown\\\n",
      "[I 15:26:44 InstallContribNbextensionsApp] Copying: c:\\users\\melod\\anaconda3\\envs\\learn-env\\lib\\site-packages\\jupyter_contrib_nbextensions\\nbextensions\\python-markdown\\main.css -> C:\\ProgramData\\jupyter\\nbextensions\\python-markdown\\main.css\n",
      "[I 15:26:44 InstallContribNbextensionsApp] Copying: c:\\users\\melod\\anaconda3\\envs\\learn-env\\lib\\site-packages\\jupyter_contrib_nbextensions\\nbextensions\\python-markdown\\main.js -> C:\\ProgramData\\jupyter\\nbextensions\\python-markdown\\main.js\n",
      "[I 15:26:44 InstallContribNbextensionsApp] Copying: c:\\users\\melod\\anaconda3\\envs\\learn-env\\lib\\site-packages\\jupyter_contrib_nbextensions\\nbextensions\\python-markdown\\python-markdown-post.png -> C:\\ProgramData\\jupyter\\nbextensions\\python-markdown\\python-markdown-post.png\n",
      "[I 15:26:44 InstallContribNbextensionsApp] Copying: c:\\users\\melod\\anaconda3\\envs\\learn-env\\lib\\site-packages\\jupyter_contrib_nbextensions\\nbextensions\\python-markdown\\python-markdown-pre.png -> C:\\ProgramData\\jupyter\\nbextensions\\python-markdown\\python-markdown-pre.png\n",
      "[I 15:26:44 InstallContribNbextensionsApp] Copying: c:\\users\\melod\\anaconda3\\envs\\learn-env\\lib\\site-packages\\jupyter_contrib_nbextensions\\nbextensions\\python-markdown\\python-markdown.png -> C:\\ProgramData\\jupyter\\nbextensions\\python-markdown\\python-markdown.png\n",
      "[I 15:26:44 InstallContribNbextensionsApp] Copying: c:\\users\\melod\\anaconda3\\envs\\learn-env\\lib\\site-packages\\jupyter_contrib_nbextensions\\nbextensions\\python-markdown\\python-markdown.yaml -> C:\\ProgramData\\jupyter\\nbextensions\\python-markdown\\python-markdown.yaml\n",
      "[I 15:26:44 InstallContribNbextensionsApp] Copying: c:\\users\\melod\\anaconda3\\envs\\learn-env\\lib\\site-packages\\jupyter_contrib_nbextensions\\nbextensions\\python-markdown\\readme.md -> C:\\ProgramData\\jupyter\\nbextensions\\python-markdown\\readme.md\n",
      "[I 15:26:44 InstallContribNbextensionsApp] Copying: c:\\users\\melod\\anaconda3\\envs\\learn-env\\lib\\site-packages\\jupyter_contrib_nbextensions\\nbextensions\\python-markdown\\trusted.png -> C:\\ProgramData\\jupyter\\nbextensions\\python-markdown\\trusted.png\n",
      "[I 15:26:44 InstallContribNbextensionsApp] Copying: c:\\users\\melod\\anaconda3\\envs\\learn-env\\lib\\site-packages\\jupyter_contrib_nbextensions\\nbextensions\\python-markdown\\untrusted.png -> C:\\ProgramData\\jupyter\\nbextensions\\python-markdown\\untrusted.png\n",
      "[I 15:26:44 InstallContribNbextensionsApp] - Validating: ok\n",
      "[I 15:26:44 InstallContribNbextensionsApp] Installing c:\\users\\melod\\anaconda3\\envs\\learn-env\\lib\\site-packages\\jupyter_contrib_nbextensions\\nbextensions\\qtconsole -> qtconsole\n",
      "[I 15:26:44 InstallContribNbextensionsApp] Making directory: C:\\ProgramData\\jupyter\\nbextensions\\qtconsole\\\n",
      "[I 15:26:44 InstallContribNbextensionsApp] Copying: c:\\users\\melod\\anaconda3\\envs\\learn-env\\lib\\site-packages\\jupyter_contrib_nbextensions\\nbextensions\\qtconsole\\qtconsole.js -> C:\\ProgramData\\jupyter\\nbextensions\\qtconsole\\qtconsole.js\n",
      "[I 15:26:44 InstallContribNbextensionsApp] Copying: c:\\users\\melod\\anaconda3\\envs\\learn-env\\lib\\site-packages\\jupyter_contrib_nbextensions\\nbextensions\\qtconsole\\qtconsole.yaml -> C:\\ProgramData\\jupyter\\nbextensions\\qtconsole\\qtconsole.yaml\n",
      "[I 15:26:44 InstallContribNbextensionsApp] Copying: c:\\users\\melod\\anaconda3\\envs\\learn-env\\lib\\site-packages\\jupyter_contrib_nbextensions\\nbextensions\\qtconsole\\README.md -> C:\\ProgramData\\jupyter\\nbextensions\\qtconsole\\README.md\n",
      "[I 15:26:44 InstallContribNbextensionsApp] - Validating: ok\n",
      "[I 15:26:44 InstallContribNbextensionsApp] Installing c:\\users\\melod\\anaconda3\\envs\\learn-env\\lib\\site-packages\\jupyter_contrib_nbextensions\\nbextensions\\rubberband -> rubberband\n",
      "[I 15:26:44 InstallContribNbextensionsApp] Making directory: C:\\ProgramData\\jupyter\\nbextensions\\rubberband\\\n",
      "[I 15:26:44 InstallContribNbextensionsApp] Copying: c:\\users\\melod\\anaconda3\\envs\\learn-env\\lib\\site-packages\\jupyter_contrib_nbextensions\\nbextensions\\rubberband\\icon.png -> C:\\ProgramData\\jupyter\\nbextensions\\rubberband\\icon.png\n",
      "[I 15:26:44 InstallContribNbextensionsApp] Copying: c:\\users\\melod\\anaconda3\\envs\\learn-env\\lib\\site-packages\\jupyter_contrib_nbextensions\\nbextensions\\rubberband\\main.css -> C:\\ProgramData\\jupyter\\nbextensions\\rubberband\\main.css\n",
      "[I 15:26:44 InstallContribNbextensionsApp] Copying: c:\\users\\melod\\anaconda3\\envs\\learn-env\\lib\\site-packages\\jupyter_contrib_nbextensions\\nbextensions\\rubberband\\main.js -> C:\\ProgramData\\jupyter\\nbextensions\\rubberband\\main.js\n",
      "[I 15:26:44 InstallContribNbextensionsApp] Copying: c:\\users\\melod\\anaconda3\\envs\\learn-env\\lib\\site-packages\\jupyter_contrib_nbextensions\\nbextensions\\rubberband\\readme.md -> C:\\ProgramData\\jupyter\\nbextensions\\rubberband\\readme.md\n",
      "[I 15:26:44 InstallContribNbextensionsApp] Copying: c:\\users\\melod\\anaconda3\\envs\\learn-env\\lib\\site-packages\\jupyter_contrib_nbextensions\\nbextensions\\rubberband\\rubberband.yaml -> C:\\ProgramData\\jupyter\\nbextensions\\rubberband\\rubberband.yaml\n",
      "[I 15:26:44 InstallContribNbextensionsApp] - Validating: ok\n",
      "[I 15:26:44 InstallContribNbextensionsApp] Installing c:\\users\\melod\\anaconda3\\envs\\learn-env\\lib\\site-packages\\jupyter_contrib_nbextensions\\nbextensions\\ruler -> ruler\n",
      "[I 15:26:44 InstallContribNbextensionsApp] Making directory: C:\\ProgramData\\jupyter\\nbextensions\\ruler\\\n",
      "[I 15:26:44 InstallContribNbextensionsApp] Copying: c:\\users\\melod\\anaconda3\\envs\\learn-env\\lib\\site-packages\\jupyter_contrib_nbextensions\\nbextensions\\ruler\\edit.js -> C:\\ProgramData\\jupyter\\nbextensions\\ruler\\edit.js\n",
      "[I 15:26:44 InstallContribNbextensionsApp] Copying: c:\\users\\melod\\anaconda3\\envs\\learn-env\\lib\\site-packages\\jupyter_contrib_nbextensions\\nbextensions\\ruler\\icon.png -> C:\\ProgramData\\jupyter\\nbextensions\\ruler\\icon.png\n",
      "[I 15:26:44 InstallContribNbextensionsApp] Copying: c:\\users\\melod\\anaconda3\\envs\\learn-env\\lib\\site-packages\\jupyter_contrib_nbextensions\\nbextensions\\ruler\\main.js -> C:\\ProgramData\\jupyter\\nbextensions\\ruler\\main.js\n",
      "[I 15:26:44 InstallContribNbextensionsApp] Copying: c:\\users\\melod\\anaconda3\\envs\\learn-env\\lib\\site-packages\\jupyter_contrib_nbextensions\\nbextensions\\ruler\\readme.md -> C:\\ProgramData\\jupyter\\nbextensions\\ruler\\readme.md\n",
      "[I 15:26:44 InstallContribNbextensionsApp] Copying: c:\\users\\melod\\anaconda3\\envs\\learn-env\\lib\\site-packages\\jupyter_contrib_nbextensions\\nbextensions\\ruler\\ruler.yaml -> C:\\ProgramData\\jupyter\\nbextensions\\ruler\\ruler.yaml\n",
      "[I 15:26:44 InstallContribNbextensionsApp] Copying: c:\\users\\melod\\anaconda3\\envs\\learn-env\\lib\\site-packages\\jupyter_contrib_nbextensions\\nbextensions\\ruler\\ruler_editor.yaml -> C:\\ProgramData\\jupyter\\nbextensions\\ruler\\ruler_editor.yaml\n",
      "[I 15:26:44 InstallContribNbextensionsApp] - Validating: ok\n",
      "[I 15:26:44 InstallContribNbextensionsApp] Installing c:\\users\\melod\\anaconda3\\envs\\learn-env\\lib\\site-packages\\jupyter_contrib_nbextensions\\nbextensions\\ruler -> ruler\n",
      "[I 15:26:44 InstallContribNbextensionsApp] Up to date: C:\\ProgramData\\jupyter\\nbextensions\\ruler\\edit.js\n",
      "[I 15:26:44 InstallContribNbextensionsApp] Up to date: C:\\ProgramData\\jupyter\\nbextensions\\ruler\\icon.png\n",
      "[I 15:26:44 InstallContribNbextensionsApp] Up to date: C:\\ProgramData\\jupyter\\nbextensions\\ruler\\main.js\n",
      "[I 15:26:44 InstallContribNbextensionsApp] Up to date: C:\\ProgramData\\jupyter\\nbextensions\\ruler\\readme.md\n",
      "[I 15:26:44 InstallContribNbextensionsApp] Up to date: C:\\ProgramData\\jupyter\\nbextensions\\ruler\\ruler.yaml\n",
      "[I 15:26:44 InstallContribNbextensionsApp] Up to date: C:\\ProgramData\\jupyter\\nbextensions\\ruler\\ruler_editor.yaml\n",
      "[I 15:26:44 InstallContribNbextensionsApp] - Validating: ok\n",
      "[I 15:26:44 InstallContribNbextensionsApp] Installing c:\\users\\melod\\anaconda3\\envs\\learn-env\\lib\\site-packages\\jupyter_contrib_nbextensions\\nbextensions\\runtools -> runtools\n",
      "[I 15:26:44 InstallContribNbextensionsApp] Making directory: C:\\ProgramData\\jupyter\\nbextensions\\runtools\\\n",
      "[I 15:26:44 InstallContribNbextensionsApp] Copying: c:\\users\\melod\\anaconda3\\envs\\learn-env\\lib\\site-packages\\jupyter_contrib_nbextensions\\nbextensions\\runtools\\annotations.odg -> C:\\ProgramData\\jupyter\\nbextensions\\runtools\\annotations.odg\n",
      "[I 15:26:44 InstallContribNbextensionsApp] Copying: c:\\users\\melod\\anaconda3\\envs\\learn-env\\lib\\site-packages\\jupyter_contrib_nbextensions\\nbextensions\\runtools\\cellstate.js -> C:\\ProgramData\\jupyter\\nbextensions\\runtools\\cellstate.js\n",
      "[I 15:26:44 InstallContribNbextensionsApp] Copying: c:\\users\\melod\\anaconda3\\envs\\learn-env\\lib\\site-packages\\jupyter_contrib_nbextensions\\nbextensions\\runtools\\demo.gif -> C:\\ProgramData\\jupyter\\nbextensions\\runtools\\demo.gif\n",
      "[I 15:26:44 InstallContribNbextensionsApp] Copying: c:\\users\\melod\\anaconda3\\envs\\learn-env\\lib\\site-packages\\jupyter_contrib_nbextensions\\nbextensions\\runtools\\gutter.css -> C:\\ProgramData\\jupyter\\nbextensions\\runtools\\gutter.css\n",
      "[I 15:26:44 InstallContribNbextensionsApp] Copying: c:\\users\\melod\\anaconda3\\envs\\learn-env\\lib\\site-packages\\jupyter_contrib_nbextensions\\nbextensions\\runtools\\icon.png -> C:\\ProgramData\\jupyter\\nbextensions\\runtools\\icon.png\n",
      "[I 15:26:44 InstallContribNbextensionsApp] Copying: c:\\users\\melod\\anaconda3\\envs\\learn-env\\lib\\site-packages\\jupyter_contrib_nbextensions\\nbextensions\\runtools\\main.css -> C:\\ProgramData\\jupyter\\nbextensions\\runtools\\main.css\n",
      "[I 15:26:44 InstallContribNbextensionsApp] Copying: c:\\users\\melod\\anaconda3\\envs\\learn-env\\lib\\site-packages\\jupyter_contrib_nbextensions\\nbextensions\\runtools\\main.js -> C:\\ProgramData\\jupyter\\nbextensions\\runtools\\main.js\n",
      "[I 15:26:44 InstallContribNbextensionsApp] Copying: c:\\users\\melod\\anaconda3\\envs\\learn-env\\lib\\site-packages\\jupyter_contrib_nbextensions\\nbextensions\\runtools\\readme.md -> C:\\ProgramData\\jupyter\\nbextensions\\runtools\\readme.md\n",
      "[I 15:26:44 InstallContribNbextensionsApp] Copying: c:\\users\\melod\\anaconda3\\envs\\learn-env\\lib\\site-packages\\jupyter_contrib_nbextensions\\nbextensions\\runtools\\runtools.yaml -> C:\\ProgramData\\jupyter\\nbextensions\\runtools\\runtools.yaml\n",
      "[I 15:26:44 InstallContribNbextensionsApp] Copying: c:\\users\\melod\\anaconda3\\envs\\learn-env\\lib\\site-packages\\jupyter_contrib_nbextensions\\nbextensions\\runtools\\runtools_execute.png -> C:\\ProgramData\\jupyter\\nbextensions\\runtools\\runtools_execute.png\n",
      "[I 15:26:44 InstallContribNbextensionsApp] Copying: c:\\users\\melod\\anaconda3\\envs\\learn-env\\lib\\site-packages\\jupyter_contrib_nbextensions\\nbextensions\\runtools\\runtools_lock.png -> C:\\ProgramData\\jupyter\\nbextensions\\runtools\\runtools_lock.png\n",
      "[I 15:26:44 InstallContribNbextensionsApp] Copying: c:\\users\\melod\\anaconda3\\envs\\learn-env\\lib\\site-packages\\jupyter_contrib_nbextensions\\nbextensions\\runtools\\runtools_marker.png -> C:\\ProgramData\\jupyter\\nbextensions\\runtools\\runtools_marker.png\n",
      "[I 15:26:44 InstallContribNbextensionsApp] Copying: c:\\users\\melod\\anaconda3\\envs\\learn-env\\lib\\site-packages\\jupyter_contrib_nbextensions\\nbextensions\\runtools\\runtools_nb.png -> C:\\ProgramData\\jupyter\\nbextensions\\runtools\\runtools_nb.png\n",
      "[I 15:26:44 InstallContribNbextensionsApp] Copying: c:\\users\\melod\\anaconda3\\envs\\learn-env\\lib\\site-packages\\jupyter_contrib_nbextensions\\nbextensions\\runtools\\runtools_show_hide.png -> C:\\ProgramData\\jupyter\\nbextensions\\runtools\\runtools_show_hide.png\n",
      "[I 15:26:44 InstallContribNbextensionsApp] - Validating: ok\n",
      "[I 15:26:44 InstallContribNbextensionsApp] Installing c:\\users\\melod\\anaconda3\\envs\\learn-env\\lib\\site-packages\\jupyter_contrib_nbextensions\\nbextensions\\scratchpad -> scratchpad\n",
      "[I 15:26:44 InstallContribNbextensionsApp] Making directory: C:\\ProgramData\\jupyter\\nbextensions\\scratchpad\\\n",
      "[I 15:26:44 InstallContribNbextensionsApp] Copying: c:\\users\\melod\\anaconda3\\envs\\learn-env\\lib\\site-packages\\jupyter_contrib_nbextensions\\nbextensions\\scratchpad\\demo.gif -> C:\\ProgramData\\jupyter\\nbextensions\\scratchpad\\demo.gif\n",
      "[I 15:26:44 InstallContribNbextensionsApp] Copying: c:\\users\\melod\\anaconda3\\envs\\learn-env\\lib\\site-packages\\jupyter_contrib_nbextensions\\nbextensions\\scratchpad\\LICENSE -> C:\\ProgramData\\jupyter\\nbextensions\\scratchpad\\LICENSE\n",
      "[I 15:26:44 InstallContribNbextensionsApp] Copying: c:\\users\\melod\\anaconda3\\envs\\learn-env\\lib\\site-packages\\jupyter_contrib_nbextensions\\nbextensions\\scratchpad\\main.js -> C:\\ProgramData\\jupyter\\nbextensions\\scratchpad\\main.js\n",
      "[I 15:26:44 InstallContribNbextensionsApp] Copying: c:\\users\\melod\\anaconda3\\envs\\learn-env\\lib\\site-packages\\jupyter_contrib_nbextensions\\nbextensions\\scratchpad\\README.md -> C:\\ProgramData\\jupyter\\nbextensions\\scratchpad\\README.md\n",
      "[I 15:26:44 InstallContribNbextensionsApp] Copying: c:\\users\\melod\\anaconda3\\envs\\learn-env\\lib\\site-packages\\jupyter_contrib_nbextensions\\nbextensions\\scratchpad\\scratchpad.css -> C:\\ProgramData\\jupyter\\nbextensions\\scratchpad\\scratchpad.css\n",
      "[I 15:26:44 InstallContribNbextensionsApp] Copying: c:\\users\\melod\\anaconda3\\envs\\learn-env\\lib\\site-packages\\jupyter_contrib_nbextensions\\nbextensions\\scratchpad\\scratchpad.yaml -> C:\\ProgramData\\jupyter\\nbextensions\\scratchpad\\scratchpad.yaml\n",
      "[I 15:26:44 InstallContribNbextensionsApp] - Validating: ok\n",
      "[I 15:26:44 InstallContribNbextensionsApp] Installing c:\\users\\melod\\anaconda3\\envs\\learn-env\\lib\\site-packages\\jupyter_contrib_nbextensions\\nbextensions\\scroll_down -> scroll_down\n",
      "[I 15:26:44 InstallContribNbextensionsApp] Making directory: C:\\ProgramData\\jupyter\\nbextensions\\scroll_down\\\n",
      "[I 15:26:44 InstallContribNbextensionsApp] Copying: c:\\users\\melod\\anaconda3\\envs\\learn-env\\lib\\site-packages\\jupyter_contrib_nbextensions\\nbextensions\\scroll_down\\config.yaml -> C:\\ProgramData\\jupyter\\nbextensions\\scroll_down\\config.yaml\n",
      "[I 15:26:44 InstallContribNbextensionsApp] Copying: c:\\users\\melod\\anaconda3\\envs\\learn-env\\lib\\site-packages\\jupyter_contrib_nbextensions\\nbextensions\\scroll_down\\icon.png -> C:\\ProgramData\\jupyter\\nbextensions\\scroll_down\\icon.png\n",
      "[I 15:26:44 InstallContribNbextensionsApp] Copying: c:\\users\\melod\\anaconda3\\envs\\learn-env\\lib\\site-packages\\jupyter_contrib_nbextensions\\nbextensions\\scroll_down\\main.js -> C:\\ProgramData\\jupyter\\nbextensions\\scroll_down\\main.js\n",
      "[I 15:26:44 InstallContribNbextensionsApp] Copying: c:\\users\\melod\\anaconda3\\envs\\learn-env\\lib\\site-packages\\jupyter_contrib_nbextensions\\nbextensions\\scroll_down\\readme.md -> C:\\ProgramData\\jupyter\\nbextensions\\scroll_down\\readme.md\n",
      "[I 15:26:44 InstallContribNbextensionsApp] - Validating: ok\n",
      "[I 15:26:44 InstallContribNbextensionsApp] Installing c:\\users\\melod\\anaconda3\\envs\\learn-env\\lib\\site-packages\\jupyter_contrib_nbextensions\\nbextensions\\select_keymap -> select_keymap\n",
      "[I 15:26:44 InstallContribNbextensionsApp] Making directory: C:\\ProgramData\\jupyter\\nbextensions\\select_keymap\\\n",
      "[I 15:26:44 InstallContribNbextensionsApp] Copying: c:\\users\\melod\\anaconda3\\envs\\learn-env\\lib\\site-packages\\jupyter_contrib_nbextensions\\nbextensions\\select_keymap\\main.js -> C:\\ProgramData\\jupyter\\nbextensions\\select_keymap\\main.js\n",
      "[I 15:26:44 InstallContribNbextensionsApp] Copying: c:\\users\\melod\\anaconda3\\envs\\learn-env\\lib\\site-packages\\jupyter_contrib_nbextensions\\nbextensions\\select_keymap\\README.md -> C:\\ProgramData\\jupyter\\nbextensions\\select_keymap\\README.md\n",
      "[I 15:26:44 InstallContribNbextensionsApp] Copying: c:\\users\\melod\\anaconda3\\envs\\learn-env\\lib\\site-packages\\jupyter_contrib_nbextensions\\nbextensions\\select_keymap\\select_keymap.png -> C:\\ProgramData\\jupyter\\nbextensions\\select_keymap\\select_keymap.png\n",
      "[I 15:26:44 InstallContribNbextensionsApp] Copying: c:\\users\\melod\\anaconda3\\envs\\learn-env\\lib\\site-packages\\jupyter_contrib_nbextensions\\nbextensions\\select_keymap\\select_keymap.yaml -> C:\\ProgramData\\jupyter\\nbextensions\\select_keymap\\select_keymap.yaml\n",
      "[I 15:26:44 InstallContribNbextensionsApp] - Validating: ok\n",
      "[I 15:26:44 InstallContribNbextensionsApp] Installing c:\\users\\melod\\anaconda3\\envs\\learn-env\\lib\\site-packages\\jupyter_contrib_nbextensions\\nbextensions\\skill -> skill\n",
      "[I 15:26:44 InstallContribNbextensionsApp] Making directory: C:\\ProgramData\\jupyter\\nbextensions\\skill\\\n",
      "[I 15:26:44 InstallContribNbextensionsApp] Copying: c:\\users\\melod\\anaconda3\\envs\\learn-env\\lib\\site-packages\\jupyter_contrib_nbextensions\\nbextensions\\skill\\main.js -> C:\\ProgramData\\jupyter\\nbextensions\\skill\\main.js\n",
      "[I 15:26:44 InstallContribNbextensionsApp] Copying: c:\\users\\melod\\anaconda3\\envs\\learn-env\\lib\\site-packages\\jupyter_contrib_nbextensions\\nbextensions\\skill\\README.md -> C:\\ProgramData\\jupyter\\nbextensions\\skill\\README.md\n",
      "[I 15:26:44 InstallContribNbextensionsApp] Copying: c:\\users\\melod\\anaconda3\\envs\\learn-env\\lib\\site-packages\\jupyter_contrib_nbextensions\\nbextensions\\skill\\skill.js -> C:\\ProgramData\\jupyter\\nbextensions\\skill\\skill.js\n",
      "[I 15:26:44 InstallContribNbextensionsApp] Copying: c:\\users\\melod\\anaconda3\\envs\\learn-env\\lib\\site-packages\\jupyter_contrib_nbextensions\\nbextensions\\skill\\skill.yaml -> C:\\ProgramData\\jupyter\\nbextensions\\skill\\skill.yaml\n",
      "[I 15:26:44 InstallContribNbextensionsApp] - Validating: ok\n",
      "[I 15:26:44 InstallContribNbextensionsApp] Installing c:\\users\\melod\\anaconda3\\envs\\learn-env\\lib\\site-packages\\jupyter_contrib_nbextensions\\nbextensions\\skip-traceback -> skip-traceback\n",
      "[I 15:26:44 InstallContribNbextensionsApp] Making directory: C:\\ProgramData\\jupyter\\nbextensions\\skip-traceback\\\n",
      "[I 15:26:44 InstallContribNbextensionsApp] Copying: c:\\users\\melod\\anaconda3\\envs\\learn-env\\lib\\site-packages\\jupyter_contrib_nbextensions\\nbextensions\\skip-traceback\\icon.png -> C:\\ProgramData\\jupyter\\nbextensions\\skip-traceback\\icon.png\n",
      "[I 15:26:44 InstallContribNbextensionsApp] Copying: c:\\users\\melod\\anaconda3\\envs\\learn-env\\lib\\site-packages\\jupyter_contrib_nbextensions\\nbextensions\\skip-traceback\\main.js -> C:\\ProgramData\\jupyter\\nbextensions\\skip-traceback\\main.js\n",
      "[I 15:26:44 InstallContribNbextensionsApp] Copying: c:\\users\\melod\\anaconda3\\envs\\learn-env\\lib\\site-packages\\jupyter_contrib_nbextensions\\nbextensions\\skip-traceback\\readme.md -> C:\\ProgramData\\jupyter\\nbextensions\\skip-traceback\\readme.md\n",
      "[I 15:26:44 InstallContribNbextensionsApp] Copying: c:\\users\\melod\\anaconda3\\envs\\learn-env\\lib\\site-packages\\jupyter_contrib_nbextensions\\nbextensions\\skip-traceback\\skip-traceback.png -> C:\\ProgramData\\jupyter\\nbextensions\\skip-traceback\\skip-traceback.png\n",
      "[I 15:26:44 InstallContribNbextensionsApp] Copying: c:\\users\\melod\\anaconda3\\envs\\learn-env\\lib\\site-packages\\jupyter_contrib_nbextensions\\nbextensions\\skip-traceback\\skip-traceback.yaml -> C:\\ProgramData\\jupyter\\nbextensions\\skip-traceback\\skip-traceback.yaml\n",
      "[I 15:26:44 InstallContribNbextensionsApp] Copying: c:\\users\\melod\\anaconda3\\envs\\learn-env\\lib\\site-packages\\jupyter_contrib_nbextensions\\nbextensions\\skip-traceback\\traceback.png -> C:\\ProgramData\\jupyter\\nbextensions\\skip-traceback\\traceback.png\n",
      "[I 15:26:44 InstallContribNbextensionsApp] - Validating: ok\n",
      "[I 15:26:44 InstallContribNbextensionsApp] Installing c:\\users\\melod\\anaconda3\\envs\\learn-env\\lib\\site-packages\\jupyter_contrib_nbextensions\\nbextensions\\snippets -> snippets\n",
      "[I 15:26:44 InstallContribNbextensionsApp] Making directory: C:\\ProgramData\\jupyter\\nbextensions\\snippets\\\n",
      "[I 15:26:44 InstallContribNbextensionsApp] Copying: c:\\users\\melod\\anaconda3\\envs\\learn-env\\lib\\site-packages\\jupyter_contrib_nbextensions\\nbextensions\\snippets\\main.js -> C:\\ProgramData\\jupyter\\nbextensions\\snippets\\main.js\n",
      "[I 15:26:44 InstallContribNbextensionsApp] Copying: c:\\users\\melod\\anaconda3\\envs\\learn-env\\lib\\site-packages\\jupyter_contrib_nbextensions\\nbextensions\\snippets\\README.md -> C:\\ProgramData\\jupyter\\nbextensions\\snippets\\README.md\n",
      "[I 15:26:44 InstallContribNbextensionsApp] Copying: c:\\users\\melod\\anaconda3\\envs\\learn-env\\lib\\site-packages\\jupyter_contrib_nbextensions\\nbextensions\\snippets\\snippets-demo.gif -> C:\\ProgramData\\jupyter\\nbextensions\\snippets\\snippets-demo.gif\n",
      "[I 15:26:44 InstallContribNbextensionsApp] Copying: c:\\users\\melod\\anaconda3\\envs\\learn-env\\lib\\site-packages\\jupyter_contrib_nbextensions\\nbextensions\\snippets\\snippets.json -> C:\\ProgramData\\jupyter\\nbextensions\\snippets\\snippets.json\n",
      "[I 15:26:44 InstallContribNbextensionsApp] Copying: c:\\users\\melod\\anaconda3\\envs\\learn-env\\lib\\site-packages\\jupyter_contrib_nbextensions\\nbextensions\\snippets\\snippets.yaml -> C:\\ProgramData\\jupyter\\nbextensions\\snippets\\snippets.yaml\n",
      "[I 15:26:44 InstallContribNbextensionsApp] - Validating: ok\n",
      "[I 15:26:44 InstallContribNbextensionsApp] Installing c:\\users\\melod\\anaconda3\\envs\\learn-env\\lib\\site-packages\\jupyter_contrib_nbextensions\\nbextensions\\snippets_menu -> snippets_menu\n",
      "[I 15:26:44 InstallContribNbextensionsApp] Making directory: C:\\ProgramData\\jupyter\\nbextensions\\snippets_menu\\\n",
      "[I 15:26:44 InstallContribNbextensionsApp] Copying: c:\\users\\melod\\anaconda3\\envs\\learn-env\\lib\\site-packages\\jupyter_contrib_nbextensions\\nbextensions\\snippets_menu\\config.yaml -> C:\\ProgramData\\jupyter\\nbextensions\\snippets_menu\\config.yaml\n",
      "[I 15:26:44 InstallContribNbextensionsApp] Copying: c:\\users\\melod\\anaconda3\\envs\\learn-env\\lib\\site-packages\\jupyter_contrib_nbextensions\\nbextensions\\snippets_menu\\examples_for_custom.js -> C:\\ProgramData\\jupyter\\nbextensions\\snippets_menu\\examples_for_custom.js\n",
      "[I 15:26:44 InstallContribNbextensionsApp] Copying: c:\\users\\melod\\anaconda3\\envs\\learn-env\\lib\\site-packages\\jupyter_contrib_nbextensions\\nbextensions\\snippets_menu\\main.js -> C:\\ProgramData\\jupyter\\nbextensions\\snippets_menu\\main.js\n",
      "[I 15:26:44 InstallContribNbextensionsApp] Copying: c:\\users\\melod\\anaconda3\\envs\\learn-env\\lib\\site-packages\\jupyter_contrib_nbextensions\\nbextensions\\snippets_menu\\readme.md -> C:\\ProgramData\\jupyter\\nbextensions\\snippets_menu\\readme.md\n",
      "[I 15:26:44 InstallContribNbextensionsApp] Copying: c:\\users\\melod\\anaconda3\\envs\\learn-env\\lib\\site-packages\\jupyter_contrib_nbextensions\\nbextensions\\snippets_menu\\screenshot1.png -> C:\\ProgramData\\jupyter\\nbextensions\\snippets_menu\\screenshot1.png\n",
      "[I 15:26:44 InstallContribNbextensionsApp] Copying: c:\\users\\melod\\anaconda3\\envs\\learn-env\\lib\\site-packages\\jupyter_contrib_nbextensions\\nbextensions\\snippets_menu\\screenshot2.png -> C:\\ProgramData\\jupyter\\nbextensions\\snippets_menu\\screenshot2.png\n",
      "[I 15:26:44 InstallContribNbextensionsApp] Copying: c:\\users\\melod\\anaconda3\\envs\\learn-env\\lib\\site-packages\\jupyter_contrib_nbextensions\\nbextensions\\snippets_menu\\screenshot3.png -> C:\\ProgramData\\jupyter\\nbextensions\\snippets_menu\\screenshot3.png\n",
      "[I 15:26:44 InstallContribNbextensionsApp] Copying: c:\\users\\melod\\anaconda3\\envs\\learn-env\\lib\\site-packages\\jupyter_contrib_nbextensions\\nbextensions\\snippets_menu\\snippets_menu.css -> C:\\ProgramData\\jupyter\\nbextensions\\snippets_menu\\snippets_menu.css\n",
      "[I 15:26:44 InstallContribNbextensionsApp] Copying: c:\\users\\melod\\anaconda3\\envs\\learn-env\\lib\\site-packages\\jupyter_contrib_nbextensions\\nbextensions\\snippets_menu\\snippets_submenu_markdown.js -> C:\\ProgramData\\jupyter\\nbextensions\\snippets_menu\\snippets_submenu_markdown.js\n",
      "[I 15:26:44 InstallContribNbextensionsApp] Copying: c:\\users\\melod\\anaconda3\\envs\\learn-env\\lib\\site-packages\\jupyter_contrib_nbextensions\\nbextensions\\snippets_menu\\snippets_submenu_python.js -> C:\\ProgramData\\jupyter\\nbextensions\\snippets_menu\\snippets_submenu_python.js\n",
      "[I 15:26:44 InstallContribNbextensionsApp] Copying: c:\\users\\melod\\anaconda3\\envs\\learn-env\\lib\\site-packages\\jupyter_contrib_nbextensions\\nbextensions\\snippets_menu\\thumbnail.png -> C:\\ProgramData\\jupyter\\nbextensions\\snippets_menu\\thumbnail.png\n",
      "[I 15:26:44 InstallContribNbextensionsApp] Making directory: C:\\ProgramData\\jupyter\\nbextensions\\snippets_menu\\snippets_submenus_python\n",
      "[I 15:26:44 InstallContribNbextensionsApp] Copying: c:\\users\\melod\\anaconda3\\envs\\learn-env\\lib\\site-packages\\jupyter_contrib_nbextensions\\nbextensions\\snippets_menu\\snippets_submenus_python\\astropy.js -> C:\\ProgramData\\jupyter\\nbextensions\\snippets_menu\\snippets_submenus_python\\astropy.js\n",
      "[I 15:26:44 InstallContribNbextensionsApp] Copying: c:\\users\\melod\\anaconda3\\envs\\learn-env\\lib\\site-packages\\jupyter_contrib_nbextensions\\nbextensions\\snippets_menu\\snippets_submenus_python\\h5py.js -> C:\\ProgramData\\jupyter\\nbextensions\\snippets_menu\\snippets_submenus_python\\h5py.js\n",
      "[I 15:26:44 InstallContribNbextensionsApp] Copying: c:\\users\\melod\\anaconda3\\envs\\learn-env\\lib\\site-packages\\jupyter_contrib_nbextensions\\nbextensions\\snippets_menu\\snippets_submenus_python\\matplotlib.js -> C:\\ProgramData\\jupyter\\nbextensions\\snippets_menu\\snippets_submenus_python\\matplotlib.js\n",
      "[I 15:26:44 InstallContribNbextensionsApp] Copying: c:\\users\\melod\\anaconda3\\envs\\learn-env\\lib\\site-packages\\jupyter_contrib_nbextensions\\nbextensions\\snippets_menu\\snippets_submenus_python\\numba.js -> C:\\ProgramData\\jupyter\\nbextensions\\snippets_menu\\snippets_submenus_python\\numba.js\n",
      "[I 15:26:44 InstallContribNbextensionsApp] Copying: c:\\users\\melod\\anaconda3\\envs\\learn-env\\lib\\site-packages\\jupyter_contrib_nbextensions\\nbextensions\\snippets_menu\\snippets_submenus_python\\numpy.js -> C:\\ProgramData\\jupyter\\nbextensions\\snippets_menu\\snippets_submenus_python\\numpy.js\n",
      "[I 15:26:44 InstallContribNbextensionsApp] Copying: c:\\users\\melod\\anaconda3\\envs\\learn-env\\lib\\site-packages\\jupyter_contrib_nbextensions\\nbextensions\\snippets_menu\\snippets_submenus_python\\numpy_polynomial.js -> C:\\ProgramData\\jupyter\\nbextensions\\snippets_menu\\snippets_submenus_python\\numpy_polynomial.js\n",
      "[I 15:26:44 InstallContribNbextensionsApp] Copying: c:\\users\\melod\\anaconda3\\envs\\learn-env\\lib\\site-packages\\jupyter_contrib_nbextensions\\nbextensions\\snippets_menu\\snippets_submenus_python\\numpy_ufuncs.js -> C:\\ProgramData\\jupyter\\nbextensions\\snippets_menu\\snippets_submenus_python\\numpy_ufuncs.js\n",
      "[I 15:26:44 InstallContribNbextensionsApp] Copying: c:\\users\\melod\\anaconda3\\envs\\learn-env\\lib\\site-packages\\jupyter_contrib_nbextensions\\nbextensions\\snippets_menu\\snippets_submenus_python\\pandas.js -> C:\\ProgramData\\jupyter\\nbextensions\\snippets_menu\\snippets_submenus_python\\pandas.js\n",
      "[I 15:26:44 InstallContribNbextensionsApp] Copying: c:\\users\\melod\\anaconda3\\envs\\learn-env\\lib\\site-packages\\jupyter_contrib_nbextensions\\nbextensions\\snippets_menu\\snippets_submenus_python\\python.js -> C:\\ProgramData\\jupyter\\nbextensions\\snippets_menu\\snippets_submenus_python\\python.js\n",
      "[I 15:26:44 InstallContribNbextensionsApp] Copying: c:\\users\\melod\\anaconda3\\envs\\learn-env\\lib\\site-packages\\jupyter_contrib_nbextensions\\nbextensions\\snippets_menu\\snippets_submenus_python\\python_regex.js -> C:\\ProgramData\\jupyter\\nbextensions\\snippets_menu\\snippets_submenus_python\\python_regex.js\n",
      "[I 15:26:44 InstallContribNbextensionsApp] Copying: c:\\users\\melod\\anaconda3\\envs\\learn-env\\lib\\site-packages\\jupyter_contrib_nbextensions\\nbextensions\\snippets_menu\\snippets_submenus_python\\scipy.js -> C:\\ProgramData\\jupyter\\nbextensions\\snippets_menu\\snippets_submenus_python\\scipy.js\n",
      "[I 15:26:44 InstallContribNbextensionsApp] Copying: c:\\users\\melod\\anaconda3\\envs\\learn-env\\lib\\site-packages\\jupyter_contrib_nbextensions\\nbextensions\\snippets_menu\\snippets_submenus_python\\scipy_constants.js -> C:\\ProgramData\\jupyter\\nbextensions\\snippets_menu\\snippets_submenus_python\\scipy_constants.js\n",
      "[I 15:26:44 InstallContribNbextensionsApp] Copying: c:\\users\\melod\\anaconda3\\envs\\learn-env\\lib\\site-packages\\jupyter_contrib_nbextensions\\nbextensions\\snippets_menu\\snippets_submenus_python\\scipy_special.js -> C:\\ProgramData\\jupyter\\nbextensions\\snippets_menu\\snippets_submenus_python\\scipy_special.js\n",
      "[I 15:26:44 InstallContribNbextensionsApp] Copying: c:\\users\\melod\\anaconda3\\envs\\learn-env\\lib\\site-packages\\jupyter_contrib_nbextensions\\nbextensions\\snippets_menu\\snippets_submenus_python\\sympy.js -> C:\\ProgramData\\jupyter\\nbextensions\\snippets_menu\\snippets_submenus_python\\sympy.js\n",
      "[I 15:26:44 InstallContribNbextensionsApp] Copying: c:\\users\\melod\\anaconda3\\envs\\learn-env\\lib\\site-packages\\jupyter_contrib_nbextensions\\nbextensions\\snippets_menu\\snippets_submenus_python\\sympy_assumptions.js -> C:\\ProgramData\\jupyter\\nbextensions\\snippets_menu\\snippets_submenus_python\\sympy_assumptions.js\n",
      "[I 15:26:44 InstallContribNbextensionsApp] Copying: c:\\users\\melod\\anaconda3\\envs\\learn-env\\lib\\site-packages\\jupyter_contrib_nbextensions\\nbextensions\\snippets_menu\\snippets_submenus_python\\sympy_functions.js -> C:\\ProgramData\\jupyter\\nbextensions\\snippets_menu\\snippets_submenus_python\\sympy_functions.js\n",
      "[I 15:26:44 InstallContribNbextensionsApp] - Validating: ok\n",
      "[I 15:26:44 InstallContribNbextensionsApp] Installing c:\\users\\melod\\anaconda3\\envs\\learn-env\\lib\\site-packages\\jupyter_contrib_nbextensions\\nbextensions\\spellchecker -> spellchecker\n",
      "[I 15:26:44 InstallContribNbextensionsApp] Making directory: C:\\ProgramData\\jupyter\\nbextensions\\spellchecker\\\n",
      "[I 15:26:44 InstallContribNbextensionsApp] Copying: c:\\users\\melod\\anaconda3\\envs\\learn-env\\lib\\site-packages\\jupyter_contrib_nbextensions\\nbextensions\\spellchecker\\config.yaml -> C:\\ProgramData\\jupyter\\nbextensions\\spellchecker\\config.yaml\n",
      "[I 15:26:44 InstallContribNbextensionsApp] Copying: c:\\users\\melod\\anaconda3\\envs\\learn-env\\lib\\site-packages\\jupyter_contrib_nbextensions\\nbextensions\\spellchecker\\download_new_dict.py -> C:\\ProgramData\\jupyter\\nbextensions\\spellchecker\\download_new_dict.py\n",
      "[I 15:26:44 InstallContribNbextensionsApp] Copying: c:\\users\\melod\\anaconda3\\envs\\learn-env\\lib\\site-packages\\jupyter_contrib_nbextensions\\nbextensions\\spellchecker\\main.css -> C:\\ProgramData\\jupyter\\nbextensions\\spellchecker\\main.css\n",
      "[I 15:26:44 InstallContribNbextensionsApp] Copying: c:\\users\\melod\\anaconda3\\envs\\learn-env\\lib\\site-packages\\jupyter_contrib_nbextensions\\nbextensions\\spellchecker\\main.js -> C:\\ProgramData\\jupyter\\nbextensions\\spellchecker\\main.js\n",
      "[I 15:26:44 InstallContribNbextensionsApp] Copying: c:\\users\\melod\\anaconda3\\envs\\learn-env\\lib\\site-packages\\jupyter_contrib_nbextensions\\nbextensions\\spellchecker\\README.md -> C:\\ProgramData\\jupyter\\nbextensions\\spellchecker\\README.md\n",
      "[I 15:26:44 InstallContribNbextensionsApp] Copying: c:\\users\\melod\\anaconda3\\envs\\learn-env\\lib\\site-packages\\jupyter_contrib_nbextensions\\nbextensions\\spellchecker\\screenshot.png -> C:\\ProgramData\\jupyter\\nbextensions\\spellchecker\\screenshot.png\n",
      "[I 15:26:44 InstallContribNbextensionsApp] Making directory: C:\\ProgramData\\jupyter\\nbextensions\\spellchecker\\typo\n",
      "[I 15:26:44 InstallContribNbextensionsApp] Copying: c:\\users\\melod\\anaconda3\\envs\\learn-env\\lib\\site-packages\\jupyter_contrib_nbextensions\\nbextensions\\spellchecker\\typo\\LICENSE.txt -> C:\\ProgramData\\jupyter\\nbextensions\\spellchecker\\typo\\LICENSE.txt\n",
      "[I 15:26:44 InstallContribNbextensionsApp] Copying: c:\\users\\melod\\anaconda3\\envs\\learn-env\\lib\\site-packages\\jupyter_contrib_nbextensions\\nbextensions\\spellchecker\\typo\\typo.js -> C:\\ProgramData\\jupyter\\nbextensions\\spellchecker\\typo\\typo.js\n",
      "[I 15:26:44 InstallContribNbextensionsApp] Making directory: C:\\ProgramData\\jupyter\\nbextensions\\spellchecker\\__pycache__\n",
      "[I 15:26:44 InstallContribNbextensionsApp] Copying: c:\\users\\melod\\anaconda3\\envs\\learn-env\\lib\\site-packages\\jupyter_contrib_nbextensions\\nbextensions\\spellchecker\\__pycache__\\download_new_dict.cpython-36.pyc -> C:\\ProgramData\\jupyter\\nbextensions\\spellchecker\\__pycache__\\download_new_dict.cpython-36.pyc\n",
      "[I 15:26:44 InstallContribNbextensionsApp] - Validating: ok\n",
      "[I 15:26:44 InstallContribNbextensionsApp] Installing c:\\users\\melod\\anaconda3\\envs\\learn-env\\lib\\site-packages\\jupyter_contrib_nbextensions\\nbextensions\\splitcell -> splitcell\n",
      "[I 15:26:44 InstallContribNbextensionsApp] Making directory: C:\\ProgramData\\jupyter\\nbextensions\\splitcell\\\n",
      "[I 15:26:44 InstallContribNbextensionsApp] Copying: c:\\users\\melod\\anaconda3\\envs\\learn-env\\lib\\site-packages\\jupyter_contrib_nbextensions\\nbextensions\\splitcell\\icon.png -> C:\\ProgramData\\jupyter\\nbextensions\\splitcell\\icon.png\n",
      "[I 15:26:44 InstallContribNbextensionsApp] Copying: c:\\users\\melod\\anaconda3\\envs\\learn-env\\lib\\site-packages\\jupyter_contrib_nbextensions\\nbextensions\\splitcell\\readme.md -> C:\\ProgramData\\jupyter\\nbextensions\\splitcell\\readme.md\n",
      "[I 15:26:44 InstallContribNbextensionsApp] Copying: c:\\users\\melod\\anaconda3\\envs\\learn-env\\lib\\site-packages\\jupyter_contrib_nbextensions\\nbextensions\\splitcell\\splitcell.js -> C:\\ProgramData\\jupyter\\nbextensions\\splitcell\\splitcell.js\n",
      "[I 15:26:44 InstallContribNbextensionsApp] Copying: c:\\users\\melod\\anaconda3\\envs\\learn-env\\lib\\site-packages\\jupyter_contrib_nbextensions\\nbextensions\\splitcell\\splitcell.yaml -> C:\\ProgramData\\jupyter\\nbextensions\\splitcell\\splitcell.yaml\n",
      "[I 15:26:44 InstallContribNbextensionsApp] - Validating: ok\n",
      "[I 15:26:44 InstallContribNbextensionsApp] Installing c:\\users\\melod\\anaconda3\\envs\\learn-env\\lib\\site-packages\\jupyter_contrib_nbextensions\\nbextensions\\table_beautifier -> table_beautifier\n",
      "[I 15:26:44 InstallContribNbextensionsApp] Making directory: C:\\ProgramData\\jupyter\\nbextensions\\table_beautifier\\\n",
      "[I 15:26:44 InstallContribNbextensionsApp] Copying: c:\\users\\melod\\anaconda3\\envs\\learn-env\\lib\\site-packages\\jupyter_contrib_nbextensions\\nbextensions\\table_beautifier\\main.css -> C:\\ProgramData\\jupyter\\nbextensions\\table_beautifier\\main.css\n",
      "[I 15:26:44 InstallContribNbextensionsApp] Copying: c:\\users\\melod\\anaconda3\\envs\\learn-env\\lib\\site-packages\\jupyter_contrib_nbextensions\\nbextensions\\table_beautifier\\main.js -> C:\\ProgramData\\jupyter\\nbextensions\\table_beautifier\\main.js\n",
      "[I 15:26:44 InstallContribNbextensionsApp] Copying: c:\\users\\melod\\anaconda3\\envs\\learn-env\\lib\\site-packages\\jupyter_contrib_nbextensions\\nbextensions\\table_beautifier\\README.md -> C:\\ProgramData\\jupyter\\nbextensions\\table_beautifier\\README.md\n",
      "[I 15:26:44 InstallContribNbextensionsApp] Copying: c:\\users\\melod\\anaconda3\\envs\\learn-env\\lib\\site-packages\\jupyter_contrib_nbextensions\\nbextensions\\table_beautifier\\table_beautifier.yaml -> C:\\ProgramData\\jupyter\\nbextensions\\table_beautifier\\table_beautifier.yaml\n",
      "[I 15:26:44 InstallContribNbextensionsApp] - Validating: ok\n",
      "[I 15:26:44 InstallContribNbextensionsApp] Installing c:\\users\\melod\\anaconda3\\envs\\learn-env\\lib\\site-packages\\jupyter_contrib_nbextensions\\nbextensions\\toc2 -> toc2\n",
      "[I 15:26:44 InstallContribNbextensionsApp] Making directory: C:\\ProgramData\\jupyter\\nbextensions\\toc2\\\n",
      "[I 15:26:44 InstallContribNbextensionsApp] Copying: c:\\users\\melod\\anaconda3\\envs\\learn-env\\lib\\site-packages\\jupyter_contrib_nbextensions\\nbextensions\\toc2\\demo.gif -> C:\\ProgramData\\jupyter\\nbextensions\\toc2\\demo.gif\n",
      "[I 15:26:44 InstallContribNbextensionsApp] Copying: c:\\users\\melod\\anaconda3\\envs\\learn-env\\lib\\site-packages\\jupyter_contrib_nbextensions\\nbextensions\\toc2\\demo2.gif -> C:\\ProgramData\\jupyter\\nbextensions\\toc2\\demo2.gif\n",
      "[I 15:26:44 InstallContribNbextensionsApp] Copying: c:\\users\\melod\\anaconda3\\envs\\learn-env\\lib\\site-packages\\jupyter_contrib_nbextensions\\nbextensions\\toc2\\demo3.gif -> C:\\ProgramData\\jupyter\\nbextensions\\toc2\\demo3.gif\n",
      "[I 15:26:44 InstallContribNbextensionsApp] Copying: c:\\users\\melod\\anaconda3\\envs\\learn-env\\lib\\site-packages\\jupyter_contrib_nbextensions\\nbextensions\\toc2\\demo_dark.png -> C:\\ProgramData\\jupyter\\nbextensions\\toc2\\demo_dark.png\n",
      "[I 15:26:44 InstallContribNbextensionsApp] Copying: c:\\users\\melod\\anaconda3\\envs\\learn-env\\lib\\site-packages\\jupyter_contrib_nbextensions\\nbextensions\\toc2\\icon.png -> C:\\ProgramData\\jupyter\\nbextensions\\toc2\\icon.png\n",
      "[I 15:26:44 InstallContribNbextensionsApp] Copying: c:\\users\\melod\\anaconda3\\envs\\learn-env\\lib\\site-packages\\jupyter_contrib_nbextensions\\nbextensions\\toc2\\image.png -> C:\\ProgramData\\jupyter\\nbextensions\\toc2\\image.png\n",
      "[I 15:26:44 InstallContribNbextensionsApp] Copying: c:\\users\\melod\\anaconda3\\envs\\learn-env\\lib\\site-packages\\jupyter_contrib_nbextensions\\nbextensions\\toc2\\main.css -> C:\\ProgramData\\jupyter\\nbextensions\\toc2\\main.css\n",
      "[I 15:26:44 InstallContribNbextensionsApp] Copying: c:\\users\\melod\\anaconda3\\envs\\learn-env\\lib\\site-packages\\jupyter_contrib_nbextensions\\nbextensions\\toc2\\main.js -> C:\\ProgramData\\jupyter\\nbextensions\\toc2\\main.js\n",
      "[I 15:26:44 InstallContribNbextensionsApp] Copying: c:\\users\\melod\\anaconda3\\envs\\learn-env\\lib\\site-packages\\jupyter_contrib_nbextensions\\nbextensions\\toc2\\README.md -> C:\\ProgramData\\jupyter\\nbextensions\\toc2\\README.md\n",
      "[I 15:26:44 InstallContribNbextensionsApp] Copying: c:\\users\\melod\\anaconda3\\envs\\learn-env\\lib\\site-packages\\jupyter_contrib_nbextensions\\nbextensions\\toc2\\toc2.js -> C:\\ProgramData\\jupyter\\nbextensions\\toc2\\toc2.js\n",
      "[I 15:26:44 InstallContribNbextensionsApp] Copying: c:\\users\\melod\\anaconda3\\envs\\learn-env\\lib\\site-packages\\jupyter_contrib_nbextensions\\nbextensions\\toc2\\toc2.yaml -> C:\\ProgramData\\jupyter\\nbextensions\\toc2\\toc2.yaml\n",
      "[I 15:26:44 InstallContribNbextensionsApp] - Validating: ok\n",
      "[I 15:26:44 InstallContribNbextensionsApp] Installing c:\\users\\melod\\anaconda3\\envs\\learn-env\\lib\\site-packages\\jupyter_contrib_nbextensions\\nbextensions\\toggle_all_line_numbers -> toggle_all_line_numbers\n",
      "[I 15:26:44 InstallContribNbextensionsApp] Making directory: C:\\ProgramData\\jupyter\\nbextensions\\toggle_all_line_numbers\\\n",
      "[I 15:26:44 InstallContribNbextensionsApp] Copying: c:\\users\\melod\\anaconda3\\envs\\learn-env\\lib\\site-packages\\jupyter_contrib_nbextensions\\nbextensions\\toggle_all_line_numbers\\icon.png -> C:\\ProgramData\\jupyter\\nbextensions\\toggle_all_line_numbers\\icon.png\n",
      "[I 15:26:44 InstallContribNbextensionsApp] Copying: c:\\users\\melod\\anaconda3\\envs\\learn-env\\lib\\site-packages\\jupyter_contrib_nbextensions\\nbextensions\\toggle_all_line_numbers\\main.js -> C:\\ProgramData\\jupyter\\nbextensions\\toggle_all_line_numbers\\main.js\n",
      "[I 15:26:44 InstallContribNbextensionsApp] Copying: c:\\users\\melod\\anaconda3\\envs\\learn-env\\lib\\site-packages\\jupyter_contrib_nbextensions\\nbextensions\\toggle_all_line_numbers\\main.yaml -> C:\\ProgramData\\jupyter\\nbextensions\\toggle_all_line_numbers\\main.yaml\n",
      "[I 15:26:44 InstallContribNbextensionsApp] Copying: c:\\users\\melod\\anaconda3\\envs\\learn-env\\lib\\site-packages\\jupyter_contrib_nbextensions\\nbextensions\\toggle_all_line_numbers\\readme.md -> C:\\ProgramData\\jupyter\\nbextensions\\toggle_all_line_numbers\\readme.md\n",
      "[I 15:26:44 InstallContribNbextensionsApp] - Validating: ok\n",
      "[I 15:26:44 InstallContribNbextensionsApp] Installing c:\\users\\melod\\anaconda3\\envs\\learn-env\\lib\\site-packages\\jupyter_contrib_nbextensions\\nbextensions\\tree-filter -> tree-filter\n",
      "[I 15:26:44 InstallContribNbextensionsApp] Making directory: C:\\ProgramData\\jupyter\\nbextensions\\tree-filter\\\n",
      "[I 15:26:44 InstallContribNbextensionsApp] Copying: c:\\users\\melod\\anaconda3\\envs\\learn-env\\lib\\site-packages\\jupyter_contrib_nbextensions\\nbextensions\\tree-filter\\demo.gif -> C:\\ProgramData\\jupyter\\nbextensions\\tree-filter\\demo.gif\n",
      "[I 15:26:44 InstallContribNbextensionsApp] Copying: c:\\users\\melod\\anaconda3\\envs\\learn-env\\lib\\site-packages\\jupyter_contrib_nbextensions\\nbextensions\\tree-filter\\index.js -> C:\\ProgramData\\jupyter\\nbextensions\\tree-filter\\index.js\n",
      "[I 15:26:44 InstallContribNbextensionsApp] Copying: c:\\users\\melod\\anaconda3\\envs\\learn-env\\lib\\site-packages\\jupyter_contrib_nbextensions\\nbextensions\\tree-filter\\readme.md -> C:\\ProgramData\\jupyter\\nbextensions\\tree-filter\\readme.md\n",
      "[I 15:26:44 InstallContribNbextensionsApp] Copying: c:\\users\\melod\\anaconda3\\envs\\learn-env\\lib\\site-packages\\jupyter_contrib_nbextensions\\nbextensions\\tree-filter\\tree-filter.yaml -> C:\\ProgramData\\jupyter\\nbextensions\\tree-filter\\tree-filter.yaml\n",
      "[I 15:26:44 InstallContribNbextensionsApp] - Validating: ok\n",
      "[I 15:26:44 InstallContribNbextensionsApp] Installing c:\\users\\melod\\anaconda3\\envs\\learn-env\\lib\\site-packages\\jupyter_contrib_nbextensions\\nbextensions\\varInspector -> varInspector\n",
      "[I 15:26:44 InstallContribNbextensionsApp] Making directory: C:\\ProgramData\\jupyter\\nbextensions\\varInspector\\\n",
      "[I 15:26:44 InstallContribNbextensionsApp] Copying: c:\\users\\melod\\anaconda3\\envs\\learn-env\\lib\\site-packages\\jupyter_contrib_nbextensions\\nbextensions\\varInspector\\demo.gif -> C:\\ProgramData\\jupyter\\nbextensions\\varInspector\\demo.gif\n",
      "[I 15:26:44 InstallContribNbextensionsApp] Copying: c:\\users\\melod\\anaconda3\\envs\\learn-env\\lib\\site-packages\\jupyter_contrib_nbextensions\\nbextensions\\varInspector\\icon.png -> C:\\ProgramData\\jupyter\\nbextensions\\varInspector\\icon.png\n",
      "[I 15:26:44 InstallContribNbextensionsApp] Copying: c:\\users\\melod\\anaconda3\\envs\\learn-env\\lib\\site-packages\\jupyter_contrib_nbextensions\\nbextensions\\varInspector\\jquery.tablesorter.min.js -> C:\\ProgramData\\jupyter\\nbextensions\\varInspector\\jquery.tablesorter.min.js\n",
      "[I 15:26:44 InstallContribNbextensionsApp] Copying: c:\\users\\melod\\anaconda3\\envs\\learn-env\\lib\\site-packages\\jupyter_contrib_nbextensions\\nbextensions\\varInspector\\main.css -> C:\\ProgramData\\jupyter\\nbextensions\\varInspector\\main.css\n",
      "[I 15:26:44 InstallContribNbextensionsApp] Copying: c:\\users\\melod\\anaconda3\\envs\\learn-env\\lib\\site-packages\\jupyter_contrib_nbextensions\\nbextensions\\varInspector\\main.js -> C:\\ProgramData\\jupyter\\nbextensions\\varInspector\\main.js\n",
      "[I 15:26:44 InstallContribNbextensionsApp] Copying: c:\\users\\melod\\anaconda3\\envs\\learn-env\\lib\\site-packages\\jupyter_contrib_nbextensions\\nbextensions\\varInspector\\README.md -> C:\\ProgramData\\jupyter\\nbextensions\\varInspector\\README.md\n",
      "[I 15:26:44 InstallContribNbextensionsApp] Copying: c:\\users\\melod\\anaconda3\\envs\\learn-env\\lib\\site-packages\\jupyter_contrib_nbextensions\\nbextensions\\varInspector\\tablesorter_LICENSE.txt -> C:\\ProgramData\\jupyter\\nbextensions\\varInspector\\tablesorter_LICENSE.txt\n",
      "[I 15:26:44 InstallContribNbextensionsApp] Copying: c:\\users\\melod\\anaconda3\\envs\\learn-env\\lib\\site-packages\\jupyter_contrib_nbextensions\\nbextensions\\varInspector\\varInspector.yaml -> C:\\ProgramData\\jupyter\\nbextensions\\varInspector\\varInspector.yaml\n",
      "[I 15:26:44 InstallContribNbextensionsApp] Copying: c:\\users\\melod\\anaconda3\\envs\\learn-env\\lib\\site-packages\\jupyter_contrib_nbextensions\\nbextensions\\varInspector\\var_list.py -> C:\\ProgramData\\jupyter\\nbextensions\\varInspector\\var_list.py\n",
      "[I 15:26:44 InstallContribNbextensionsApp] Copying: c:\\users\\melod\\anaconda3\\envs\\learn-env\\lib\\site-packages\\jupyter_contrib_nbextensions\\nbextensions\\varInspector\\var_list.r -> C:\\ProgramData\\jupyter\\nbextensions\\varInspector\\var_list.r\n",
      "[I 15:26:44 InstallContribNbextensionsApp] Making directory: C:\\ProgramData\\jupyter\\nbextensions\\varInspector\\__pycache__\n",
      "[I 15:26:44 InstallContribNbextensionsApp] Copying: c:\\users\\melod\\anaconda3\\envs\\learn-env\\lib\\site-packages\\jupyter_contrib_nbextensions\\nbextensions\\varInspector\\__pycache__\\var_list.cpython-36.pyc -> C:\\ProgramData\\jupyter\\nbextensions\\varInspector\\__pycache__\\var_list.cpython-36.pyc\n",
      "[I 15:26:44 InstallContribNbextensionsApp] - Validating: ok\n",
      "[I 15:26:44 InstallContribNbextensionsApp] Installing c:\\users\\melod\\anaconda3\\envs\\learn-env\\lib\\site-packages\\jupyter_contrib_nbextensions\\nbextensions\\zenmode -> zenmode\n",
      "[I 15:26:44 InstallContribNbextensionsApp] Making directory: C:\\ProgramData\\jupyter\\nbextensions\\zenmode\\\n",
      "[I 15:26:44 InstallContribNbextensionsApp] Copying: c:\\users\\melod\\anaconda3\\envs\\learn-env\\lib\\site-packages\\jupyter_contrib_nbextensions\\nbextensions\\zenmode\\main.css -> C:\\ProgramData\\jupyter\\nbextensions\\zenmode\\main.css\n",
      "[I 15:26:44 InstallContribNbextensionsApp] Copying: c:\\users\\melod\\anaconda3\\envs\\learn-env\\lib\\site-packages\\jupyter_contrib_nbextensions\\nbextensions\\zenmode\\main.js -> C:\\ProgramData\\jupyter\\nbextensions\\zenmode\\main.js\n",
      "[I 15:26:44 InstallContribNbextensionsApp] Copying: c:\\users\\melod\\anaconda3\\envs\\learn-env\\lib\\site-packages\\jupyter_contrib_nbextensions\\nbextensions\\zenmode\\README.md -> C:\\ProgramData\\jupyter\\nbextensions\\zenmode\\README.md\n",
      "[I 15:26:44 InstallContribNbextensionsApp] Copying: c:\\users\\melod\\anaconda3\\envs\\learn-env\\lib\\site-packages\\jupyter_contrib_nbextensions\\nbextensions\\zenmode\\zenmode.yaml -> C:\\ProgramData\\jupyter\\nbextensions\\zenmode\\zenmode.yaml\n",
      "[I 15:26:44 InstallContribNbextensionsApp] Making directory: C:\\ProgramData\\jupyter\\nbextensions\\zenmode\\images\n",
      "[I 15:26:44 InstallContribNbextensionsApp] Copying: c:\\users\\melod\\anaconda3\\envs\\learn-env\\lib\\site-packages\\jupyter_contrib_nbextensions\\nbextensions\\zenmode\\images\\back1.jpg -> C:\\ProgramData\\jupyter\\nbextensions\\zenmode\\images\\back1.jpg\n",
      "[I 15:26:44 InstallContribNbextensionsApp] Copying: c:\\users\\melod\\anaconda3\\envs\\learn-env\\lib\\site-packages\\jupyter_contrib_nbextensions\\nbextensions\\zenmode\\images\\back11.jpg -> C:\\ProgramData\\jupyter\\nbextensions\\zenmode\\images\\back11.jpg\n",
      "[I 15:26:44 InstallContribNbextensionsApp] Copying: c:\\users\\melod\\anaconda3\\envs\\learn-env\\lib\\site-packages\\jupyter_contrib_nbextensions\\nbextensions\\zenmode\\images\\back12.jpg -> C:\\ProgramData\\jupyter\\nbextensions\\zenmode\\images\\back12.jpg\n",
      "[I 15:26:44 InstallContribNbextensionsApp] Copying: c:\\users\\melod\\anaconda3\\envs\\learn-env\\lib\\site-packages\\jupyter_contrib_nbextensions\\nbextensions\\zenmode\\images\\back2.jpg -> C:\\ProgramData\\jupyter\\nbextensions\\zenmode\\images\\back2.jpg\n",
      "[I 15:26:44 InstallContribNbextensionsApp] Copying: c:\\users\\melod\\anaconda3\\envs\\learn-env\\lib\\site-packages\\jupyter_contrib_nbextensions\\nbextensions\\zenmode\\images\\back21.jpg -> C:\\ProgramData\\jupyter\\nbextensions\\zenmode\\images\\back21.jpg\n",
      "[I 15:26:44 InstallContribNbextensionsApp] Copying: c:\\users\\melod\\anaconda3\\envs\\learn-env\\lib\\site-packages\\jupyter_contrib_nbextensions\\nbextensions\\zenmode\\images\\back22.jpg -> C:\\ProgramData\\jupyter\\nbextensions\\zenmode\\images\\back22.jpg\n",
      "[I 15:26:44 InstallContribNbextensionsApp] Copying: c:\\users\\melod\\anaconda3\\envs\\learn-env\\lib\\site-packages\\jupyter_contrib_nbextensions\\nbextensions\\zenmode\\images\\back3.jpg -> C:\\ProgramData\\jupyter\\nbextensions\\zenmode\\images\\back3.jpg\n",
      "[I 15:26:44 InstallContribNbextensionsApp] Copying: c:\\users\\melod\\anaconda3\\envs\\learn-env\\lib\\site-packages\\jupyter_contrib_nbextensions\\nbextensions\\zenmode\\images\\ipynblogo0.png -> C:\\ProgramData\\jupyter\\nbextensions\\zenmode\\images\\ipynblogo0.png\n",
      "[I 15:26:44 InstallContribNbextensionsApp] Copying: c:\\users\\melod\\anaconda3\\envs\\learn-env\\lib\\site-packages\\jupyter_contrib_nbextensions\\nbextensions\\zenmode\\images\\ipynblogo1.png -> C:\\ProgramData\\jupyter\\nbextensions\\zenmode\\images\\ipynblogo1.png\n",
      "[I 15:26:44 InstallContribNbextensionsApp] - Validating: ok\n",
      "[I 15:26:44 InstallContribNbextensionsApp] Installing c:\\users\\melod\\anaconda3\\envs\\learn-env\\lib\\site-packages\\jupyter_highlight_selected_word\\static\\highlight_selected_word -> highlight_selected_word\n",
      "[I 15:26:44 InstallContribNbextensionsApp] Making directory: C:\\ProgramData\\jupyter\\nbextensions\\highlight_selected_word\\\n",
      "[I 15:26:45 InstallContribNbextensionsApp] Copying: c:\\users\\melod\\anaconda3\\envs\\learn-env\\lib\\site-packages\\jupyter_highlight_selected_word\\static\\highlight_selected_word\\configurator.yaml -> C:\\ProgramData\\jupyter\\nbextensions\\highlight_selected_word\\configurator.yaml\n",
      "[I 15:26:45 InstallContribNbextensionsApp] Copying: c:\\users\\melod\\anaconda3\\envs\\learn-env\\lib\\site-packages\\jupyter_highlight_selected_word\\static\\highlight_selected_word\\main.js -> C:\\ProgramData\\jupyter\\nbextensions\\highlight_selected_word\\main.js\n",
      "[I 15:26:45 InstallContribNbextensionsApp] Copying: c:\\users\\melod\\anaconda3\\envs\\learn-env\\lib\\site-packages\\jupyter_highlight_selected_word\\static\\highlight_selected_word\\README.md -> C:\\ProgramData\\jupyter\\nbextensions\\highlight_selected_word\\README.md\n",
      "[I 15:26:45 InstallContribNbextensionsApp] - Validating: ok\n",
      "[I 15:26:45 InstallContribNbextensionsApp] Installing c:\\users\\melod\\anaconda3\\envs\\learn-env\\lib\\site-packages\\latex_envs\\static -> latex_envs\n",
      "[I 15:26:45 InstallContribNbextensionsApp] Making directory: C:\\ProgramData\\jupyter\\nbextensions\\latex_envs\\\n",
      "[I 15:26:45 InstallContribNbextensionsApp] Copying: c:\\users\\melod\\anaconda3\\envs\\learn-env\\lib\\site-packages\\latex_envs\\static\\bibInNb4.js -> C:\\ProgramData\\jupyter\\nbextensions\\latex_envs\\bibInNb4.js\n",
      "[I 15:26:45 InstallContribNbextensionsApp] Copying: c:\\users\\melod\\anaconda3\\envs\\learn-env\\lib\\site-packages\\latex_envs\\static\\bibtex2.js -> C:\\ProgramData\\jupyter\\nbextensions\\latex_envs\\bibtex2.js\n",
      "[I 15:26:45 InstallContribNbextensionsApp] Copying: c:\\users\\melod\\anaconda3\\envs\\learn-env\\lib\\site-packages\\latex_envs\\static\\configuration_toolbar.png -> C:\\ProgramData\\jupyter\\nbextensions\\latex_envs\\configuration_toolbar.png\n",
      "[I 15:26:45 InstallContribNbextensionsApp] Copying: c:\\users\\melod\\anaconda3\\envs\\learn-env\\lib\\site-packages\\latex_envs\\static\\envsLatex.js -> C:\\ProgramData\\jupyter\\nbextensions\\latex_envs\\envsLatex.js\n",
      "[I 15:26:45 InstallContribNbextensionsApp] Copying: c:\\users\\melod\\anaconda3\\envs\\learn-env\\lib\\site-packages\\latex_envs\\static\\envsLatex.json -> C:\\ProgramData\\jupyter\\nbextensions\\latex_envs\\envsLatex.json\n",
      "[I 15:26:45 InstallContribNbextensionsApp] Copying: c:\\users\\melod\\anaconda3\\envs\\learn-env\\lib\\site-packages\\latex_envs\\static\\example.png -> C:\\ProgramData\\jupyter\\nbextensions\\latex_envs\\example.png\n",
      "[I 15:26:45 InstallContribNbextensionsApp] Copying: c:\\users\\melod\\anaconda3\\envs\\learn-env\\lib\\site-packages\\latex_envs\\static\\example_user_envs.json -> C:\\ProgramData\\jupyter\\nbextensions\\latex_envs\\example_user_envs.json\n",
      "[I 15:26:45 InstallContribNbextensionsApp] Copying: c:\\users\\melod\\anaconda3\\envs\\learn-env\\lib\\site-packages\\latex_envs\\static\\icon.png -> C:\\ProgramData\\jupyter\\nbextensions\\latex_envs\\icon.png\n",
      "[I 15:26:45 InstallContribNbextensionsApp] Copying: c:\\users\\melod\\anaconda3\\envs\\learn-env\\lib\\site-packages\\latex_envs\\static\\initNb.js -> C:\\ProgramData\\jupyter\\nbextensions\\latex_envs\\initNb.js\n",
      "[I 15:26:45 InstallContribNbextensionsApp] Copying: c:\\users\\melod\\anaconda3\\envs\\learn-env\\lib\\site-packages\\latex_envs\\static\\latex_envs.css -> C:\\ProgramData\\jupyter\\nbextensions\\latex_envs\\latex_envs.css\n",
      "[I 15:26:45 InstallContribNbextensionsApp] Copying: c:\\users\\melod\\anaconda3\\envs\\learn-env\\lib\\site-packages\\latex_envs\\static\\latex_envs.js -> C:\\ProgramData\\jupyter\\nbextensions\\latex_envs\\latex_envs.js\n"
     ]
    },
    {
     "name": "stderr",
     "output_type": "stream",
     "text": [
      "[I 15:26:45 InstallContribNbextensionsApp] Copying: c:\\users\\melod\\anaconda3\\envs\\learn-env\\lib\\site-packages\\latex_envs\\static\\latex_envs.yaml -> C:\\ProgramData\\jupyter\\nbextensions\\latex_envs\\latex_envs.yaml\n",
      "[I 15:26:45 InstallContribNbextensionsApp] Copying: c:\\users\\melod\\anaconda3\\envs\\learn-env\\lib\\site-packages\\latex_envs\\static\\main_toolbar.png -> C:\\ProgramData\\jupyter\\nbextensions\\latex_envs\\main_toolbar.png\n",
      "[I 15:26:45 InstallContribNbextensionsApp] Copying: c:\\users\\melod\\anaconda3\\envs\\learn-env\\lib\\site-packages\\latex_envs\\static\\README.md -> C:\\ProgramData\\jupyter\\nbextensions\\latex_envs\\README.md\n",
      "[I 15:26:45 InstallContribNbextensionsApp] Copying: c:\\users\\melod\\anaconda3\\envs\\learn-env\\lib\\site-packages\\latex_envs\\static\\thmsInNb4.js -> C:\\ProgramData\\jupyter\\nbextensions\\latex_envs\\thmsInNb4.js\n",
      "[I 15:26:45 InstallContribNbextensionsApp] Making directory: C:\\ProgramData\\jupyter\\nbextensions\\latex_envs\\doc\n",
      "[I 15:26:45 InstallContribNbextensionsApp] Copying: c:\\users\\melod\\anaconda3\\envs\\learn-env\\lib\\site-packages\\latex_envs\\static\\doc\\biblio_ipython.bib -> C:\\ProgramData\\jupyter\\nbextensions\\latex_envs\\doc\\biblio_ipython.bib\n",
      "[I 15:26:45 InstallContribNbextensionsApp] Copying: c:\\users\\melod\\anaconda3\\envs\\learn-env\\lib\\site-packages\\latex_envs\\static\\doc\\configuration_toolbar.png -> C:\\ProgramData\\jupyter\\nbextensions\\latex_envs\\doc\\configuration_toolbar.png\n",
      "[I 15:26:45 InstallContribNbextensionsApp] Copying: c:\\users\\melod\\anaconda3\\envs\\learn-env\\lib\\site-packages\\latex_envs\\static\\doc\\config_toolbar.png -> C:\\ProgramData\\jupyter\\nbextensions\\latex_envs\\doc\\config_toolbar.png\n",
      "[I 15:26:45 InstallContribNbextensionsApp] Copying: c:\\users\\melod\\anaconda3\\envs\\learn-env\\lib\\site-packages\\latex_envs\\static\\doc\\documentation.pdf -> C:\\ProgramData\\jupyter\\nbextensions\\latex_envs\\doc\\documentation.pdf\n",
      "[I 15:26:45 InstallContribNbextensionsApp] Copying: c:\\users\\melod\\anaconda3\\envs\\learn-env\\lib\\site-packages\\latex_envs\\static\\doc\\documentation.tex -> C:\\ProgramData\\jupyter\\nbextensions\\latex_envs\\doc\\documentation.tex\n",
      "[I 15:26:45 InstallContribNbextensionsApp] Copying: c:\\users\\melod\\anaconda3\\envs\\learn-env\\lib\\site-packages\\latex_envs\\static\\doc\\example.png -> C:\\ProgramData\\jupyter\\nbextensions\\latex_envs\\doc\\example.png\n",
      "[I 15:26:45 InstallContribNbextensionsApp] Copying: c:\\users\\melod\\anaconda3\\envs\\learn-env\\lib\\site-packages\\latex_envs\\static\\doc\\header.tex -> C:\\ProgramData\\jupyter\\nbextensions\\latex_envs\\doc\\header.tex\n",
      "[I 15:26:45 InstallContribNbextensionsApp] Copying: c:\\users\\melod\\anaconda3\\envs\\learn-env\\lib\\site-packages\\latex_envs\\static\\doc\\IEEEtran.bst -> C:\\ProgramData\\jupyter\\nbextensions\\latex_envs\\doc\\IEEEtran.bst\n",
      "[I 15:26:45 InstallContribNbextensionsApp] Copying: c:\\users\\melod\\anaconda3\\envs\\learn-env\\lib\\site-packages\\latex_envs\\static\\doc\\LaTeX_envs_menu.png -> C:\\ProgramData\\jupyter\\nbextensions\\latex_envs\\doc\\LaTeX_envs_menu.png\n",
      "[I 15:26:45 InstallContribNbextensionsApp] Copying: c:\\users\\melod\\anaconda3\\envs\\learn-env\\lib\\site-packages\\latex_envs\\static\\doc\\latex_env_doc.html -> C:\\ProgramData\\jupyter\\nbextensions\\latex_envs\\doc\\latex_env_doc.html\n",
      "[I 15:26:45 InstallContribNbextensionsApp] Copying: c:\\users\\melod\\anaconda3\\envs\\learn-env\\lib\\site-packages\\latex_envs\\static\\doc\\latex_env_doc.ipynb -> C:\\ProgramData\\jupyter\\nbextensions\\latex_envs\\doc\\latex_env_doc.ipynb\n",
      "[I 15:26:45 InstallContribNbextensionsApp] Copying: c:\\users\\melod\\anaconda3\\envs\\learn-env\\lib\\site-packages\\latex_envs\\static\\doc\\latex_env_doc.tex -> C:\\ProgramData\\jupyter\\nbextensions\\latex_envs\\doc\\latex_env_doc.tex\n",
      "[I 15:26:45 InstallContribNbextensionsApp] Copying: c:\\users\\melod\\anaconda3\\envs\\learn-env\\lib\\site-packages\\latex_envs\\static\\doc\\main_toolbar.png -> C:\\ProgramData\\jupyter\\nbextensions\\latex_envs\\doc\\main_toolbar.png\n",
      "[I 15:26:45 InstallContribNbextensionsApp] Copying: c:\\users\\melod\\anaconda3\\envs\\learn-env\\lib\\site-packages\\latex_envs\\static\\doc\\README.md -> C:\\ProgramData\\jupyter\\nbextensions\\latex_envs\\doc\\README.md\n",
      "[I 15:26:45 InstallContribNbextensionsApp] Copying: c:\\users\\melod\\anaconda3\\envs\\learn-env\\lib\\site-packages\\latex_envs\\static\\doc\\Toggles.png -> C:\\ProgramData\\jupyter\\nbextensions\\latex_envs\\doc\\Toggles.png\n",
      "[I 15:26:45 InstallContribNbextensionsApp] Making directory: C:\\ProgramData\\jupyter\\nbextensions\\latex_envs\\doc\\.ipynb_checkpoints\n",
      "[I 15:26:45 InstallContribNbextensionsApp] Copying: c:\\users\\melod\\anaconda3\\envs\\learn-env\\lib\\site-packages\\latex_envs\\static\\doc\\.ipynb_checkpoints\\latex_env_doc-checkpoint.ipynb -> C:\\ProgramData\\jupyter\\nbextensions\\latex_envs\\doc\\.ipynb_checkpoints\\latex_env_doc-checkpoint.ipynb\n",
      "[I 15:26:45 InstallContribNbextensionsApp] Making directory: C:\\ProgramData\\jupyter\\nbextensions\\latex_envs\\doc\\latex_env_doc_files\n",
      "[I 15:26:45 InstallContribNbextensionsApp] Copying: c:\\users\\melod\\anaconda3\\envs\\learn-env\\lib\\site-packages\\latex_envs\\static\\doc\\latex_env_doc_files\\latex_env_doc_23_2.png -> C:\\ProgramData\\jupyter\\nbextensions\\latex_envs\\doc\\latex_env_doc_files\\latex_env_doc_23_2.png\n",
      "[I 15:26:45 InstallContribNbextensionsApp] Copying: c:\\users\\melod\\anaconda3\\envs\\learn-env\\lib\\site-packages\\latex_envs\\static\\doc\\latex_env_doc_files\\latex_env_doc_24_2.png -> C:\\ProgramData\\jupyter\\nbextensions\\latex_envs\\doc\\latex_env_doc_files\\latex_env_doc_24_2.png\n",
      "[I 15:26:45 InstallContribNbextensionsApp] Copying: c:\\users\\melod\\anaconda3\\envs\\learn-env\\lib\\site-packages\\latex_envs\\static\\doc\\latex_env_doc_files\\latex_env_doc_26_2.png -> C:\\ProgramData\\jupyter\\nbextensions\\latex_envs\\doc\\latex_env_doc_files\\latex_env_doc_26_2.png\n",
      "[I 15:26:45 InstallContribNbextensionsApp] Copying: c:\\users\\melod\\anaconda3\\envs\\learn-env\\lib\\site-packages\\latex_envs\\static\\doc\\latex_env_doc_files\\latex_env_doc_27_2.png -> C:\\ProgramData\\jupyter\\nbextensions\\latex_envs\\doc\\latex_env_doc_files\\latex_env_doc_27_2.png\n",
      "[I 15:26:45 InstallContribNbextensionsApp] Copying: c:\\users\\melod\\anaconda3\\envs\\learn-env\\lib\\site-packages\\latex_envs\\static\\doc\\latex_env_doc_files\\latex_env_doc_41_0.png -> C:\\ProgramData\\jupyter\\nbextensions\\latex_envs\\doc\\latex_env_doc_files\\latex_env_doc_41_0.png\n",
      "[I 15:26:45 InstallContribNbextensionsApp] Copying: c:\\users\\melod\\anaconda3\\envs\\learn-env\\lib\\site-packages\\latex_envs\\static\\doc\\latex_env_doc_files\\latex_env_doc_42_0.png -> C:\\ProgramData\\jupyter\\nbextensions\\latex_envs\\doc\\latex_env_doc_files\\latex_env_doc_42_0.png\n",
      "[I 15:26:45 InstallContribNbextensionsApp] Copying: c:\\users\\melod\\anaconda3\\envs\\learn-env\\lib\\site-packages\\latex_envs\\static\\doc\\latex_env_doc_files\\latex_env_doc_43_0.png -> C:\\ProgramData\\jupyter\\nbextensions\\latex_envs\\doc\\latex_env_doc_files\\latex_env_doc_43_0.png\n",
      "[I 15:26:45 InstallContribNbextensionsApp] Copying: c:\\users\\melod\\anaconda3\\envs\\learn-env\\lib\\site-packages\\latex_envs\\static\\doc\\latex_env_doc_files\\latex_env_doc_44_0.png -> C:\\ProgramData\\jupyter\\nbextensions\\latex_envs\\doc\\latex_env_doc_files\\latex_env_doc_44_0.png\n",
      "[I 15:26:45 InstallContribNbextensionsApp] Copying: c:\\users\\melod\\anaconda3\\envs\\learn-env\\lib\\site-packages\\latex_envs\\static\\doc\\latex_env_doc_files\\latex_env_doc_45_0.png -> C:\\ProgramData\\jupyter\\nbextensions\\latex_envs\\doc\\latex_env_doc_files\\latex_env_doc_45_0.png\n",
      "[I 15:26:45 InstallContribNbextensionsApp] Copying: c:\\users\\melod\\anaconda3\\envs\\learn-env\\lib\\site-packages\\latex_envs\\static\\doc\\latex_env_doc_files\\latex_env_doc_46_0.png -> C:\\ProgramData\\jupyter\\nbextensions\\latex_envs\\doc\\latex_env_doc_files\\latex_env_doc_46_0.png\n",
      "[I 15:26:45 InstallContribNbextensionsApp] Copying: c:\\users\\melod\\anaconda3\\envs\\learn-env\\lib\\site-packages\\latex_envs\\static\\doc\\latex_env_doc_files\\latex_env_doc_47_0.png -> C:\\ProgramData\\jupyter\\nbextensions\\latex_envs\\doc\\latex_env_doc_files\\latex_env_doc_47_0.png\n",
      "[I 15:26:45 InstallContribNbextensionsApp] Copying: c:\\users\\melod\\anaconda3\\envs\\learn-env\\lib\\site-packages\\latex_envs\\static\\doc\\latex_env_doc_files\\latex_env_doc_48_0.png -> C:\\ProgramData\\jupyter\\nbextensions\\latex_envs\\doc\\latex_env_doc_files\\latex_env_doc_48_0.png\n",
      "[I 15:26:45 InstallContribNbextensionsApp] Copying: c:\\users\\melod\\anaconda3\\envs\\learn-env\\lib\\site-packages\\latex_envs\\static\\doc\\latex_env_doc_files\\latex_env_doc_49_0.png -> C:\\ProgramData\\jupyter\\nbextensions\\latex_envs\\doc\\latex_env_doc_files\\latex_env_doc_49_0.png\n",
      "[I 15:26:45 InstallContribNbextensionsApp] Copying: c:\\users\\melod\\anaconda3\\envs\\learn-env\\lib\\site-packages\\latex_envs\\static\\doc\\latex_env_doc_files\\latex_env_doc_50_0.png -> C:\\ProgramData\\jupyter\\nbextensions\\latex_envs\\doc\\latex_env_doc_files\\latex_env_doc_50_0.png\n",
      "[I 15:26:45 InstallContribNbextensionsApp] Copying: c:\\users\\melod\\anaconda3\\envs\\learn-env\\lib\\site-packages\\latex_envs\\static\\doc\\latex_env_doc_files\\latex_env_doc_51_0.png -> C:\\ProgramData\\jupyter\\nbextensions\\latex_envs\\doc\\latex_env_doc_files\\latex_env_doc_51_0.png\n",
      "[I 15:26:45 InstallContribNbextensionsApp] Copying: c:\\users\\melod\\anaconda3\\envs\\learn-env\\lib\\site-packages\\latex_envs\\static\\doc\\latex_env_doc_files\\latex_env_doc_52_0.png -> C:\\ProgramData\\jupyter\\nbextensions\\latex_envs\\doc\\latex_env_doc_files\\latex_env_doc_52_0.png\n",
      "[I 15:26:45 InstallContribNbextensionsApp] - Validating: ok\n",
      "[I 15:26:45 InstallContribNbextensionsApp] Installing jupyter_contrib_nbextensions items to config in C:\\ProgramData\\jupyter\n",
      "Enabling: jupyter_nbextensions_configurator\n",
      "- Writing config: C:\\ProgramData\\jupyter\n",
      "    - Validating...\n",
      "      jupyter_nbextensions_configurator  ok\n",
      "Enabling notebook nbextension nbextensions_configurator/config_menu/main...\n",
      "Enabling tree nbextension nbextensions_configurator/tree_tab/main...\n",
      "[I 15:26:45 InstallContribNbextensionsApp] Enabling notebook extension contrib_nbextensions_help_item/main...\n",
      "[I 15:26:45 InstallContribNbextensionsApp]       - Validating: ok\n",
      "[I 15:26:45 InstallContribNbextensionsApp] - Editing config: C:\\ProgramData\\jupyter\\jupyter_nbconvert_config.json\n",
      "[I 15:26:45 InstallContribNbextensionsApp] --  Configuring nbconvert template path\n",
      "[I 15:26:45 InstallContribNbextensionsApp] --  Configuring nbconvert preprocessors\n",
      "[I 15:26:45 InstallContribNbextensionsApp] - Writing config: C:\\ProgramData\\jupyter\\jupyter_nbconvert_config.json\n",
      "[I 15:26:45 InstallContribNbextensionsApp] --  Writing updated config file C:\\ProgramData\\jupyter\\jupyter_nbconvert_config.json\n"
     ]
    }
   ],
   "source": [
    "import numpy as np\n",
    "import pandas as pd\n",
    "!pip install jupyter_contrib_nbextensions && jupyter contrib nbextension install "
   ]
  },
  {
   "cell_type": "code",
   "execution_count": 3,
   "metadata": {
    "hidden": true
   },
   "outputs": [],
   "source": [
    "car_df = pd.read_csv('http://faculty.marshall.usc.edu/gareth-james/ISL/Auto.csv', na_values='?')"
   ]
  },
  {
   "cell_type": "code",
   "execution_count": null,
   "metadata": {
    "hidden": true
   },
   "outputs": [],
   "source": [
    "car_df.head()"
   ]
  },
  {
   "cell_type": "code",
   "execution_count": null,
   "metadata": {
    "hidden": true
   },
   "outputs": [],
   "source": [
    "car_df.describe()"
   ]
  },
  {
   "cell_type": "markdown",
   "metadata": {
    "hidden": true
   },
   "source": [
    "### a) Broadcasting simple operations\n",
    "\n",
    "i.e. convert `year` into its full year by adding `1900` to each value (we're assuming that the year range of 70-82 is in the 1900s)"
   ]
  },
  {
   "cell_type": "code",
   "execution_count": null,
   "metadata": {
    "hidden": true
   },
   "outputs": [],
   "source": [
    "car_df['year'] + 1900 # not destructive, we'd have to reassign the new values"
   ]
  },
  {
   "cell_type": "markdown",
   "metadata": {
    "hidden": true
   },
   "source": [
    "### b) Boolean masking\n",
    "\n",
    "(also useful to understand this for filtering dataframes)"
   ]
  },
  {
   "cell_type": "code",
   "execution_count": null,
   "metadata": {
    "hidden": true
   },
   "outputs": [],
   "source": [
    "car_df[['mpg', 'cylinders', 'displacement']] # % 2 == 0"
   ]
  },
  {
   "cell_type": "code",
   "execution_count": null,
   "metadata": {
    "hidden": true
   },
   "outputs": [],
   "source": [
    "car_df['weight'] > 2800 # outputs a series of booleans\n",
    "# showing whether each value meets the condition set"
   ]
  },
  {
   "cell_type": "markdown",
   "metadata": {
    "hidden": true
   },
   "source": [
    "We can use this to create new, perhaps more useful columns!"
   ]
  },
  {
   "cell_type": "code",
   "execution_count": null,
   "metadata": {
    "hidden": true
   },
   "outputs": [],
   "source": [
    "car_df['heavy'] = car_df['weight'] > 2800"
   ]
  },
  {
   "cell_type": "code",
   "execution_count": null,
   "metadata": {
    "hidden": true
   },
   "outputs": [],
   "source": [
    "car_df.head()"
   ]
  },
  {
   "cell_type": "markdown",
   "metadata": {
    "hidden": true
   },
   "source": [
    "### c. The `.map()` function\n",
    "\n",
    "`.map()` only works on Series, or on single columns!\n",
    "\n",
    "You can supply a condition directly into the lambda, or define specific functions."
   ]
  },
  {
   "cell_type": "code",
   "execution_count": null,
   "metadata": {
    "hidden": true
   },
   "outputs": [],
   "source": [
    "car_df['year'].map(lambda y: y < 80)"
   ]
  },
  {
   "cell_type": "code",
   "execution_count": null,
   "metadata": {
    "hidden": true
   },
   "outputs": [],
   "source": [
    "# tangent - for car names - let's see what names exist\n",
    "# unique(), nunique(), value_counts()\n",
    "car_df['name']"
   ]
  },
  {
   "cell_type": "code",
   "execution_count": null,
   "metadata": {
    "hidden": true
   },
   "outputs": [],
   "source": [
    "car_df['name'].map(lambda n: 'ford' in n)"
   ]
  },
  {
   "cell_type": "code",
   "execution_count": null,
   "metadata": {
    "hidden": true
   },
   "outputs": [],
   "source": [
    "# for non-Boolean outputs, you can define a function to feed into the lambda\n",
    "\n",
    "def car_brand(value):\n",
    "    if 'ford' in value:\n",
    "        return 'Ford'\n",
    "    elif 'buick' in value:\n",
    "        return 'Buick'\n",
    "    elif 'chevrolet' in value:\n",
    "        return 'Chevrolet'\n",
    "    else:\n",
    "        return 'Other'\n",
    "    "
   ]
  },
  {
   "cell_type": "code",
   "execution_count": null,
   "metadata": {
    "hidden": true
   },
   "outputs": [],
   "source": [
    "car_df['name'].map(lambda n: car_brand(n))"
   ]
  },
  {
   "cell_type": "markdown",
   "metadata": {
    "hidden": true
   },
   "source": [
    "### d. The `.apply()` function\n",
    "\n",
    "This works on a DataFrame, or on multiple columns of your DataFrame.\n",
    "\n",
    "\n",
    "Before that, `applymap()`, **a different method**, is like `.map()` but you can do functions across multiple columns or on an entire DataFrame. \n",
    "\n",
    "\n",
    "i.e. turning all your data into strings"
   ]
  },
  {
   "cell_type": "code",
   "execution_count": null,
   "metadata": {
    "hidden": true
   },
   "outputs": [],
   "source": [
    "car_df.applymap(lambda value: str(value)) # ['displacement']\n",
    "\n",
    "# remember this isn't destructive until you reassign it to the variable!"
   ]
  },
  {
   "cell_type": "code",
   "execution_count": null,
   "metadata": {
    "hidden": true
   },
   "outputs": [],
   "source": [
    "car_df.columns"
   ]
  },
  {
   "cell_type": "markdown",
   "metadata": {
    "hidden": true
   },
   "source": [
    "`.apply()` allows us to perform specific functions that take different columns as inputs. For example, if we want to engineer a new variable that's some combination of other variables. I usually define the function I want to use in `.apply()` taking in a row as its argument.\n",
    "\n",
    "\n",
    "Let's create a variable that finds the horsepower per weight of the car."
   ]
  },
  {
   "cell_type": "code",
   "execution_count": null,
   "metadata": {
    "hidden": true
   },
   "outputs": [],
   "source": [
    "def horsepower_per_weight(row):\n",
    "    return row['horsepower']/row['weight']"
   ]
  },
  {
   "cell_type": "code",
   "execution_count": null,
   "metadata": {
    "hidden": true
   },
   "outputs": [],
   "source": [
    "car_df.apply(lambda r: horsepower_per_weight(r), axis=1) # axis = 1 is for columns"
   ]
  },
  {
   "cell_type": "markdown",
   "metadata": {
    "heading_collapsed": true
   },
   "source": [
    "## `groupby()` methods for aggregation\n",
    "\n",
    "To get aggregated information about subsets of your data. Pretty much every time you use a groupby, you have to pair it with an aggregation function.\n",
    "\n",
    "\n",
    "Some common aggregations:\n",
    "* `.min()`: returns the minimum value for each column by group  \n",
    "* `.max()`: returns the maximum value for each column by group  \n",
    "* `.mean()`: returns the average value for each column by group  \n",
    "* `.median()`: returns the median value for each column by group  \n",
    "* `.count()`: returns the count of each column by group"
   ]
  },
  {
   "cell_type": "code",
   "execution_count": null,
   "metadata": {
    "hidden": true
   },
   "outputs": [],
   "source": [
    "car_df.head()"
   ]
  },
  {
   "cell_type": "code",
   "execution_count": null,
   "metadata": {
    "hidden": true
   },
   "outputs": [],
   "source": [
    "car_df.groupby('cylinders').mean()"
   ]
  },
  {
   "cell_type": "markdown",
   "metadata": {},
   "source": [
    "## Combining DataFrames"
   ]
  },
  {
   "cell_type": "markdown",
   "metadata": {},
   "source": [
    "### `pd.concat()` and `pd.join()`\n",
    "\n",
    "`pd.concat` stacks DataFrames together while maintaining columns or index.\n",
    "\n",
    "https://pandas.pydata.org/pandas-docs/stable/reference/api/pandas.concat.html"
   ]
  },
  {
   "cell_type": "code",
   "execution_count": null,
   "metadata": {},
   "outputs": [],
   "source": [
    "df1 = pd.DataFrame({'A': ['A0', 'A1', 'A2', 'A3'],\n",
    "                    'B': ['B0', 'B1', 'B2', 'B3'],\n",
    "                    'C': ['C0', 'C1', 'C2', 'C3'],\n",
    "                    'D': ['D0', 'D1', 'D2', 'D3']},\n",
    "                    index=[0, 1, 2, 3])\n",
    "\n",
    "\n",
    "df2 = pd.DataFrame({'A': ['A4', 'A5', 'A6', 'A7'],\n",
    "                    'B': ['B4', 'B5', 'B6', 'B7'],\n",
    "                    'C': ['C4', 'C5', 'C6', 'C7'],\n",
    "                    'D': ['D4', 'D5', 'D6', 'D7']},\n",
    "                    index=[4, 5, 6, 7])\n",
    "\n",
    "df3 = pd.DataFrame({'A': ['A8', 'A9', 'A10', 'A11'],\n",
    "                    'B': ['B8', 'B9', 'B10', 'B11'],\n",
    "                    'C': ['C8', 'C9', 'C10', 'C11'], \n",
    "                    'D': ['D8', 'D9', 'D10', 'D11']},\n",
    "                    index=[8, 9, 10, 11])"
   ]
  },
  {
   "cell_type": "code",
   "execution_count": null,
   "metadata": {},
   "outputs": [],
   "source": [
    "df1"
   ]
  },
  {
   "cell_type": "code",
   "execution_count": null,
   "metadata": {},
   "outputs": [],
   "source": [
    "df2"
   ]
  },
  {
   "cell_type": "code",
   "execution_count": null,
   "metadata": {},
   "outputs": [],
   "source": [
    "df3"
   ]
  },
  {
   "cell_type": "code",
   "execution_count": null,
   "metadata": {},
   "outputs": [],
   "source": [
    "pd.concat([df1, df2, df3])"
   ]
  },
  {
   "cell_type": "code",
   "execution_count": null,
   "metadata": {
    "scrolled": true
   },
   "outputs": [],
   "source": [
    "df4 = pd.DataFrame({'B': ['B2', 'B3', 'B6', 'B7'],\n",
    "                    'D': ['D2', 'D3', 'D6', 'D7'],\n",
    "                    'F': ['F2', 'F3', 'F6', 'F7']},\n",
    "                    index=[2, 3, 6, 7])\n",
    "df4"
   ]
  },
  {
   "cell_type": "code",
   "execution_count": null,
   "metadata": {},
   "outputs": [],
   "source": [
    "df1"
   ]
  },
  {
   "cell_type": "code",
   "execution_count": null,
   "metadata": {},
   "outputs": [],
   "source": [
    "pd.concat([df1, df4], join='inner', axis=1) "
   ]
  },
  {
   "cell_type": "markdown",
   "metadata": {},
   "source": [
    "You can supply the `join` argument to `pd.concat`, but Pandas also has a `.join()` method that can be used interchangably in most cases.\n",
    "\n",
    "https://pandas.pydata.org/pandas-docs/stable/reference/api/pandas.DataFrame.join.html#pandas.DataFrame.join\n",
    "\n",
    "\n",
    "There are 4 main types of joins: inner, left, right and outer. This is the same kind of join that SQL uses! https://www.w3schools.com/sql/sql_join.asp\n",
    "\n",
    "- An inner join only keeps the rows that have indexes in both tables.\n",
    "- Left join keeps all rows in the left table and supplements that information with info from the right table\n",
    "- Right join does the opposite of a left join\n",
    "- Outer join returns a combination of all rows\n",
    "\n",
    "Also, `pd.merge` exists: https://pandas.pydata.org/pandas-docs/stable/reference/api/pandas.DataFrame.merge.html#pandas.DataFrame.merge"
   ]
  },
  {
   "cell_type": "code",
   "execution_count": null,
   "metadata": {},
   "outputs": [],
   "source": [
    "pd.concat([df1, df4], join='outer', axis=1) "
   ]
  },
  {
   "cell_type": "code",
   "execution_count": null,
   "metadata": {
    "scrolled": true
   },
   "outputs": [],
   "source": [
    "df1.join(df4, how='left', rsuffix='4') # why do we need the rsuffix???"
   ]
  },
  {
   "cell_type": "markdown",
   "metadata": {},
   "source": [
    "## Missing Data\n",
    "\n",
    "Definitely read up on the different ways you can go about filling in missing data.\n",
    "\n",
    "`df.isna()`, `df.fillna()`\n",
    "\n",
    "https://pandas.pydata.org/pandas-docs/stable/reference/api/pandas.DataFrame.fillna.html"
   ]
  },
  {
   "cell_type": "code",
   "execution_count": null,
   "metadata": {
    "scrolled": true
   },
   "outputs": [],
   "source": [
    "test = pd.concat([df1, df4], join='outer', axis=1).drop(['B', 'D'], axis=1)\n",
    "test"
   ]
  },
  {
   "cell_type": "code",
   "execution_count": null,
   "metadata": {},
   "outputs": [],
   "source": [
    "test.isna().sum()"
   ]
  },
  {
   "cell_type": "code",
   "execution_count": null,
   "metadata": {},
   "outputs": [],
   "source": [
    "test.fillna(0)"
   ]
  },
  {
   "cell_type": "code",
   "execution_count": null,
   "metadata": {},
   "outputs": [],
   "source": [
    "# filling NaNs per column\n",
    "na_values_per_column = {'A': 3, 'C': 2, 'F': 4}\n",
    "test.fillna(value=na_values_per_column)"
   ]
  },
  {
   "cell_type": "markdown",
   "metadata": {},
   "source": [
    "## To-Do:\n",
    "\n",
    "- Attempt `Project: Data Cleaning - Lab`"
   ]
  }
 ],
 "metadata": {
  "kernelspec": {
   "display_name": "Python 3",
   "language": "python",
   "name": "python3"
  },
  "toc": {
   "base_numbering": 1,
   "nav_menu": {},
   "number_sections": false,
   "sideBar": true,
   "skip_h1_title": false,
   "title_cell": "Table of Contents",
   "title_sidebar": "Contents",
   "toc_cell": false,
   "toc_position": {
    "height": "calc(100% - 180px)",
    "left": "10px",
    "top": "150px",
    "width": "297.912px"
   },
   "toc_section_display": true,
   "toc_window_display": true
  },
  "varInspector": {
   "cols": {
    "lenName": 16,
    "lenType": 16,
    "lenVar": 40
   },
   "kernels_config": {
    "python": {
     "delete_cmd_postfix": "",
     "delete_cmd_prefix": "del ",
     "library": "var_list.py",
     "varRefreshCmd": "print(var_dic_list())"
    },
    "r": {
     "delete_cmd_postfix": ") ",
     "delete_cmd_prefix": "rm(",
     "library": "var_list.r",
     "varRefreshCmd": "cat(var_dic_list()) "
    }
   },
   "types_to_exclude": [
    "module",
    "function",
    "builtin_function_or_method",
    "instance",
    "_Feature"
   ],
   "window_display": false
  }
 },
 "nbformat": 4,
 "nbformat_minor": 4
}
