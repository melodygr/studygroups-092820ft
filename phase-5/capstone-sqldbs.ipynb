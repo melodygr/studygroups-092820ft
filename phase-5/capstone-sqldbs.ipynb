{
 "cells": [
  {
   "cell_type": "markdown",
   "metadata": {},
   "source": [
    "# Creating SQL Databases\n",
    "\n",
    "### See Your Tables\n",
    "\n",
    "* https://www.mysql.com/products/workbench/\n",
    "* https://dbeaver.io/\n",
    "\n",
    "\n",
    "### Schemas\n",
    "\n",
    "https://dbdiagram.io/home\n",
    "\n",
    "Creating SQL DBs in a few ways!! \n",
    "\n",
    "1. Pandas' `.to_sql` method\n",
    "2. Manually via cursor and `INSERT INTO`\n",
    "3. On an AWS RDB"
   ]
  },
  {
   "cell_type": "code",
   "execution_count": null,
   "metadata": {},
   "outputs": [],
   "source": [
    "import pandas as pd"
   ]
  },
  {
   "cell_type": "code",
   "execution_count": null,
   "metadata": {},
   "outputs": [],
   "source": [
    "# importing our sample data\n",
    "\n",
    "customers = pd.read_csv('data/customers.csv')\n",
    "order_details = pd.read_csv('data/orderdetails.csv')\n",
    "orders = pd.read_csv('data/orders.csv')\n",
    "products = pd.read_csv('data/products.csv')\n",
    "\n",
    "display(customers.head(), order_details.head())"
   ]
  },
  {
   "cell_type": "markdown",
   "metadata": {},
   "source": [
    "## Using Pandas' `.to_sql()` method"
   ]
  },
  {
   "cell_type": "code",
   "execution_count": null,
   "metadata": {},
   "outputs": [],
   "source": [
    "from sqlalchemy import create_engine\n",
    "\n",
    "# must start with 'sqlite:///' for a relative path\n",
    "engine = create_engine('sqlite:///sales.db', echo=True) \n",
    "# echo determines whether actions are output"
   ]
  },
  {
   "cell_type": "code",
   "execution_count": null,
   "metadata": {},
   "outputs": [],
   "source": [
    "# as a function\n",
    "def create_sql_table(df, table_name, engine):\n",
    "    df.to_sql(table_name, con=engine, if_exists='replace')"
   ]
  },
  {
   "cell_type": "code",
   "execution_count": null,
   "metadata": {},
   "outputs": [],
   "source": [
    "create_sql_table(customers, 'customers', engine)"
   ]
  },
  {
   "cell_type": "code",
   "execution_count": null,
   "metadata": {},
   "outputs": [],
   "source": [
    "create_sql_table(order_details, 'order_details', engine)"
   ]
  },
  {
   "cell_type": "markdown",
   "metadata": {},
   "source": [
    "### Re-reading in our data"
   ]
  },
  {
   "cell_type": "code",
   "execution_count": null,
   "metadata": {},
   "outputs": [],
   "source": [
    "result = engine.execute('SELECT * FROM customers;')\n",
    "pd.DataFrame(result.fetchall(), columns = result.keys())"
   ]
  },
  {
   "cell_type": "markdown",
   "metadata": {},
   "source": [
    "## AWS RDS (Relational Database System)\n",
    "\n",
    "Note: this database just lives on AWS, you can do this same process on a local database!\n",
    "\n",
    "Pros and cons of these vs `.to_sql()`:\n",
    "* You can configure your DB more professionally\n",
    "* Fairly manual process\n",
    "\n",
    "Setting up a database instance: https://aws.amazon.com/getting-started/hands-on/create-mysql-db/ \n",
    "\n",
    "**It is extremely important that you read all the instructions in the linked page so everything is set up correctly!!!**"
   ]
  },
  {
   "cell_type": "code",
   "execution_count": null,
   "metadata": {},
   "outputs": [],
   "source": [
    "# !pip install mysql-connector-python"
   ]
  },
  {
   "cell_type": "code",
   "execution_count": null,
   "metadata": {},
   "outputs": [],
   "source": [
    "import mysql.connector\n",
    "from mysql.connector import errorcode"
   ]
  },
  {
   "cell_type": "code",
   "execution_count": null,
   "metadata": {},
   "outputs": [],
   "source": [
    "# connecting to your database\n",
    "cnx = mysql.connector.connect(\n",
    "    host = 'test-db1.cpizore09tpz.us-east-2.rds.amazonaws.com',\n",
    "    user = 'admin',\n",
    "    passwd = 'testing123'\n",
    ")\n",
    "\n",
    "# cursor so we can interact with the db\n",
    "cursor = cnx.cursor()"
   ]
  },
  {
   "cell_type": "code",
   "execution_count": null,
   "metadata": {},
   "outputs": [],
   "source": [
    "cursor.execute(\"DROP DATABASE sales;\")"
   ]
  },
  {
   "cell_type": "code",
   "execution_count": null,
   "metadata": {},
   "outputs": [],
   "source": [
    "# creating your database\n",
    "\n",
    "db_name = 'sales'\n",
    "\n",
    "def create_database(cursor, database):\n",
    "    try:\n",
    "        cursor.execute(\n",
    "            \"CREATE DATABASE {} DEFAULT CHARACTER SET 'utf8'\".format(database))\n",
    "    except mysql.connector.Error as err:\n",
    "        print(\"Failed creating database: {}\".format(err))\n",
    "        exit(1)"
   ]
  },
  {
   "cell_type": "code",
   "execution_count": null,
   "metadata": {},
   "outputs": [],
   "source": [
    "try:\n",
    "    cursor.execute(\"USE {}\".format(db_name))\n",
    "except mysql.connector.Error as err:\n",
    "    print(\"Database {} does not exist.\".format(db_name))\n",
    "    if err.errno == errorcode.ER_BAD_DB_ERROR:\n",
    "        create_database(cursor, db_name)\n",
    "        print(\"Database {} created successfully.\".format(db_name))\n",
    "        cnx.database = db_name\n",
    "    else:\n",
    "        print(err)\n",
    "        exit(1)\n",
    "        \n",
    "cursor.close()\n",
    "cnx.close()"
   ]
  },
  {
   "cell_type": "code",
   "execution_count": null,
   "metadata": {},
   "outputs": [],
   "source": [
    "# creating tables\n",
    "\n",
    "TABLES = {}\n",
    "TABLES['customers'] = (\n",
    "        \"CREATE TABLE customers (\"\n",
    "        \" customerNumber int(11) NOT NULL,\"\n",
    "        \" customerName varchar(64) NOT NULL,\"\n",
    "        \" contactLastName varchar(16) NOT NULL,\"\n",
    "        \" contactFirstName varchar(16) NOT NULL,\"\n",
    "        \" phone varchar(16) NOT NULL,\"\n",
    "        \" addressLine1 varchar(64) NOT NULL,\"\n",
    "        \" addressLine2 varchar(64) NOT NULL,\"\n",
    "        \" city varchar(64) NOT NULL,\"\n",
    "        \" state varchar(64) NOT NULL,\"\n",
    "        \" postalCode int(10) NOT NULL,\"\n",
    "        \" country varchar(64) NOT NULL,\"\n",
    "        \" salesRepEmployeeNumber int(11) NOT NULL,\"\n",
    "        \" creditLimit int(11) NOT NULL) ENGINE=InnoDB\"\n",
    ")\n",
    "\n"
   ]
  },
  {
   "cell_type": "code",
   "execution_count": null,
   "metadata": {},
   "outputs": [],
   "source": [
    "customers.head()"
   ]
  },
  {
   "cell_type": "code",
   "execution_count": null,
   "metadata": {},
   "outputs": [],
   "source": [
    "print(TABLES['customers'])"
   ]
  },
  {
   "cell_type": "code",
   "execution_count": null,
   "metadata": {},
   "outputs": [],
   "source": [
    "# connecting to your database\n",
    "cnx = mysql.connector.connect(\n",
    "    host = 'test-db1.cpizore09tpz.us-east-2.rds.amazonaws.com',\n",
    "    user = 'admin',\n",
    "    passwd = 'testing123',\n",
    "    database = 'sales'\n",
    ")\n",
    "\n",
    "# cursor so we can interact with the db\n",
    "cursor = cnx.cursor()"
   ]
  },
  {
   "cell_type": "code",
   "execution_count": null,
   "metadata": {},
   "outputs": [],
   "source": [
    "for table_name in TABLES:\n",
    "    table_description = TABLES[table_name]\n",
    "    try:\n",
    "        print(\"Creating table {}: \".format(table_name), end='')\n",
    "        cursor.execute(table_description)\n",
    "    except mysql.connector.Error as err:\n",
    "        if err.errno == errorcode.ER_TABLE_EXISTS_ERROR:\n",
    "            print(\"already exists.\")\n",
    "        else:\n",
    "            print(err.msg)\n",
    "    else:\n",
    "        print(\"OK\")\n",
    "\n",
    "cursor.close()\n",
    "cnx.close()"
   ]
  },
  {
   "cell_type": "markdown",
   "metadata": {},
   "source": [
    "### Inserting Data"
   ]
  },
  {
   "cell_type": "code",
   "execution_count": null,
   "metadata": {},
   "outputs": [],
   "source": [
    "customers.columns"
   ]
  },
  {
   "cell_type": "code",
   "execution_count": null,
   "metadata": {},
   "outputs": [],
   "source": [
    "insert = (\"INSERT INTO customers (customerNumber, \"\n",
    "\"customerName, contactLastName, contactFirstName, phone, \"\n",
    "\"addressLine1, addressLine2, city, state, postalCode, \"\n",
    "\"country, salesRepEmployeeNumber, creditLimit) VALUES \"\n",
    "\"(%s, %s, %s, %s, %s, %s, %s, %s, %s, %s, %s, %s, %s)\")"
   ]
  },
  {
   "cell_type": "code",
   "execution_count": null,
   "metadata": {},
   "outputs": [],
   "source": [
    "insert"
   ]
  },
  {
   "cell_type": "code",
   "execution_count": null,
   "metadata": {},
   "outputs": [],
   "source": [
    "customers = customers.dropna()\n",
    "customers['salesRepEmployeeNumber'] = customers['salesRepEmployeeNumber'].astype(int)\n",
    "customers = customers.applymap(str)"
   ]
  },
  {
   "cell_type": "code",
   "execution_count": null,
   "metadata": {
    "scrolled": true
   },
   "outputs": [],
   "source": [
    "customers.head()"
   ]
  },
  {
   "cell_type": "code",
   "execution_count": null,
   "metadata": {
    "scrolled": true
   },
   "outputs": [],
   "source": [
    "first = tuple(customers.iloc[0].values)\n",
    "first"
   ]
  },
  {
   "cell_type": "code",
   "execution_count": null,
   "metadata": {},
   "outputs": [],
   "source": [
    "# connecting to your database\n",
    "cnx = mysql.connector.connect(\n",
    "    host = 'test-db1.cpizore09tpz.us-east-2.rds.amazonaws.com',\n",
    "    user = 'admin',\n",
    "    passwd = 'testing123',\n",
    "    database = 'sales'\n",
    ")\n",
    "\n",
    "# cursor so we can interact with the db\n",
    "cursor = cnx.cursor()\n",
    "\n",
    "# this is the insert!\n",
    "cursor.execute(insert, first)\n",
    "\n",
    "# commiting changes and closing the connection\n",
    "cnx.commit()\n",
    "cursor.close()\n",
    "cnx.close()"
   ]
  },
  {
   "cell_type": "code",
   "execution_count": null,
   "metadata": {},
   "outputs": [],
   "source": [
    "data = [tuple(x) for x in customers.to_numpy()]\n",
    "data[0]"
   ]
  },
  {
   "cell_type": "code",
   "execution_count": null,
   "metadata": {},
   "outputs": [],
   "source": [
    "# connecting to your database\n",
    "cnx = mysql.connector.connect(\n",
    "    host = 'test-db1.cpizore09tpz.us-east-2.rds.amazonaws.com',\n",
    "    user = 'admin',\n",
    "    passwd = 'testing123',\n",
    "    database = 'sales'\n",
    ")\n",
    "\n",
    "# cursor so we can interact with the db\n",
    "cursor = cnx.cursor()\n",
    "\n",
    "cursor.executemany(insert, data)\n",
    "\n",
    "cnx.commit()\n",
    "cursor.close()\n",
    "cnx.close()"
   ]
  },
  {
   "cell_type": "code",
   "execution_count": null,
   "metadata": {},
   "outputs": [],
   "source": [
    "# connecting to your database\n",
    "cnx = mysql.connector.connect(\n",
    "    host = 'test-db1.cpizore09tpz.us-east-2.rds.amazonaws.com',\n",
    "    user = 'admin',\n",
    "    passwd = 'testing123',\n",
    "    database = 'sales'\n",
    ")\n",
    "cursor = cnx.cursor()\n",
    "\n",
    "cursor.execute(\"SELECT * FROM customers;\")\n",
    "pd.DataFrame(cursor.fetchall(), columns=[x[0] for x in cursor.description])"
   ]
  },
  {
   "cell_type": "markdown",
   "metadata": {},
   "source": [
    "You can either use the above method to read in your data, or use `pd.read_sql` (e"
   ]
  }
 ],
 "metadata": {
  "kernelspec": {
   "display_name": "Python 3",
   "language": "python",
   "name": "python3"
  },
  "language_info": {
   "codemirror_mode": {
    "name": "ipython",
    "version": 3
   },
   "file_extension": ".py",
   "mimetype": "text/x-python",
   "name": "python",
   "nbconvert_exporter": "python",
   "pygments_lexer": "ipython3",
   "version": "3.7.6"
  },
  "toc": {
   "base_numbering": 1,
   "nav_menu": {},
   "number_sections": false,
   "sideBar": true,
   "skip_h1_title": false,
   "title_cell": "Table of Contents",
   "title_sidebar": "Contents",
   "toc_cell": false,
   "toc_position": {},
   "toc_section_display": true,
   "toc_window_display": true
  }
 },
 "nbformat": 4,
 "nbformat_minor": 4
}
